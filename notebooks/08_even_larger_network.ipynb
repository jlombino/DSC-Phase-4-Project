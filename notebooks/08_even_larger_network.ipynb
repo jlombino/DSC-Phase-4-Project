{
 "cells": [
  {
   "cell_type": "code",
   "execution_count": 1,
   "metadata": {},
   "outputs": [],
   "source": [
    "import keras\n",
    "from keras import models\n",
    "from keras import layers\n",
    "from keras import optimizers\n",
    "from keras import metrics\n",
    "import matplotlib.pyplot as plt"
   ]
  },
  {
   "cell_type": "code",
   "execution_count": 2,
   "metadata": {},
   "outputs": [
    {
     "name": "stdout",
     "output_type": "stream",
     "text": [
      "Found 4173 images belonging to 2 classes.\n",
      "Found 1043 images belonging to 2 classes.\n"
     ]
    }
   ],
   "source": [
    "train_path = '../chest_xray/train'\n",
    "test_path = '../chest_xray/test'\n",
    "\n",
    "train_generator = keras.preprocessing.image.ImageDataGenerator(\n",
    "    rescale=1./255,\n",
    "    validation_split=0.2,\n",
    "    vertical_flip=True,\n",
    "    horizontal_flip=True,\n",
    "    rotation_range=90,\n",
    "    zoom_range=0.5\n",
    ")\n",
    "\n",
    "train_ds = train_generator.flow_from_directory(\n",
    "    train_path,\n",
    "    subset='training',\n",
    "    target_size=(256,256),\n",
    "    class_mode='binary',\n",
    "    seed=42\n",
    ")\n",
    "\n",
    "val_ds = train_generator.flow_from_directory(\n",
    "    train_path,\n",
    "    subset='validation',\n",
    "    target_size=(256,256),\n",
    "    class_mode='binary',\n",
    "    seed=42\n",
    ")"
   ]
  },
  {
   "cell_type": "code",
   "execution_count": 3,
   "metadata": {},
   "outputs": [],
   "source": [
    "model = models.Sequential()\n",
    "\n",
    "model.add(layers.Conv2D(32, (1, 1), activation='relu',padding='same',\n",
    "                        input_shape=(256, 256, 3)))     \n",
    "model.add(layers.Conv2D(32, (1, 1), activation='relu',padding='same'))                \n",
    "model.add(layers.MaxPooling2D((2, 2)))\n",
    "\n",
    "model.add(layers.Conv2D(64, (1, 1), activation='relu',padding='same'))\n",
    "model.add(layers.Conv2D(64, (1, 1), activation='relu',padding='same'))\n",
    "model.add(layers.MaxPooling2D((2, 2)))\n",
    "\n",
    "model.add(layers.Conv2D(128, (1, 1), activation='relu',padding='same'))\n",
    "model.add(layers.Conv2D(128, (1, 1), activation='relu',padding='same'))\n",
    "model.add(layers.MaxPooling2D((2, 2)))\n",
    "\n",
    "model.add(layers.Conv2D(256, (1, 1), activation='relu',padding='same'))\n",
    "model.add(layers.Conv2D(256, (1, 1), activation='relu',padding='same'))\n",
    "model.add(layers.MaxPooling2D((2, 2)))\n",
    "\n",
    "model.add(layers.Flatten())\n",
    "model.add(layers.Dense(512, activation='relu'))\n",
    "model.add(layers.Dropout(rate=0.25))\n",
    "model.add(layers.Dense(256, activation='relu'))\n",
    "model.add(layers.Dropout(rate=0.25))\n",
    "model.add(layers.Dense(128, activation='relu'))\n",
    "model.add(layers.Dropout(rate=0.25))\n",
    "model.add(layers.Dense(64, activation='relu'))\n",
    "model.add(layers.Dropout(rate=0.25))\n",
    "model.add(layers.Dense(32, activation='relu'))\n",
    "model.add(layers.Dense(1, activation='sigmoid'))"
   ]
  },
  {
   "cell_type": "code",
   "execution_count": 4,
   "metadata": {},
   "outputs": [],
   "source": [
    "stop_early = keras.callbacks.EarlyStopping(\n",
    "    monitor='val_loss',\n",
    "    patience=4\n",
    ")\n",
    "\n",
    "checkpoint = keras.callbacks.ModelCheckpoint(\n",
    "    monitor='val_loss',\n",
    "    filepath='save_data/08_even_larger_network/',\n",
    "    save_weights_only=True\n",
    ")\n",
    "\n",
    "callbacks = [stop_early,checkpoint]"
   ]
  },
  {
   "cell_type": "code",
   "execution_count": 5,
   "metadata": {},
   "outputs": [],
   "source": [
    "use_metrics = [metrics.BinaryAccuracy(),\\\n",
    "                metrics.Precision(),\\\n",
    "                metrics.Recall()]\n",
    "\n",
    "model.compile(\n",
    "    loss='binary_crossentropy',\n",
    "    optimizer=optimizers.Adam(),\n",
    "    metrics=[use_metrics]\n",
    ")"
   ]
  },
  {
   "cell_type": "code",
   "execution_count": 6,
   "metadata": {},
   "outputs": [
    {
     "name": "stdout",
     "output_type": "stream",
     "text": [
      "Epoch 1/20\n",
      "131/131 [==============================] - 113s 862ms/step - loss: 0.5797 - binary_accuracy: 0.7340 - precision: 0.7419 - recall: 0.9845 - val_loss: 0.5242 - val_binary_accuracy: 0.7430 - val_precision: 0.7430 - val_recall: 1.0000\n",
      "Epoch 2/20\n",
      "131/131 [==============================] - 112s 856ms/step - loss: 0.4656 - binary_accuracy: 0.7537 - precision: 0.7677 - recall: 0.9584 - val_loss: 0.4997 - val_binary_accuracy: 0.7699 - val_precision: 0.8100 - val_recall: 0.9019\n",
      "Epoch 3/20\n",
      "131/131 [==============================] - 112s 853ms/step - loss: 0.4208 - binary_accuracy: 0.8069 - precision: 0.8474 - recall: 0.9026 - val_loss: 0.4487 - val_binary_accuracy: 0.7939 - val_precision: 0.8763 - val_recall: 0.8413\n",
      "Epoch 4/20\n",
      "131/131 [==============================] - 112s 853ms/step - loss: 0.3819 - binary_accuracy: 0.8308 - precision: 0.8692 - recall: 0.9090 - val_loss: 0.4066 - val_binary_accuracy: 0.8044 - val_precision: 0.8047 - val_recall: 0.9729\n",
      "Epoch 5/20\n",
      "131/131 [==============================] - 112s 854ms/step - loss: 0.3258 - binary_accuracy: 0.8615 - precision: 0.8890 - recall: 0.9297 - val_loss: 0.3822 - val_binary_accuracy: 0.8284 - val_precision: 0.8514 - val_recall: 0.9316\n",
      "Epoch 6/20\n",
      "131/131 [==============================] - 112s 853ms/step - loss: 0.2903 - binary_accuracy: 0.8811 - precision: 0.9094 - recall: 0.9329 - val_loss: 0.3824 - val_binary_accuracy: 0.8399 - val_precision: 0.8502 - val_recall: 0.9523\n",
      "Epoch 7/20\n",
      "131/131 [==============================] - 112s 854ms/step - loss: 0.2863 - binary_accuracy: 0.8850 - precision: 0.9086 - recall: 0.9397 - val_loss: 0.3001 - val_binary_accuracy: 0.8600 - val_precision: 0.8603 - val_recall: 0.9690\n",
      "Epoch 8/20\n",
      "131/131 [==============================] - 112s 852ms/step - loss: 0.2905 - binary_accuracy: 0.8874 - precision: 0.9161 - recall: 0.9339 - val_loss: 0.2858 - val_binary_accuracy: 0.8773 - val_precision: 0.9029 - val_recall: 0.9355\n",
      "Epoch 9/20\n",
      "131/131 [==============================] - 112s 854ms/step - loss: 0.2763 - binary_accuracy: 0.8900 - precision: 0.9223 - recall: 0.9303 - val_loss: 0.2880 - val_binary_accuracy: 0.8792 - val_precision: 0.8972 - val_recall: 0.9458\n",
      "Epoch 10/20\n",
      "131/131 [==============================] - 112s 854ms/step - loss: 0.2806 - binary_accuracy: 0.8898 - precision: 0.9233 - recall: 0.9287 - val_loss: 0.2546 - val_binary_accuracy: 0.8859 - val_precision: 0.9010 - val_recall: 0.9510\n",
      "Epoch 11/20\n",
      "131/131 [==============================] - 112s 853ms/step - loss: 0.2611 - binary_accuracy: 0.8974 - precision: 0.9180 - recall: 0.9465 - val_loss: 0.3198 - val_binary_accuracy: 0.8581 - val_precision: 0.9056 - val_recall: 0.9032\n",
      "Epoch 12/20\n",
      "131/131 [==============================] - 112s 851ms/step - loss: 0.2767 - binary_accuracy: 0.8864 - precision: 0.9129 - recall: 0.9365 - val_loss: 0.2511 - val_binary_accuracy: 0.8859 - val_precision: 0.9110 - val_recall: 0.9381\n",
      "Epoch 13/20\n",
      "131/131 [==============================] - 112s 853ms/step - loss: 0.2424 - binary_accuracy: 0.9017 - precision: 0.9281 - recall: 0.9406 - val_loss: 0.2798 - val_binary_accuracy: 0.8849 - val_precision: 0.9480 - val_recall: 0.8942\n",
      "Epoch 14/20\n",
      "131/131 [==============================] - 112s 854ms/step - loss: 0.2475 - binary_accuracy: 0.8991 - precision: 0.9300 - recall: 0.9345 - val_loss: 0.2480 - val_binary_accuracy: 0.8821 - val_precision: 0.9045 - val_recall: 0.9406\n",
      "Epoch 15/20\n",
      "131/131 [==============================] - 111s 851ms/step - loss: 0.2427 - binary_accuracy: 0.9049 - precision: 0.9347 - recall: 0.9374 - val_loss: 0.2740 - val_binary_accuracy: 0.8849 - val_precision: 0.9099 - val_recall: 0.9381\n",
      "Epoch 16/20\n",
      "131/131 [==============================] - 112s 856ms/step - loss: 0.2271 - binary_accuracy: 0.9111 - precision: 0.9400 - recall: 0.9403 - val_loss: 0.2711 - val_binary_accuracy: 0.8763 - val_precision: 0.9295 - val_recall: 0.9019\n",
      "Epoch 17/20\n",
      "131/131 [==============================] - 112s 855ms/step - loss: 0.2337 - binary_accuracy: 0.9097 - precision: 0.9357 - recall: 0.9432 - val_loss: 0.3061 - val_binary_accuracy: 0.8667 - val_precision: 0.8741 - val_recall: 0.9587\n",
      "Epoch 18/20\n",
      "131/131 [==============================] - 112s 856ms/step - loss: 0.2510 - binary_accuracy: 0.9017 - precision: 0.9281 - recall: 0.9406 - val_loss: 0.2741 - val_binary_accuracy: 0.8734 - val_precision: 0.9117 - val_recall: 0.9187\n"
     ]
    },
    {
     "data": {
      "text/plain": [
       "<tensorflow.python.training.tracking.util.CheckpointLoadStatus at 0x7f2fd199f880>"
      ]
     },
     "execution_count": 6,
     "metadata": {},
     "output_type": "execute_result"
    }
   ],
   "source": [
    "history = model.fit(\n",
    "    train_ds,\n",
    "    validation_data=val_ds,\n",
    "    epochs=20,\n",
    "    callbacks=callbacks\n",
    ")\n",
    "\n",
    "model.load_weights('save_data/08_even_larger_network/')"
   ]
  },
  {
   "cell_type": "code",
   "execution_count": 7,
   "metadata": {},
   "outputs": [
    {
     "data": {
      "text/plain": [
       "<matplotlib.legend.Legend at 0x7f2fa029cca0>"
      ]
     },
     "execution_count": 7,
     "metadata": {},
     "output_type": "execute_result"
    },
    {
     "data": {
      "image/png": "[encoded data removed]",
      "text/plain": [
       "<Figure size 432x288 with 1 Axes>"
      ]
     },
     "metadata": {
      "needs_background": "light"
     },
     "output_type": "display_data"
    },
    {
     "data": {
      "image/png": "[encoded data removed]",
      "text/plain": [
       "<Figure size 432x288 with 1 Axes>"
      ]
     },
     "metadata": {
      "needs_background": "light"
     },
     "output_type": "display_data"
    }
   ],
   "source": [
    "acc = history.history['binary_accuracy']\n",
    "val_acc = history.history['val_binary_accuracy']\n",
    "loss = history.history['loss']\n",
    "val_loss = history.history['val_loss']\n",
    "epochs = range(len(acc))\n",
    "\n",
    "plt.plot(epochs, acc, label='Training acc')\n",
    "plt.plot(epochs, val_acc, label='Validation acc')\n",
    "plt.title('Training and validation accuracy')\n",
    "plt.legend()\n",
    "plt.figure()\n",
    "plt.plot(epochs, loss, label='Training loss')\n",
    "plt.plot(epochs, val_loss, label='Validation loss')\n",
    "plt.title('Training and validation loss')\n",
    "plt.legend()"
   ]
  },
  {
   "cell_type": "code",
   "execution_count": 8,
   "metadata": {},
   "outputs": [
    {
     "name": "stdout",
     "output_type": "stream",
     "text": [
      "131/131 [==============================] - 56s 430ms/step - loss: 0.2349 - binary_accuracy: 0.9039 - precision: 0.9409 - recall: 0.9290\n"
     ]
    }
   ],
   "source": [
    "train_res = model.evaluate(train_ds)"
   ]
  },
  {
   "cell_type": "code",
   "execution_count": 9,
   "metadata": {},
   "outputs": [
    {
     "name": "stdout",
     "output_type": "stream",
     "text": [
      "33/33 [==============================] - 14s 421ms/step - loss: 0.2639 - binary_accuracy: 0.8840 - precision: 0.9303 - recall: 0.9123\n"
     ]
    }
   ],
   "source": [
    "val_res = model.evaluate(val_ds)"
   ]
  },
  {
   "cell_type": "code",
   "execution_count": 10,
   "metadata": {},
   "outputs": [
    {
     "name": "stdout",
     "output_type": "stream",
     "text": [
      "Found 624 images belonging to 2 classes.\n"
     ]
    }
   ],
   "source": [
    "test_generator = keras.preprocessing.image.ImageDataGenerator(\n",
    "    rescale=1./255\n",
    ")\n",
    "\n",
    "test_ds = train_generator.flow_from_directory(\n",
    "    test_path,\n",
    "    target_size=(256,256),\n",
    "    class_mode='binary'\n",
    ")"
   ]
  },
  {
   "cell_type": "code",
   "execution_count": 11,
   "metadata": {},
   "outputs": [
    {
     "name": "stdout",
     "output_type": "stream",
     "text": [
      "20/20 [==============================] - 7s 373ms/step - loss: 0.4175 - binary_accuracy: 0.8109 - precision: 0.7969 - recall: 0.9359\n"
     ]
    }
   ],
   "source": [
    "test_res = model.evaluate(test_ds)"
   ]
  },
  {
   "cell_type": "code",
   "execution_count": 12,
   "metadata": {},
   "outputs": [
    {
     "name": "stdout",
     "output_type": "stream",
     "text": [
      "WARNING:tensorflow:From /home/jason/miniconda3/envs/learn-env/lib/python3.8/site-packages/tensorflow/python/training/tracking/tracking.py:111: Model.state_updates (from tensorflow.python.keras.engine.training) is deprecated and will be removed in a future version.\n",
      "Instructions for updating:\n",
      "This property should not be used in TensorFlow 2.0, as updates are applied automatically.\n",
      "WARNING:tensorflow:From /home/jason/miniconda3/envs/learn-env/lib/python3.8/site-packages/tensorflow/python/training/tracking/tracking.py:111: Layer.updates (from tensorflow.python.keras.engine.base_layer) is deprecated and will be removed in a future version.\n",
      "Instructions for updating:\n",
      "This property should not be used in TensorFlow 2.0, as updates are applied automatically.\n",
      "INFO:tensorflow:Assets written to: save_data/08_even_larger_network/assets\n"
     ]
    }
   ],
   "source": [
    "model.save('save_data/08_even_larger_network/')"
   ]
  }
 ],
 "metadata": {
  "interpreter": {
   "hash": "820d50b626c26dd23e815fdc6f0defc021162c216bd79fa699f42d79cf8fcc33"
  },
  "kernelspec": {
   "display_name": "Python 3.8.5 ('learn-env')",
   "language": "python",
   "name": "python3"
  },
  "language_info": {
   "codemirror_mode": {
    "name": "ipython",
    "version": 3
   },
   "file_extension": ".py",
   "mimetype": "text/x-python",
   "name": "python",
   "nbconvert_exporter": "python",
   "pygments_lexer": "ipython3",
   "version": "3.8.5"
  },
  "orig_nbformat": 4
 },
 "nbformat": 4,
 "nbformat_minor": 2
}
