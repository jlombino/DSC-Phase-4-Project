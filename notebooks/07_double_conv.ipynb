{
 "cells": [
  {
   "cell_type": "code",
   "execution_count": 1,
   "metadata": {},
   "outputs": [],
   "source": [
    "import keras\n",
    "from keras import models\n",
    "from keras import layers\n",
    "from keras import optimizers\n",
    "from keras import metrics\n",
    "import matplotlib.pyplot as plt"
   ]
  },
  {
   "cell_type": "code",
   "execution_count": 2,
   "metadata": {},
   "outputs": [
    {
     "name": "stdout",
     "output_type": "stream",
     "text": [
      "Found 4175 images belonging to 2 classes.\n"
     ]
    }
   ],
   "source": [
    "train_path = '../chest_xray/train'\n",
    "test_path = '../chest_xray/test'\n",
    "val_path = '../chest_xray/val'\n",
    "\n",
    "train_generator = keras.preprocessing.image.ImageDataGenerator(\n",
    "    rescale=1./255,\n",
    "    horizontal_flip=True,\n",
    "    rotation_range=45,\n",
    "    zoom_range=0.3\n",
    ")\n",
    "\n",
    "train_ds = train_generator.flow_from_directory(\n",
    "    train_path,\n",
    "    target_size=(256,256),\n",
    "    class_mode='binary',\n",
    ")"
   ]
  },
  {
   "cell_type": "code",
   "execution_count": 3,
   "metadata": {},
   "outputs": [
    {
     "name": "stdout",
     "output_type": "stream",
     "text": [
      "Found 1057 images belonging to 2 classes.\n"
     ]
    }
   ],
   "source": [
    "val_generator = keras.preprocessing.image.ImageDataGenerator(\n",
    "    rescale=1./255\n",
    ")\n",
    "\n",
    "val_ds = val_generator.flow_from_directory(\n",
    "    val_path,\n",
    "    target_size=(256,256),\n",
    "    class_mode='binary',\n",
    ")"
   ]
  },
  {
   "cell_type": "code",
   "execution_count": 4,
   "metadata": {},
   "outputs": [
    {
     "name": "stdout",
     "output_type": "stream",
     "text": [
      "Found 624 images belonging to 2 classes.\n"
     ]
    }
   ],
   "source": [
    "test_generator = keras.preprocessing.image.ImageDataGenerator(\n",
    "    rescale=1./255\n",
    ")\n",
    "\n",
    "test_ds = test_generator.flow_from_directory(\n",
    "    test_path,\n",
    "    target_size=(256,256),\n",
    "    class_mode='binary'\n",
    ")"
   ]
  },
  {
   "cell_type": "code",
   "execution_count": 5,
   "metadata": {},
   "outputs": [],
   "source": [
    "model = models.Sequential()\n",
    "\n",
    "model.add(layers.Conv2D(32, (1, 1), activation='relu',padding='same',\n",
    "                        input_shape=(256, 256, 3)))     \n",
    "model.add(layers.Conv2D(32, (1, 1), activation='relu',padding='same'))                \n",
    "model.add(layers.MaxPooling2D((2, 2)))\n",
    "\n",
    "model.add(layers.Conv2D(64, (1, 1), activation='relu',padding='same'))\n",
    "model.add(layers.Conv2D(64, (1, 1), activation='relu',padding='same'))\n",
    "model.add(layers.MaxPooling2D((2, 2)))\n",
    "\n",
    "model.add(layers.Conv2D(128, (1, 1), activation='relu',padding='same'))\n",
    "model.add(layers.Conv2D(128, (1, 1), activation='relu',padding='same'))\n",
    "model.add(layers.MaxPooling2D((2, 2)))\n",
    "\n",
    "model.add(layers.Flatten())\n",
    "model.add(layers.Dense(256, activation='relu'))\n",
    "model.add(layers.Dense(128, activation='relu'))\n",
    "model.add(layers.Dense(64, activation='relu'))\n",
    "model.add(layers.Dense(1, activation='sigmoid'))"
   ]
  },
  {
   "cell_type": "code",
   "execution_count": 6,
   "metadata": {},
   "outputs": [],
   "source": [
    "checkpoint = keras.callbacks.ModelCheckpoint(\n",
    "    monitor='val_loss',\n",
    "    filepath='save_data/07_double_conv.hdf5',\n",
    "    save_best_only=True,\n",
    "    verbose=0\n",
    ")\n",
    "\n",
    "callbacks = [checkpoint]"
   ]
  },
  {
   "cell_type": "code",
   "execution_count": 7,
   "metadata": {},
   "outputs": [
    {
     "name": "stdout",
     "output_type": "stream",
     "text": [
      "Model: \"sequential\"\n",
      "_________________________________________________________________\n",
      "Layer (type)                 Output Shape              Param #   \n",
      "=================================================================\n",
      "conv2d (Conv2D)              (None, 256, 256, 32)      128       \n",
      "_________________________________________________________________\n",
      "conv2d_1 (Conv2D)            (None, 256, 256, 32)      1056      \n",
      "_________________________________________________________________\n",
      "max_pooling2d (MaxPooling2D) (None, 128, 128, 32)      0         \n",
      "_________________________________________________________________\n",
      "conv2d_2 (Conv2D)            (None, 128, 128, 64)      2112      \n",
      "_________________________________________________________________\n",
      "conv2d_3 (Conv2D)            (None, 128, 128, 64)      4160      \n",
      "_________________________________________________________________\n",
      "max_pooling2d_1 (MaxPooling2 (None, 64, 64, 64)        0         \n",
      "_________________________________________________________________\n",
      "conv2d_4 (Conv2D)            (None, 64, 64, 128)       8320      \n",
      "_________________________________________________________________\n",
      "conv2d_5 (Conv2D)            (None, 64, 64, 128)       16512     \n",
      "_________________________________________________________________\n",
      "max_pooling2d_2 (MaxPooling2 (None, 32, 32, 128)       0         \n",
      "_________________________________________________________________\n",
      "flatten (Flatten)            (None, 131072)            0         \n",
      "_________________________________________________________________\n",
      "dense (Dense)                (None, 256)               33554688  \n",
      "_________________________________________________________________\n",
      "dense_1 (Dense)              (None, 128)               32896     \n",
      "_________________________________________________________________\n",
      "dense_2 (Dense)              (None, 64)                8256      \n",
      "_________________________________________________________________\n",
      "dense_3 (Dense)              (None, 1)                 65        \n",
      "=================================================================\n",
      "Total params: 33,628,193\n",
      "Trainable params: 33,628,193\n",
      "Non-trainable params: 0\n",
      "_________________________________________________________________\n",
      "None\n"
     ]
    }
   ],
   "source": [
    "use_metrics = [metrics.BinaryAccuracy(),\\\n",
    "                metrics.Precision(),\\\n",
    "                metrics.Recall()]\n",
    "\n",
    "model.compile(\n",
    "    loss='binary_crossentropy',\n",
    "    optimizer=optimizers.Adam(),\n",
    "    metrics=[use_metrics]\n",
    ")\n",
    "\n",
    "print(model.summary())"
   ]
  },
  {
   "cell_type": "code",
   "execution_count": 8,
   "metadata": {},
   "outputs": [
    {
     "name": "stdout",
     "output_type": "stream",
     "text": [
      "Epoch 1/20\n",
      "131/131 [==============================] - 103s 783ms/step - loss: 0.4523 - binary_accuracy: 0.7883 - precision: 0.8104 - recall: 0.9332 - val_loss: 0.3762 - val_binary_accuracy: 0.8278 - val_precision: 0.9574 - val_recall: 0.8033\n",
      "Epoch 2/20\n",
      "131/131 [==============================] - 101s 771ms/step - loss: 0.3088 - binary_accuracy: 0.8699 - precision: 0.8999 - recall: 0.9281 - val_loss: 0.3439 - val_binary_accuracy: 0.8505 - val_precision: 0.9616 - val_recall: 0.8314\n",
      "Epoch 3/20\n",
      "131/131 [==============================] - 100s 766ms/step - loss: 0.2604 - binary_accuracy: 0.8994 - precision: 0.9278 - recall: 0.9374 - val_loss: 0.2372 - val_binary_accuracy: 0.8988 - val_precision: 0.9033 - val_recall: 0.9668\n",
      "Epoch 4/20\n",
      "131/131 [==============================] - 100s 767ms/step - loss: 0.2395 - binary_accuracy: 0.9080 - precision: 0.9306 - recall: 0.9468 - val_loss: 0.2812 - val_binary_accuracy: 0.8798 - val_precision: 0.8694 - val_recall: 0.9860\n",
      "Epoch 5/20\n",
      "131/131 [==============================] - 101s 772ms/step - loss: 0.2243 - binary_accuracy: 0.9128 - precision: 0.9371 - recall: 0.9461 - val_loss: 0.1984 - val_binary_accuracy: 0.9234 - val_precision: 0.9875 - val_recall: 0.9080\n",
      "Epoch 6/20\n",
      "131/131 [==============================] - 101s 773ms/step - loss: 0.1937 - binary_accuracy: 0.9279 - precision: 0.9476 - recall: 0.9558 - val_loss: 0.1618 - val_binary_accuracy: 0.9347 - val_precision: 0.9648 - val_recall: 0.9464\n",
      "Epoch 7/20\n",
      "131/131 [==============================] - 101s 772ms/step - loss: 0.1867 - binary_accuracy: 0.9303 - precision: 0.9550 - recall: 0.9510 - val_loss: 0.2161 - val_binary_accuracy: 0.9026 - val_precision: 0.9198 - val_recall: 0.9515\n",
      "Epoch 8/20\n",
      "131/131 [==============================] - 101s 774ms/step - loss: 0.1777 - binary_accuracy: 0.9320 - precision: 0.9519 - recall: 0.9568 - val_loss: 0.1870 - val_binary_accuracy: 0.9234 - val_precision: 0.9410 - val_recall: 0.9566\n",
      "Epoch 9/20\n",
      "131/131 [==============================] - 100s 765ms/step - loss: 0.1789 - binary_accuracy: 0.9308 - precision: 0.9532 - recall: 0.9535 - val_loss: 0.2151 - val_binary_accuracy: 0.9044 - val_precision: 0.9914 - val_recall: 0.8787\n",
      "Epoch 10/20\n",
      "131/131 [==============================] - 101s 770ms/step - loss: 0.1644 - binary_accuracy: 0.9382 - precision: 0.9572 - recall: 0.9597 - val_loss: 0.1990 - val_binary_accuracy: 0.9186 - val_precision: 0.9874 - val_recall: 0.9017\n",
      "Epoch 11/20\n",
      "131/131 [==============================] - 101s 768ms/step - loss: 0.1620 - binary_accuracy: 0.9392 - precision: 0.9605 - recall: 0.9574 - val_loss: 0.1638 - val_binary_accuracy: 0.9281 - val_precision: 0.9836 - val_recall: 0.9183\n",
      "Epoch 12/20\n",
      "131/131 [==============================] - 101s 768ms/step - loss: 0.1532 - binary_accuracy: 0.9420 - precision: 0.9592 - recall: 0.9629 - val_loss: 0.1654 - val_binary_accuracy: 0.9281 - val_precision: 0.9849 - val_recall: 0.9170\n",
      "Epoch 13/20\n",
      "131/131 [==============================] - 100s 767ms/step - loss: 0.1534 - binary_accuracy: 0.9416 - precision: 0.9589 - recall: 0.9626 - val_loss: 0.2479 - val_binary_accuracy: 0.8940 - val_precision: 0.9970 - val_recall: 0.8595\n",
      "Epoch 14/20\n",
      "131/131 [==============================] - 101s 768ms/step - loss: 0.1590 - binary_accuracy: 0.9372 - precision: 0.9607 - recall: 0.9545 - val_loss: 0.1573 - val_binary_accuracy: 0.9319 - val_precision: 0.9659 - val_recall: 0.9413\n",
      "Epoch 15/20\n",
      "131/131 [==============================] - 100s 766ms/step - loss: 0.1538 - binary_accuracy: 0.9447 - precision: 0.9641 - recall: 0.9613 - val_loss: 0.1514 - val_binary_accuracy: 0.9347 - val_precision: 0.9837 - val_recall: 0.9272\n",
      "Epoch 16/20\n",
      "131/131 [==============================] - 101s 769ms/step - loss: 0.1487 - binary_accuracy: 0.9447 - precision: 0.9638 - recall: 0.9616 - val_loss: 0.2205 - val_binary_accuracy: 0.9026 - val_precision: 0.9942 - val_recall: 0.8736\n",
      "Epoch 17/20\n",
      "131/131 [==============================] - 101s 770ms/step - loss: 0.1476 - binary_accuracy: 0.9444 - precision: 0.9605 - recall: 0.9648 - val_loss: 0.1486 - val_binary_accuracy: 0.9366 - val_precision: 0.9786 - val_recall: 0.9349\n",
      "Epoch 18/20\n",
      "131/131 [==============================] - 101s 772ms/step - loss: 0.1480 - binary_accuracy: 0.9435 - precision: 0.9622 - recall: 0.9616 - val_loss: 0.1908 - val_binary_accuracy: 0.9196 - val_precision: 0.9902 - val_recall: 0.9004\n",
      "Epoch 19/20\n",
      "131/131 [==============================] - 101s 767ms/step - loss: 0.1507 - binary_accuracy: 0.9437 - precision: 0.9619 - recall: 0.9623 - val_loss: 0.1694 - val_binary_accuracy: 0.9338 - val_precision: 0.9553 - val_recall: 0.9553\n",
      "Epoch 20/20\n",
      "131/131 [==============================] - 101s 774ms/step - loss: 0.1394 - binary_accuracy: 0.9514 - precision: 0.9677 - recall: 0.9668 - val_loss: 0.1473 - val_binary_accuracy: 0.9404 - val_precision: 0.9762 - val_recall: 0.9425\n"
     ]
    }
   ],
   "source": [
    "history = model.fit(\n",
    "    train_ds,\n",
    "    validation_data=val_ds,\n",
    "    epochs=20,\n",
    "    callbacks=callbacks\n",
    ")\n",
    "\n",
    "model = keras.models.load_model('save_data/07_double_conv.hdf5')"
   ]
  },
  {
   "cell_type": "code",
   "execution_count": 9,
   "metadata": {},
   "outputs": [
    {
     "data": {
      "text/plain": [
       "<matplotlib.legend.Legend at 0x7f3a5813c6a0>"
      ]
     },
     "execution_count": 9,
     "metadata": {},
     "output_type": "execute_result"
    },
    {
     "data": {
      "image/png": "[encoded data removed]",
      "text/plain": [
       "<Figure size 432x288 with 1 Axes>"
      ]
     },
     "metadata": {
      "needs_background": "light"
     },
     "output_type": "display_data"
    },
    {
     "data": {
      "image/png": "[encoded data removed]",
      "text/plain": [
       "<Figure size 432x288 with 1 Axes>"
      ]
     },
     "metadata": {
      "needs_background": "light"
     },
     "output_type": "display_data"
    }
   ],
   "source": [
    "acc = history.history['binary_accuracy']\n",
    "val_acc = history.history['val_binary_accuracy']\n",
    "loss = history.history['loss']\n",
    "val_loss = history.history['val_loss']\n",
    "epochs = range(len(acc))\n",
    "\n",
    "plt.plot(epochs, acc, label='Training acc')\n",
    "plt.plot(epochs, val_acc, label='Validation acc')\n",
    "plt.title('Training and validation accuracy')\n",
    "plt.legend()\n",
    "plt.figure()\n",
    "plt.plot(epochs, loss, label='Training loss')\n",
    "plt.plot(epochs, val_loss, label='Validation loss')\n",
    "plt.title('Training and validation loss')\n",
    "plt.legend()"
   ]
  },
  {
   "cell_type": "code",
   "execution_count": 10,
   "metadata": {},
   "outputs": [
    {
     "name": "stdout",
     "output_type": "stream",
     "text": [
      "131/131 [==============================] - 56s 424ms/step - loss: 0.1275 - binary_accuracy: 0.9547 - precision: 0.9739 - recall: 0.9648\n"
     ]
    }
   ],
   "source": [
    "train_res = model.evaluate(train_ds)"
   ]
  },
  {
   "cell_type": "code",
   "execution_count": 11,
   "metadata": {},
   "outputs": [
    {
     "name": "stdout",
     "output_type": "stream",
     "text": [
      "34/34 [==============================] - 8s 240ms/step - loss: 0.1473 - binary_accuracy: 0.9404 - precision: 0.9762 - recall: 0.9425\n"
     ]
    }
   ],
   "source": [
    "val_res = model.evaluate(val_ds)"
   ]
  },
  {
   "cell_type": "code",
   "execution_count": 12,
   "metadata": {},
   "outputs": [
    {
     "name": "stdout",
     "output_type": "stream",
     "text": [
      "20/20 [==============================] - 4s 209ms/step - loss: 0.3187 - binary_accuracy: 0.8894 - precision: 0.8707 - recall: 0.9667\n"
     ]
    }
   ],
   "source": [
    "test_res = model.evaluate(test_ds)"
   ]
  }
 ],
 "metadata": {
  "interpreter": {
   "hash": "820d50b626c26dd23e815fdc6f0defc021162c216bd79fa699f42d79cf8fcc33"
  },
  "kernelspec": {
   "display_name": "Python 3.8.5 ('learn-env')",
   "language": "python",
   "name": "python3"
  },
  "language_info": {
   "codemirror_mode": {
    "name": "ipython",
    "version": 3
   },
   "file_extension": ".py",
   "mimetype": "text/x-python",
   "name": "python",
   "nbconvert_exporter": "python",
   "pygments_lexer": "ipython3",
   "version": "3.8.5"
  },
  "orig_nbformat": 4
 },
 "nbformat": 4,
 "nbformat_minor": 2
}
