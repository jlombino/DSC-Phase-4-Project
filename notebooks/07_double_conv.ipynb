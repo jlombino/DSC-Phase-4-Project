{
 "cells": [
  {
   "cell_type": "code",
   "execution_count": 1,
   "metadata": {},
   "outputs": [],
   "source": [
    "import keras\n",
    "from keras import models\n",
    "from keras import layers\n",
    "from keras import optimizers\n",
    "from keras import metrics\n",
    "import matplotlib.pyplot as plt"
   ]
  },
  {
   "cell_type": "code",
   "execution_count": 2,
   "metadata": {},
   "outputs": [
    {
     "name": "stdout",
     "output_type": "stream",
     "text": [
      "Found 4173 images belonging to 2 classes.\n",
      "Found 1043 images belonging to 2 classes.\n"
     ]
    }
   ],
   "source": [
    "train_path = '../chest_xray/train'\n",
    "test_path = '../chest_xray/test'\n",
    "\n",
    "train_generator = keras.preprocessing.image.ImageDataGenerator(\n",
    "    rescale=1./255,\n",
    "    validation_split=0.2,\n",
    "    vertical_flip=True,\n",
    "    horizontal_flip=True,\n",
    "    rotation_range=90,\n",
    "    zoom_range=0.5\n",
    ")\n",
    "\n",
    "train_ds = train_generator.flow_from_directory(\n",
    "    train_path,\n",
    "    subset='training',\n",
    "    target_size=(256,256),\n",
    "    class_mode='binary',\n",
    "    seed=42\n",
    ")\n",
    "\n",
    "val_ds = train_generator.flow_from_directory(\n",
    "    train_path,\n",
    "    subset='validation',\n",
    "    target_size=(256,256),\n",
    "    class_mode='binary',\n",
    "    seed=42\n",
    ")"
   ]
  },
  {
   "cell_type": "code",
   "execution_count": 3,
   "metadata": {},
   "outputs": [],
   "source": [
    "model = models.Sequential()\n",
    "\n",
    "model.add(layers.Conv2D(32, (1, 1), activation='relu',padding='same',\n",
    "                        input_shape=(256, 256, 3)))     \n",
    "model.add(layers.Conv2D(32, (1, 1), activation='relu',padding='same'))                \n",
    "model.add(layers.MaxPooling2D((2, 2)))\n",
    "\n",
    "model.add(layers.Conv2D(64, (1, 1), activation='relu',padding='same'))\n",
    "model.add(layers.Conv2D(64, (1, 1), activation='relu',padding='same'))\n",
    "model.add(layers.MaxPooling2D((2, 2)))\n",
    "\n",
    "model.add(layers.Conv2D(128, (1, 1), activation='relu',padding='same'))\n",
    "model.add(layers.Conv2D(128, (1, 1), activation='relu',padding='same'))\n",
    "model.add(layers.MaxPooling2D((2, 2)))\n",
    "\n",
    "model.add(layers.Flatten())\n",
    "model.add(layers.Dense(256, activation='relu'))\n",
    "model.add(layers.Dense(128, activation='relu'))\n",
    "model.add(layers.Dense(64, activation='relu'))\n",
    "model.add(layers.Dense(1, activation='sigmoid'))"
   ]
  },
  {
   "cell_type": "code",
   "execution_count": 4,
   "metadata": {},
   "outputs": [],
   "source": [
    "stop_early = keras.callbacks.EarlyStopping(\n",
    "    monitor='val_loss',\n",
    "    patience=4\n",
    ")\n",
    "\n",
    "checkpoint = keras.callbacks.ModelCheckpoint(\n",
    "    monitor='val_loss',\n",
    "    filepath='save_data/07_double_conv/',\n",
    "    save_weights_only=True\n",
    ")\n",
    "\n",
    "callbacks = [stop_early,checkpoint]"
   ]
  },
  {
   "cell_type": "code",
   "execution_count": 5,
   "metadata": {},
   "outputs": [],
   "source": [
    "use_metrics = [metrics.BinaryAccuracy(),\\\n",
    "                metrics.Precision(),\\\n",
    "                metrics.Recall()]\n",
    "\n",
    "model.compile(\n",
    "    loss='binary_crossentropy',\n",
    "    optimizer=optimizers.Adam(),\n",
    "    metrics=[use_metrics]\n",
    ")"
   ]
  },
  {
   "cell_type": "code",
   "execution_count": 6,
   "metadata": {},
   "outputs": [
    {
     "name": "stdout",
     "output_type": "stream",
     "text": [
      "Epoch 1/20\n",
      "131/131 [==============================] - 108s 823ms/step - loss: 0.5474 - binary_accuracy: 0.7441 - precision: 0.7600 - recall: 0.9581 - val_loss: 0.5286 - val_binary_accuracy: 0.7593 - val_precision: 0.7957 - val_recall: 0.9097\n",
      "Epoch 2/20\n",
      "131/131 [==============================] - 107s 819ms/step - loss: 0.4106 - binary_accuracy: 0.8085 - precision: 0.8471 - recall: 0.9058 - val_loss: 0.4411 - val_binary_accuracy: 0.8063 - val_precision: 0.8415 - val_recall: 0.9110\n",
      "Epoch 3/20\n",
      "131/131 [==============================] - 108s 821ms/step - loss: 0.3519 - binary_accuracy: 0.8462 - precision: 0.8848 - recall: 0.9116 - val_loss: 0.4068 - val_binary_accuracy: 0.8274 - val_precision: 0.8431 - val_recall: 0.9432\n",
      "Epoch 4/20\n",
      "131/131 [==============================] - 107s 819ms/step - loss: 0.3419 - binary_accuracy: 0.8502 - precision: 0.8893 - recall: 0.9119 - val_loss: 0.4129 - val_binary_accuracy: 0.8140 - val_precision: 0.8210 - val_recall: 0.9587\n",
      "Epoch 5/20\n",
      "131/131 [==============================] - 107s 817ms/step - loss: 0.2989 - binary_accuracy: 0.8763 - precision: 0.9144 - recall: 0.9197 - val_loss: 0.3913 - val_binary_accuracy: 0.8341 - val_precision: 0.8382 - val_recall: 0.9626\n",
      "Epoch 6/20\n",
      "131/131 [==============================] - 108s 821ms/step - loss: 0.2857 - binary_accuracy: 0.8831 - precision: 0.9128 - recall: 0.9316 - val_loss: 0.3214 - val_binary_accuracy: 0.8514 - val_precision: 0.8856 - val_recall: 0.9187\n",
      "Epoch 7/20\n",
      "131/131 [==============================] - 107s 817ms/step - loss: 0.2720 - binary_accuracy: 0.8871 - precision: 0.9117 - recall: 0.9390 - val_loss: 0.2946 - val_binary_accuracy: 0.8744 - val_precision: 0.9215 - val_recall: 0.9084\n",
      "Epoch 8/20\n",
      "131/131 [==============================] - 107s 818ms/step - loss: 0.2788 - binary_accuracy: 0.8902 - precision: 0.9259 - recall: 0.9265 - val_loss: 0.3374 - val_binary_accuracy: 0.8610 - val_precision: 0.9091 - val_recall: 0.9032\n",
      "Epoch 9/20\n",
      "131/131 [==============================] - 107s 820ms/step - loss: 0.2803 - binary_accuracy: 0.8821 - precision: 0.9119 - recall: 0.9313 - val_loss: 0.3180 - val_binary_accuracy: 0.8581 - val_precision: 0.8701 - val_recall: 0.9510\n",
      "Epoch 10/20\n",
      "131/131 [==============================] - 107s 820ms/step - loss: 0.2520 - binary_accuracy: 0.8970 - precision: 0.9249 - recall: 0.9374 - val_loss: 0.2481 - val_binary_accuracy: 0.8888 - val_precision: 0.9114 - val_recall: 0.9419\n",
      "Epoch 11/20\n",
      "131/131 [==============================] - 107s 819ms/step - loss: 0.2527 - binary_accuracy: 0.8991 - precision: 0.9222 - recall: 0.9439 - val_loss: 0.2950 - val_binary_accuracy: 0.8696 - val_precision: 0.9060 - val_recall: 0.9200\n",
      "Epoch 12/20\n",
      "131/131 [==============================] - 107s 818ms/step - loss: 0.2418 - binary_accuracy: 0.9029 - precision: 0.9276 - recall: 0.9429 - val_loss: 0.2834 - val_binary_accuracy: 0.8658 - val_precision: 0.8934 - val_recall: 0.9303\n",
      "Epoch 13/20\n",
      "131/131 [==============================] - 108s 823ms/step - loss: 0.2368 - binary_accuracy: 0.9056 - precision: 0.9306 - recall: 0.9432 - val_loss: 0.3120 - val_binary_accuracy: 0.8629 - val_precision: 0.9259 - val_recall: 0.8865\n",
      "Epoch 14/20\n",
      "131/131 [==============================] - 107s 818ms/step - loss: 0.2320 - binary_accuracy: 0.9039 - precision: 0.9302 - recall: 0.9413 - val_loss: 0.2476 - val_binary_accuracy: 0.8907 - val_precision: 0.9157 - val_recall: 0.9394\n",
      "Epoch 15/20\n",
      "131/131 [==============================] - 107s 820ms/step - loss: 0.2285 - binary_accuracy: 0.9053 - precision: 0.9322 - recall: 0.9410 - val_loss: 0.2624 - val_binary_accuracy: 0.8802 - val_precision: 0.9243 - val_recall: 0.9135\n",
      "Epoch 16/20\n",
      "131/131 [==============================] - 107s 820ms/step - loss: 0.2191 - binary_accuracy: 0.9125 - precision: 0.9396 - recall: 0.9429 - val_loss: 0.2636 - val_binary_accuracy: 0.8802 - val_precision: 0.8935 - val_recall: 0.9523\n",
      "Epoch 17/20\n",
      "131/131 [==============================] - 108s 822ms/step - loss: 0.2258 - binary_accuracy: 0.9149 - precision: 0.9367 - recall: 0.9497 - val_loss: 0.2254 - val_binary_accuracy: 0.9041 - val_precision: 0.9332 - val_recall: 0.9381\n",
      "Epoch 18/20\n",
      "131/131 [==============================] - 107s 819ms/step - loss: 0.2230 - binary_accuracy: 0.9065 - precision: 0.9379 - recall: 0.9361 - val_loss: 0.2464 - val_binary_accuracy: 0.8965 - val_precision: 0.9348 - val_recall: 0.9252\n",
      "Epoch 19/20\n",
      "131/131 [==============================] - 108s 822ms/step - loss: 0.2049 - binary_accuracy: 0.9192 - precision: 0.9410 - recall: 0.9510 - val_loss: 0.2620 - val_binary_accuracy: 0.8821 - val_precision: 0.9256 - val_recall: 0.9148\n",
      "Epoch 20/20\n",
      "131/131 [==============================] - 108s 821ms/step - loss: 0.2112 - binary_accuracy: 0.9133 - precision: 0.9391 - recall: 0.9445 - val_loss: 0.3254 - val_binary_accuracy: 0.8658 - val_precision: 0.8604 - val_recall: 0.9781\n"
     ]
    },
    {
     "data": {
      "text/plain": [
       "<tensorflow.python.training.tracking.util.CheckpointLoadStatus at 0x7fe1a099da60>"
      ]
     },
     "execution_count": 6,
     "metadata": {},
     "output_type": "execute_result"
    }
   ],
   "source": [
    "history = model.fit(\n",
    "    train_ds,\n",
    "    validation_data=val_ds,\n",
    "    epochs=20,\n",
    "    callbacks=callbacks\n",
    ")\n",
    "\n",
    "model.load_weights('save_data/07_double_conv/')"
   ]
  },
  {
   "cell_type": "code",
   "execution_count": 7,
   "metadata": {},
   "outputs": [
    {
     "data": {
      "text/plain": [
       "<matplotlib.legend.Legend at 0x7fe1a007deb0>"
      ]
     },
     "execution_count": 7,
     "metadata": {},
     "output_type": "execute_result"
    },
    {
     "data": {
      "image/png": "[encoded data removed]",
      "text/plain": [
       "<Figure size 432x288 with 1 Axes>"
      ]
     },
     "metadata": {
      "needs_background": "light"
     },
     "output_type": "display_data"
    },
    {
     "data": {
      "image/png": "[encoded data removed]",
      "text/plain": [
       "<Figure size 432x288 with 1 Axes>"
      ]
     },
     "metadata": {
      "needs_background": "light"
     },
     "output_type": "display_data"
    }
   ],
   "source": [
    "acc = history.history['binary_accuracy']\n",
    "val_acc = history.history['val_binary_accuracy']\n",
    "loss = history.history['loss']\n",
    "val_loss = history.history['val_loss']\n",
    "epochs = range(len(acc))\n",
    "\n",
    "plt.plot(epochs, acc, label='Training acc')\n",
    "plt.plot(epochs, val_acc, label='Validation acc')\n",
    "plt.title('Training and validation accuracy')\n",
    "plt.legend()\n",
    "plt.figure()\n",
    "plt.plot(epochs, loss, label='Training loss')\n",
    "plt.plot(epochs, val_loss, label='Validation loss')\n",
    "plt.title('Training and validation loss')\n",
    "plt.legend()"
   ]
  },
  {
   "cell_type": "code",
   "execution_count": 8,
   "metadata": {},
   "outputs": [
    {
     "name": "stdout",
     "output_type": "stream",
     "text": [
      "131/131 [==============================] - 56s 427ms/step - loss: 0.2562 - binary_accuracy: 0.8960 - precision: 0.8866 - recall: 0.9861\n"
     ]
    }
   ],
   "source": [
    "train_res = model.evaluate(train_ds)"
   ]
  },
  {
   "cell_type": "code",
   "execution_count": 9,
   "metadata": {},
   "outputs": [
    {
     "name": "stdout",
     "output_type": "stream",
     "text": [
      "33/33 [==============================] - 14s 411ms/step - loss: 0.3086 - binary_accuracy: 0.8581 - precision: 0.8558 - recall: 0.9729\n"
     ]
    }
   ],
   "source": [
    "val_res = model.evaluate(val_ds)"
   ]
  },
  {
   "cell_type": "code",
   "execution_count": 10,
   "metadata": {},
   "outputs": [
    {
     "name": "stdout",
     "output_type": "stream",
     "text": [
      "Found 624 images belonging to 2 classes.\n"
     ]
    }
   ],
   "source": [
    "test_generator = keras.preprocessing.image.ImageDataGenerator(\n",
    "    rescale=1./255\n",
    ")\n",
    "\n",
    "test_ds = train_generator.flow_from_directory(\n",
    "    test_path,\n",
    "    target_size=(256,256),\n",
    "    class_mode='binary'\n",
    ")"
   ]
  },
  {
   "cell_type": "code",
   "execution_count": 11,
   "metadata": {},
   "outputs": [
    {
     "name": "stdout",
     "output_type": "stream",
     "text": [
      "20/20 [==============================] - 7s 366ms/step - loss: 0.7230 - binary_accuracy: 0.7308 - precision: 0.7040 - recall: 0.9821\n"
     ]
    }
   ],
   "source": [
    "test_res = model.evaluate(test_ds)"
   ]
  },
  {
   "cell_type": "code",
   "execution_count": 12,
   "metadata": {},
   "outputs": [
    {
     "name": "stdout",
     "output_type": "stream",
     "text": [
      "WARNING:tensorflow:From /home/jason/miniconda3/envs/learn-env/lib/python3.8/site-packages/tensorflow/python/training/tracking/tracking.py:111: Model.state_updates (from tensorflow.python.keras.engine.training) is deprecated and will be removed in a future version.\n",
      "Instructions for updating:\n",
      "This property should not be used in TensorFlow 2.0, as updates are applied automatically.\n",
      "WARNING:tensorflow:From /home/jason/miniconda3/envs/learn-env/lib/python3.8/site-packages/tensorflow/python/training/tracking/tracking.py:111: Layer.updates (from tensorflow.python.keras.engine.base_layer) is deprecated and will be removed in a future version.\n",
      "Instructions for updating:\n",
      "This property should not be used in TensorFlow 2.0, as updates are applied automatically.\n",
      "INFO:tensorflow:Assets written to: save_data/07_double_conv/assets\n"
     ]
    }
   ],
   "source": [
    "model.save('save_data/07_double_conv/')"
   ]
  }
 ],
 "metadata": {
  "interpreter": {
   "hash": "820d50b626c26dd23e815fdc6f0defc021162c216bd79fa699f42d79cf8fcc33"
  },
  "kernelspec": {
   "display_name": "Python 3.8.5 ('learn-env')",
   "language": "python",
   "name": "python3"
  },
  "language_info": {
   "codemirror_mode": {
    "name": "ipython",
    "version": 3
   },
   "file_extension": ".py",
   "mimetype": "text/x-python",
   "name": "python",
   "nbconvert_exporter": "python",
   "pygments_lexer": "ipython3",
   "version": "3.8.5"
  },
  "orig_nbformat": 4
 },
 "nbformat": 4,
 "nbformat_minor": 2
}
