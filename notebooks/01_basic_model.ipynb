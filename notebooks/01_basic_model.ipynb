{
 "cells": [
  {
   "cell_type": "code",
   "execution_count": 1,
   "metadata": {},
   "outputs": [],
   "source": [
    "import keras\n",
    "from keras import models\n",
    "from keras import layers\n",
    "from keras import optimizers\n",
    "from keras import metrics\n",
    "import matplotlib.pyplot as plt"
   ]
  },
  {
   "cell_type": "code",
   "execution_count": 2,
   "metadata": {},
   "outputs": [
    {
     "name": "stdout",
     "output_type": "stream",
     "text": [
      "Found 4173 images belonging to 2 classes.\n",
      "Found 1043 images belonging to 2 classes.\n"
     ]
    }
   ],
   "source": [
    "train_path = '../chest_xray/train'\n",
    "test_path = '../chest_xray/test'\n",
    "\n",
    "train_generator = keras.preprocessing.image.ImageDataGenerator(\n",
    "    rescale=1./255,\n",
    "    validation_split=0.2\n",
    ")\n",
    "\n",
    "train_ds = train_generator.flow_from_directory(\n",
    "    train_path,\n",
    "    subset='training',\n",
    "    target_size=(256,256),\n",
    "    class_mode='binary',\n",
    "    seed=42\n",
    ")\n",
    "\n",
    "val_ds = train_generator.flow_from_directory(\n",
    "    train_path,\n",
    "    subset='validation',\n",
    "    target_size=(256,256),\n",
    "    class_mode='binary',\n",
    "    seed=42\n",
    ")"
   ]
  },
  {
   "cell_type": "code",
   "execution_count": 3,
   "metadata": {},
   "outputs": [],
   "source": [
    "model = models.Sequential()\n",
    "\n",
    "model.add(layers.Conv2D(32, (1, 1), activation='relu',\n",
    "                        input_shape=(256, 256, 3)))\n",
    "model.add(layers.MaxPooling2D((2, 2)))\n",
    "\n",
    "model.add(layers.Conv2D(64, (1, 1), activation='relu'))\n",
    "model.add(layers.MaxPooling2D((2, 2)))\n",
    "\n",
    "model.add(layers.Flatten())\n",
    "model.add(layers.Dense(256, activation='relu'))\n",
    "model.add(layers.Dense(1, activation='sigmoid'))"
   ]
  },
  {
   "cell_type": "code",
   "execution_count": 4,
   "metadata": {},
   "outputs": [],
   "source": [
    "stop_early = keras.callbacks.EarlyStopping(\n",
    "    monitor='val_loss',\n",
    "    patience=4\n",
    ")\n",
    "\n",
    "checkpoint = keras.callbacks.ModelCheckpoint(\n",
    "    monitor='val_loss',\n",
    "    filepath='save_data/01_basic_model/',\n",
    "    save_weights_only=True\n",
    ")\n",
    "\n",
    "callbacks = [stop_early,checkpoint]"
   ]
  },
  {
   "cell_type": "code",
   "execution_count": 5,
   "metadata": {},
   "outputs": [],
   "source": [
    "use_metrics = [metrics.BinaryAccuracy(),\\\n",
    "                metrics.Precision(),\\\n",
    "                metrics.Recall()]\n",
    "\n",
    "model.compile(\n",
    "    loss='binary_crossentropy',\n",
    "    optimizer=optimizers.Adam(),\n",
    "    metrics=[use_metrics]\n",
    ")"
   ]
  },
  {
   "cell_type": "code",
   "execution_count": 6,
   "metadata": {},
   "outputs": [
    {
     "name": "stdout",
     "output_type": "stream",
     "text": [
      "Epoch 1/20\n",
      "131/131 [==============================] - 68s 517ms/step - loss: 0.6429 - binary_accuracy: 0.8507 - precision: 0.8814 - recall: 0.9232 - val_loss: 0.2694 - val_binary_accuracy: 0.8830 - val_precision: 0.9851 - val_recall: 0.8555\n",
      "Epoch 2/20\n",
      "131/131 [==============================] - 67s 508ms/step - loss: 0.1399 - binary_accuracy: 0.9504 - precision: 0.9647 - recall: 0.9687 - val_loss: 0.2041 - val_binary_accuracy: 0.9195 - val_precision: 0.9098 - val_recall: 0.9897\n",
      "Epoch 3/20\n",
      "131/131 [==============================] - 67s 512ms/step - loss: 0.1008 - binary_accuracy: 0.9636 - precision: 0.9721 - recall: 0.9790 - val_loss: 0.1264 - val_binary_accuracy: 0.9521 - val_precision: 0.9853 - val_recall: 0.9497\n",
      "Epoch 4/20\n",
      "131/131 [==============================] - 67s 510ms/step - loss: 0.0918 - binary_accuracy: 0.9655 - precision: 0.9737 - recall: 0.9800 - val_loss: 0.1022 - val_binary_accuracy: 0.9578 - val_precision: 0.9621 - val_recall: 0.9819\n",
      "Epoch 5/20\n",
      "131/131 [==============================] - 67s 511ms/step - loss: 0.0764 - binary_accuracy: 0.9741 - precision: 0.9832 - recall: 0.9819 - val_loss: 0.1034 - val_binary_accuracy: 0.9597 - val_precision: 0.9816 - val_recall: 0.9639\n",
      "Epoch 6/20\n",
      "131/131 [==============================] - 67s 513ms/step - loss: 0.0759 - binary_accuracy: 0.9746 - precision: 0.9810 - recall: 0.9848 - val_loss: 0.1193 - val_binary_accuracy: 0.9501 - val_precision: 0.9513 - val_recall: 0.9832\n",
      "Epoch 7/20\n",
      "131/131 [==============================] - 67s 510ms/step - loss: 0.0576 - binary_accuracy: 0.9794 - precision: 0.9849 - recall: 0.9874 - val_loss: 0.0964 - val_binary_accuracy: 0.9597 - val_precision: 0.9645 - val_recall: 0.9819\n",
      "Epoch 8/20\n",
      "131/131 [==============================] - 67s 511ms/step - loss: 0.0477 - binary_accuracy: 0.9811 - precision: 0.9865 - recall: 0.9881 - val_loss: 0.0931 - val_binary_accuracy: 0.9607 - val_precision: 0.9611 - val_recall: 0.9871\n",
      "Epoch 9/20\n",
      "131/131 [==============================] - 67s 510ms/step - loss: 0.0468 - binary_accuracy: 0.9820 - precision: 0.9871 - recall: 0.9887 - val_loss: 0.0879 - val_binary_accuracy: 0.9655 - val_precision: 0.9805 - val_recall: 0.9729\n",
      "Epoch 10/20\n",
      "131/131 [==============================] - 67s 510ms/step - loss: 0.0395 - binary_accuracy: 0.9849 - precision: 0.9887 - recall: 0.9910 - val_loss: 0.2541 - val_binary_accuracy: 0.9185 - val_precision: 0.9986 - val_recall: 0.8916\n",
      "Epoch 11/20\n",
      "131/131 [==============================] - 67s 515ms/step - loss: 0.0287 - binary_accuracy: 0.9887 - precision: 0.9926 - recall: 0.9923 - val_loss: 0.0843 - val_binary_accuracy: 0.9712 - val_precision: 0.9869 - val_recall: 0.9742\n",
      "Epoch 12/20\n",
      "131/131 [==============================] - 67s 510ms/step - loss: 0.0209 - binary_accuracy: 0.9919 - precision: 0.9945 - recall: 0.9945 - val_loss: 0.0997 - val_binary_accuracy: 0.9626 - val_precision: 0.9907 - val_recall: 0.9587\n",
      "Epoch 13/20\n",
      "131/131 [==============================] - 67s 511ms/step - loss: 0.0198 - binary_accuracy: 0.9938 - precision: 0.9958 - recall: 0.9958 - val_loss: 0.0843 - val_binary_accuracy: 0.9741 - val_precision: 0.9895 - val_recall: 0.9755\n",
      "Epoch 14/20\n",
      "131/131 [==============================] - 67s 513ms/step - loss: 0.0172 - binary_accuracy: 0.9933 - precision: 0.9955 - recall: 0.9955 - val_loss: 0.0881 - val_binary_accuracy: 0.9693 - val_precision: 0.9908 - val_recall: 0.9677\n",
      "Epoch 15/20\n",
      "131/131 [==============================] - 67s 513ms/step - loss: 0.0137 - binary_accuracy: 0.9962 - precision: 0.9977 - recall: 0.9971 - val_loss: 0.0986 - val_binary_accuracy: 0.9664 - val_precision: 0.9805 - val_recall: 0.9742\n",
      "Epoch 16/20\n",
      "131/131 [==============================] - 67s 515ms/step - loss: 0.0094 - binary_accuracy: 0.9976 - precision: 0.9984 - recall: 0.9984 - val_loss: 0.0912 - val_binary_accuracy: 0.9722 - val_precision: 0.9734 - val_recall: 0.9897\n",
      "Epoch 17/20\n",
      "131/131 [==============================] - 67s 515ms/step - loss: 0.0081 - binary_accuracy: 0.9981 - precision: 0.9990 - recall: 0.9984 - val_loss: 0.1035 - val_binary_accuracy: 0.9722 - val_precision: 0.9819 - val_recall: 0.9806\n"
     ]
    },
    {
     "data": {
      "text/plain": [
       "<tensorflow.python.training.tracking.util.CheckpointLoadStatus at 0x7f61ec0317f0>"
      ]
     },
     "execution_count": 6,
     "metadata": {},
     "output_type": "execute_result"
    }
   ],
   "source": [
    "history = model.fit(\n",
    "    train_ds,\n",
    "    validation_data=val_ds,\n",
    "    epochs=20,\n",
    "    callbacks=callbacks\n",
    ")\n",
    "\n",
    "model.load_weights('save_data/01_basic_model/')"
   ]
  },
  {
   "cell_type": "code",
   "execution_count": 7,
   "metadata": {},
   "outputs": [
    {
     "data": {
      "text/plain": [
       "<matplotlib.legend.Legend at 0x7f61a84d63d0>"
      ]
     },
     "execution_count": 7,
     "metadata": {},
     "output_type": "execute_result"
    },
    {
     "data": {
      "image/png": "[encoded data removed]",
      "text/plain": [
       "<Figure size 432x288 with 1 Axes>"
      ]
     },
     "metadata": {
      "needs_background": "light"
     },
     "output_type": "display_data"
    },
    {
     "data": {
      "image/png": "[encoded data removed]",
      "text/plain": [
       "<Figure size 432x288 with 1 Axes>"
      ]
     },
     "metadata": {
      "needs_background": "light"
     },
     "output_type": "display_data"
    }
   ],
   "source": [
    "acc = history.history['binary_accuracy']\n",
    "val_acc = history.history['val_binary_accuracy']\n",
    "loss = history.history['loss']\n",
    "val_loss = history.history['val_loss']\n",
    "epochs = range(len(acc))\n",
    "\n",
    "plt.plot(epochs, acc, label='Training acc')\n",
    "plt.plot(epochs, val_acc, label='Validation acc')\n",
    "plt.title('Training and validation accuracy')\n",
    "plt.legend()\n",
    "plt.figure()\n",
    "plt.plot(epochs, loss, label='Training loss')\n",
    "plt.plot(epochs, val_loss, label='Validation loss')\n",
    "plt.title('Training and validation loss')\n",
    "plt.legend()"
   ]
  },
  {
   "cell_type": "code",
   "execution_count": 8,
   "metadata": {},
   "outputs": [
    {
     "name": "stdout",
     "output_type": "stream",
     "text": [
      "Found 624 images belonging to 2 classes.\n"
     ]
    }
   ],
   "source": [
    "test_generator = keras.preprocessing.image.ImageDataGenerator(\n",
    "    rescale=1./255\n",
    ")\n",
    "\n",
    "test_ds = train_generator.flow_from_directory(\n",
    "    test_path,\n",
    "    target_size=(256,256),\n",
    "    class_mode='binary'\n",
    ")"
   ]
  },
  {
   "cell_type": "code",
   "execution_count": 9,
   "metadata": {},
   "outputs": [
    {
     "name": "stdout",
     "output_type": "stream",
     "text": [
      "20/20 [==============================] - 4s 182ms/step - loss: 2.0302 - binary_accuracy: 0.7340 - precision: 0.7029 - recall: 0.9949\n"
     ]
    }
   ],
   "source": [
    "test_res = model.evaluate(test_ds)"
   ]
  },
  {
   "cell_type": "code",
   "execution_count": 10,
   "metadata": {},
   "outputs": [
    {
     "name": "stdout",
     "output_type": "stream",
     "text": [
      "WARNING:tensorflow:From /home/jason/miniconda3/envs/learn-env/lib/python3.8/site-packages/tensorflow/python/training/tracking/tracking.py:111: Model.state_updates (from tensorflow.python.keras.engine.training) is deprecated and will be removed in a future version.\n",
      "Instructions for updating:\n",
      "This property should not be used in TensorFlow 2.0, as updates are applied automatically.\n",
      "WARNING:tensorflow:From /home/jason/miniconda3/envs/learn-env/lib/python3.8/site-packages/tensorflow/python/training/tracking/tracking.py:111: Layer.updates (from tensorflow.python.keras.engine.base_layer) is deprecated and will be removed in a future version.\n",
      "Instructions for updating:\n",
      "This property should not be used in TensorFlow 2.0, as updates are applied automatically.\n",
      "INFO:tensorflow:Assets written to: save_data/01_basic_model/assets\n"
     ]
    }
   ],
   "source": [
    "model.save('save_data/01_basic_model/')"
   ]
  }
 ],
 "metadata": {
  "interpreter": {
   "hash": "820d50b626c26dd23e815fdc6f0defc021162c216bd79fa699f42d79cf8fcc33"
  },
  "kernelspec": {
   "display_name": "Python 3.8.5 ('learn-env')",
   "language": "python",
   "name": "python3"
  },
  "language_info": {
   "codemirror_mode": {
    "name": "ipython",
    "version": 3
   },
   "file_extension": ".py",
   "mimetype": "text/x-python",
   "name": "python",
   "nbconvert_exporter": "python",
   "pygments_lexer": "ipython3",
   "version": "3.8.5"
  },
  "orig_nbformat": 4
 },
 "nbformat": 4,
 "nbformat_minor": 2
}
