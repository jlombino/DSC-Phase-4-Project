{
 "cells": [
  {
   "cell_type": "code",
   "execution_count": 1,
   "metadata": {},
   "outputs": [],
   "source": [
    "import keras\n",
    "from keras import models\n",
    "from keras import layers\n",
    "from keras import optimizers\n",
    "from keras import metrics\n",
    "import matplotlib.pyplot as plt"
   ]
  },
  {
   "cell_type": "code",
   "execution_count": 2,
   "metadata": {},
   "outputs": [
    {
     "name": "stdout",
     "output_type": "stream",
     "text": [
      "Found 4173 images belonging to 2 classes.\n",
      "Found 1043 images belonging to 2 classes.\n"
     ]
    }
   ],
   "source": [
    "train_path = '../chest_xray/train'\n",
    "test_path = '../chest_xray/test'\n",
    "\n",
    "train_generator = keras.preprocessing.image.ImageDataGenerator(\n",
    "    rescale=1./255,\n",
    "    validation_split=0.2,\n",
    "    vertical_flip=True,\n",
    "    horizontal_flip=True,\n",
    "    rotation_range=90,\n",
    "    zoom_range=0.5\n",
    ")\n",
    "\n",
    "train_ds = train_generator.flow_from_directory(\n",
    "    train_path,\n",
    "    subset='training',\n",
    "    target_size=(256,256),\n",
    "    class_mode='binary',\n",
    "    seed=42\n",
    ")\n",
    "\n",
    "val_ds = train_generator.flow_from_directory(\n",
    "    train_path,\n",
    "    subset='validation',\n",
    "    target_size=(256,256),\n",
    "    class_mode='binary',\n",
    "    seed=42\n",
    ")"
   ]
  },
  {
   "cell_type": "code",
   "execution_count": 3,
   "metadata": {},
   "outputs": [],
   "source": [
    "model = models.Sequential()\n",
    "\n",
    "model.add(layers.Conv2D(32, (1, 1), activation='relu',padding='same',\n",
    "                        input_shape=(256, 256, 3)))                     \n",
    "model.add(layers.MaxPooling2D((2, 2)))\n",
    "\n",
    "model.add(layers.Conv2D(64, (1, 1), activation='relu',padding='same'))\n",
    "model.add(layers.MaxPooling2D((2, 2)))\n",
    "\n",
    "model.add(layers.Conv2D(128, (1, 1), activation='relu',padding='same'))\n",
    "model.add(layers.MaxPooling2D((2, 2)))\n",
    "\n",
    "model.add(layers.Flatten())\n",
    "model.add(layers.Dropout(0.25))\n",
    "model.add(layers.Dense(256, activation='relu'))\n",
    "model.add(layers.Dropout(0.25))\n",
    "model.add(layers.Dense(128, activation='relu'))\n",
    "model.add(layers.Dropout(0.25))\n",
    "model.add(layers.Dense(64, activation='relu'))\n",
    "model.add(layers.Dense(1, activation='sigmoid'))"
   ]
  },
  {
   "cell_type": "code",
   "execution_count": 4,
   "metadata": {},
   "outputs": [],
   "source": [
    "stop_early = keras.callbacks.EarlyStopping(\n",
    "    monitor='val_loss',\n",
    "    patience=4\n",
    ")\n",
    "\n",
    "checkpoint = keras.callbacks.ModelCheckpoint(\n",
    "    monitor='val_loss',\n",
    "    filepath='save_data/05_dropout/',\n",
    "    save_weights_only=True\n",
    ")\n",
    "\n",
    "callbacks = [stop_early,checkpoint]"
   ]
  },
  {
   "cell_type": "code",
   "execution_count": 5,
   "metadata": {},
   "outputs": [],
   "source": [
    "use_metrics = [metrics.BinaryAccuracy(),\\\n",
    "                metrics.Precision(),\\\n",
    "                metrics.Recall()]\n",
    "\n",
    "model.compile(\n",
    "    loss='binary_crossentropy',\n",
    "    optimizer=optimizers.Adam(),\n",
    "    metrics=[use_metrics]\n",
    ")"
   ]
  },
  {
   "cell_type": "code",
   "execution_count": 6,
   "metadata": {},
   "outputs": [
    {
     "name": "stdout",
     "output_type": "stream",
     "text": [
      "Epoch 1/20\n",
      "131/131 [==============================] - 90s 690ms/step - loss: 0.6088 - binary_accuracy: 0.7345 - precision: 0.7430 - recall: 0.9823 - val_loss: 0.5544 - val_binary_accuracy: 0.7383 - val_precision: 0.7451 - val_recall: 0.9845\n",
      "Epoch 2/20\n",
      "131/131 [==============================] - 90s 684ms/step - loss: 0.4771 - binary_accuracy: 0.7517 - precision: 0.7699 - recall: 0.9497 - val_loss: 0.5401 - val_binary_accuracy: 0.7488 - val_precision: 0.7816 - val_recall: 0.9187\n",
      "Epoch 3/20\n",
      "131/131 [==============================] - 89s 677ms/step - loss: 0.4318 - binary_accuracy: 0.7867 - precision: 0.8246 - recall: 0.9055 - val_loss: 0.4797 - val_binary_accuracy: 0.7967 - val_precision: 0.8339 - val_recall: 0.9071\n",
      "Epoch 4/20\n",
      "131/131 [==============================] - 89s 676ms/step - loss: 0.3939 - binary_accuracy: 0.8196 - precision: 0.8607 - recall: 0.9032 - val_loss: 0.4495 - val_binary_accuracy: 0.8188 - val_precision: 0.8617 - val_recall: 0.9006\n",
      "Epoch 5/20\n",
      "131/131 [==============================] - 89s 677ms/step - loss: 0.3665 - binary_accuracy: 0.8387 - precision: 0.8701 - recall: 0.9203 - val_loss: 0.4287 - val_binary_accuracy: 0.8198 - val_precision: 0.8601 - val_recall: 0.9045\n",
      "Epoch 6/20\n",
      "131/131 [==============================] - 89s 676ms/step - loss: 0.3548 - binary_accuracy: 0.8440 - precision: 0.8734 - recall: 0.9239 - val_loss: 0.3914 - val_binary_accuracy: 0.8150 - val_precision: 0.8829 - val_recall: 0.8658\n",
      "Epoch 7/20\n",
      "131/131 [==============================] - 89s 676ms/step - loss: 0.3096 - binary_accuracy: 0.8689 - precision: 0.8980 - recall: 0.9290 - val_loss: 0.3859 - val_binary_accuracy: 0.8428 - val_precision: 0.9156 - val_recall: 0.8684\n",
      "Epoch 8/20\n",
      "131/131 [==============================] - 88s 674ms/step - loss: 0.3132 - binary_accuracy: 0.8653 - precision: 0.8968 - recall: 0.9252 - val_loss: 0.3329 - val_binary_accuracy: 0.8533 - val_precision: 0.9039 - val_recall: 0.8981\n",
      "Epoch 9/20\n",
      "131/131 [==============================] - 88s 675ms/step - loss: 0.2946 - binary_accuracy: 0.8780 - precision: 0.9075 - recall: 0.9306 - val_loss: 0.3422 - val_binary_accuracy: 0.8523 - val_precision: 0.9307 - val_recall: 0.8658\n",
      "Epoch 10/20\n",
      "131/131 [==============================] - 88s 673ms/step - loss: 0.2932 - binary_accuracy: 0.8783 - precision: 0.9088 - recall: 0.9294 - val_loss: 0.3229 - val_binary_accuracy: 0.8600 - val_precision: 0.9079 - val_recall: 0.9032\n",
      "Epoch 11/20\n",
      "131/131 [==============================] - 88s 675ms/step - loss: 0.2775 - binary_accuracy: 0.8847 - precision: 0.9161 - recall: 0.9300 - val_loss: 0.3085 - val_binary_accuracy: 0.8706 - val_precision: 0.9103 - val_recall: 0.9161\n",
      "Epoch 12/20\n",
      "131/131 [==============================] - 88s 672ms/step - loss: 0.2638 - binary_accuracy: 0.8948 - precision: 0.9191 - recall: 0.9413 - val_loss: 0.3145 - val_binary_accuracy: 0.8619 - val_precision: 0.8834 - val_recall: 0.9381\n",
      "Epoch 13/20\n",
      "131/131 [==============================] - 89s 676ms/step - loss: 0.2506 - binary_accuracy: 0.8991 - precision: 0.9246 - recall: 0.9410 - val_loss: 0.2958 - val_binary_accuracy: 0.8773 - val_precision: 0.9378 - val_recall: 0.8942\n",
      "Epoch 14/20\n",
      "131/131 [==============================] - 88s 675ms/step - loss: 0.2625 - binary_accuracy: 0.8895 - precision: 0.9177 - recall: 0.9352 - val_loss: 0.2772 - val_binary_accuracy: 0.8830 - val_precision: 0.9348 - val_recall: 0.9058\n",
      "Epoch 15/20\n",
      "131/131 [==============================] - 88s 674ms/step - loss: 0.2476 - binary_accuracy: 0.8989 - precision: 0.9278 - recall: 0.9368 - val_loss: 0.3198 - val_binary_accuracy: 0.8504 - val_precision: 0.9453 - val_recall: 0.8477\n",
      "Epoch 16/20\n",
      "131/131 [==============================] - 89s 677ms/step - loss: 0.2502 - binary_accuracy: 0.8996 - precision: 0.9287 - recall: 0.9368 - val_loss: 0.2726 - val_binary_accuracy: 0.8802 - val_precision: 0.9114 - val_recall: 0.9290\n",
      "Epoch 17/20\n",
      "131/131 [==============================] - 89s 678ms/step - loss: 0.2482 - binary_accuracy: 0.9017 - precision: 0.9294 - recall: 0.9390 - val_loss: 0.2662 - val_binary_accuracy: 0.8849 - val_precision: 0.9161 - val_recall: 0.9303\n",
      "Epoch 18/20\n",
      "131/131 [==============================] - 88s 674ms/step - loss: 0.2353 - binary_accuracy: 0.9001 - precision: 0.9320 - recall: 0.9335 - val_loss: 0.2871 - val_binary_accuracy: 0.8706 - val_precision: 0.8931 - val_recall: 0.9381\n",
      "Epoch 19/20\n",
      "131/131 [==============================] - 88s 675ms/step - loss: 0.2334 - binary_accuracy: 0.9085 - precision: 0.9353 - recall: 0.9419 - val_loss: 0.2734 - val_binary_accuracy: 0.8821 - val_precision: 0.9256 - val_recall: 0.9148\n",
      "Epoch 20/20\n",
      "131/131 [==============================] - 88s 673ms/step - loss: 0.2381 - binary_accuracy: 0.9044 - precision: 0.9291 - recall: 0.9432 - val_loss: 0.2856 - val_binary_accuracy: 0.8763 - val_precision: 0.9549 - val_recall: 0.8748\n"
     ]
    },
    {
     "data": {
      "text/plain": [
       "<tensorflow.python.training.tracking.util.CheckpointLoadStatus at 0x7f3270b8ea90>"
      ]
     },
     "execution_count": 6,
     "metadata": {},
     "output_type": "execute_result"
    }
   ],
   "source": [
    "history = model.fit(\n",
    "    train_ds,\n",
    "    validation_data=val_ds,\n",
    "    epochs=20,\n",
    "    callbacks=callbacks\n",
    ")\n",
    "\n",
    "model.load_weights('save_data/05_dropout/')"
   ]
  },
  {
   "cell_type": "code",
   "execution_count": 7,
   "metadata": {},
   "outputs": [
    {
     "data": {
      "text/plain": [
       "<matplotlib.legend.Legend at 0x7f32702918e0>"
      ]
     },
     "execution_count": 7,
     "metadata": {},
     "output_type": "execute_result"
    },
    {
     "data": {
      "image/png": "[encoded data removed]",
      "text/plain": [
       "<Figure size 432x288 with 1 Axes>"
      ]
     },
     "metadata": {
      "needs_background": "light"
     },
     "output_type": "display_data"
    },
    {
     "data": {
      "image/png": "[encoded data removed]",
      "text/plain": [
       "<Figure size 432x288 with 1 Axes>"
      ]
     },
     "metadata": {
      "needs_background": "light"
     },
     "output_type": "display_data"
    }
   ],
   "source": [
    "acc = history.history['binary_accuracy']\n",
    "val_acc = history.history['val_binary_accuracy']\n",
    "loss = history.history['loss']\n",
    "val_loss = history.history['val_loss']\n",
    "epochs = range(len(acc))\n",
    "\n",
    "plt.plot(epochs, acc, label='Training acc')\n",
    "plt.plot(epochs, val_acc, label='Validation acc')\n",
    "plt.title('Training and validation accuracy')\n",
    "plt.legend()\n",
    "plt.figure()\n",
    "plt.plot(epochs, loss, label='Training loss')\n",
    "plt.plot(epochs, val_loss, label='Validation loss')\n",
    "plt.title('Training and validation loss')\n",
    "plt.legend()"
   ]
  },
  {
   "cell_type": "code",
   "execution_count": 8,
   "metadata": {},
   "outputs": [
    {
     "name": "stdout",
     "output_type": "stream",
     "text": [
      "131/131 [==============================] - 52s 397ms/step - loss: 0.2273 - binary_accuracy: 0.9065 - precision: 0.9628 - recall: 0.9094\n"
     ]
    }
   ],
   "source": [
    "train_res = model.evaluate(train_ds)"
   ]
  },
  {
   "cell_type": "code",
   "execution_count": 9,
   "metadata": {},
   "outputs": [
    {
     "name": "stdout",
     "output_type": "stream",
     "text": [
      "33/33 [==============================] - 13s 381ms/step - loss: 0.2737 - binary_accuracy: 0.8859 - precision: 0.9620 - recall: 0.8813\n"
     ]
    }
   ],
   "source": [
    "val_res = model.evaluate(val_ds)"
   ]
  },
  {
   "cell_type": "code",
   "execution_count": 10,
   "metadata": {},
   "outputs": [
    {
     "name": "stdout",
     "output_type": "stream",
     "text": [
      "Found 624 images belonging to 2 classes.\n"
     ]
    }
   ],
   "source": [
    "test_generator = keras.preprocessing.image.ImageDataGenerator(\n",
    "    rescale=1./255\n",
    ")\n",
    "\n",
    "test_ds = train_generator.flow_from_directory(\n",
    "    test_path,\n",
    "    target_size=(256,256),\n",
    "    class_mode='binary'\n",
    ")"
   ]
  },
  {
   "cell_type": "code",
   "execution_count": 11,
   "metadata": {},
   "outputs": [
    {
     "name": "stdout",
     "output_type": "stream",
     "text": [
      "20/20 [==============================] - 7s 342ms/step - loss: 0.3710 - binary_accuracy: 0.8526 - precision: 0.8582 - recall: 0.9154\n"
     ]
    }
   ],
   "source": [
    "test_res = model.evaluate(test_ds)"
   ]
  },
  {
   "cell_type": "code",
   "execution_count": 12,
   "metadata": {},
   "outputs": [
    {
     "name": "stdout",
     "output_type": "stream",
     "text": [
      "WARNING:tensorflow:From /home/jason/miniconda3/envs/learn-env/lib/python3.8/site-packages/tensorflow/python/training/tracking/tracking.py:111: Model.state_updates (from tensorflow.python.keras.engine.training) is deprecated and will be removed in a future version.\n",
      "Instructions for updating:\n",
      "This property should not be used in TensorFlow 2.0, as updates are applied automatically.\n",
      "WARNING:tensorflow:From /home/jason/miniconda3/envs/learn-env/lib/python3.8/site-packages/tensorflow/python/training/tracking/tracking.py:111: Layer.updates (from tensorflow.python.keras.engine.base_layer) is deprecated and will be removed in a future version.\n",
      "Instructions for updating:\n",
      "This property should not be used in TensorFlow 2.0, as updates are applied automatically.\n",
      "INFO:tensorflow:Assets written to: save_data/05_dropout/assets\n"
     ]
    }
   ],
   "source": [
    "model.save('save_data/05_dropout/')"
   ]
  }
 ],
 "metadata": {
  "interpreter": {
   "hash": "820d50b626c26dd23e815fdc6f0defc021162c216bd79fa699f42d79cf8fcc33"
  },
  "kernelspec": {
   "display_name": "Python 3.8.5 ('learn-env')",
   "language": "python",
   "name": "python3"
  },
  "language_info": {
   "codemirror_mode": {
    "name": "ipython",
    "version": 3
   },
   "file_extension": ".py",
   "mimetype": "text/x-python",
   "name": "python",
   "nbconvert_exporter": "python",
   "pygments_lexer": "ipython3",
   "version": "3.8.5"
  },
  "orig_nbformat": 4
 },
 "nbformat": 4,
 "nbformat_minor": 2
}
