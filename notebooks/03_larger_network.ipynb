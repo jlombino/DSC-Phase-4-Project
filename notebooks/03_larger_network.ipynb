{
 "cells": [
  {
   "cell_type": "code",
   "execution_count": 1,
   "metadata": {},
   "outputs": [],
   "source": [
    "import keras\n",
    "from keras import models\n",
    "from keras import layers\n",
    "from keras import optimizers\n",
    "from keras import metrics\n",
    "import matplotlib.pyplot as plt"
   ]
  },
  {
   "cell_type": "code",
   "execution_count": 2,
   "metadata": {},
   "outputs": [
    {
     "name": "stdout",
     "output_type": "stream",
     "text": [
      "Found 4173 images belonging to 2 classes.\n",
      "Found 1043 images belonging to 2 classes.\n"
     ]
    }
   ],
   "source": [
    "train_path = '../chest_xray/train'\n",
    "test_path = '../chest_xray/test'\n",
    "\n",
    "train_generator = keras.preprocessing.image.ImageDataGenerator(\n",
    "    rescale=1./255,\n",
    "    validation_split=0.2,\n",
    "    vertical_flip=True,\n",
    "    horizontal_flip=True,\n",
    "    rotation_range=90,\n",
    "    zoom_range=0.5\n",
    ")\n",
    "\n",
    "train_ds = train_generator.flow_from_directory(\n",
    "    train_path,\n",
    "    subset='training',\n",
    "    target_size=(256,256),\n",
    "    class_mode='binary',\n",
    "    seed=42\n",
    ")\n",
    "\n",
    "val_ds = train_generator.flow_from_directory(\n",
    "    train_path,\n",
    "    subset='validation',\n",
    "    target_size=(256,256),\n",
    "    class_mode='binary',\n",
    "    seed=42\n",
    ")"
   ]
  },
  {
   "cell_type": "code",
   "execution_count": 3,
   "metadata": {},
   "outputs": [],
   "source": [
    "model = models.Sequential()\n",
    "\n",
    "model.add(layers.Conv2D(32, (1, 1), activation='relu',padding='same',\n",
    "                        input_shape=(256, 256, 3)))                     \n",
    "model.add(layers.MaxPooling2D((2, 2)))\n",
    "\n",
    "model.add(layers.Conv2D(64, (1, 1), activation='relu',padding='same'))\n",
    "model.add(layers.MaxPooling2D((2, 2)))\n",
    "\n",
    "model.add(layers.Conv2D(128, (1, 1), activation='relu',padding='same'))\n",
    "model.add(layers.MaxPooling2D((2, 2)))\n",
    "\n",
    "model.add(layers.Flatten())\n",
    "model.add(layers.Dense(256, activation='relu'))\n",
    "model.add(layers.Dense(128, activation='relu'))\n",
    "model.add(layers.Dense(64, activation='relu'))\n",
    "model.add(layers.Dense(1, activation='sigmoid'))"
   ]
  },
  {
   "cell_type": "code",
   "execution_count": 4,
   "metadata": {},
   "outputs": [],
   "source": [
    "stop_early = keras.callbacks.EarlyStopping(\n",
    "    monitor='val_loss',\n",
    "    patience=4\n",
    ")\n",
    "\n",
    "checkpoint = keras.callbacks.ModelCheckpoint(\n",
    "    monitor='val_loss',\n",
    "    filepath='save_data/03_larger_network/',\n",
    "    save_weights_only=True\n",
    ")\n",
    "\n",
    "callbacks = [stop_early,checkpoint]"
   ]
  },
  {
   "cell_type": "code",
   "execution_count": 5,
   "metadata": {},
   "outputs": [],
   "source": [
    "use_metrics = [metrics.BinaryAccuracy(),\\\n",
    "                metrics.Precision(),\\\n",
    "                metrics.Recall()]\n",
    "\n",
    "model.compile(\n",
    "    loss='binary_crossentropy',\n",
    "    optimizer=optimizers.Adam(),\n",
    "    metrics=[use_metrics]\n",
    ")"
   ]
  },
  {
   "cell_type": "code",
   "execution_count": 6,
   "metadata": {},
   "outputs": [
    {
     "name": "stdout",
     "output_type": "stream",
     "text": [
      "Epoch 1/20\n",
      "131/131 [==============================] - 91s 692ms/step - loss: 0.5485 - binary_accuracy: 0.7486 - precision: 0.7681 - recall: 0.9477 - val_loss: 0.5172 - val_binary_accuracy: 0.7478 - val_precision: 0.7956 - val_recall: 0.8890\n",
      "Epoch 2/20\n",
      "131/131 [==============================] - 89s 682ms/step - loss: 0.4262 - binary_accuracy: 0.7997 - precision: 0.8325 - recall: 0.9142 - val_loss: 0.4849 - val_binary_accuracy: 0.7651 - val_precision: 0.8571 - val_recall: 0.8206\n",
      "Epoch 3/20\n",
      "131/131 [==============================] - 89s 679ms/step - loss: 0.3892 - binary_accuracy: 0.8239 - precision: 0.8626 - recall: 0.9074 - val_loss: 0.4207 - val_binary_accuracy: 0.8274 - val_precision: 0.8377 - val_recall: 0.9523\n",
      "Epoch 4/20\n",
      "131/131 [==============================] - 89s 678ms/step - loss: 0.3442 - binary_accuracy: 0.8517 - precision: 0.8851 - recall: 0.9197 - val_loss: 0.4094 - val_binary_accuracy: 0.8006 - val_precision: 0.8976 - val_recall: 0.8258\n",
      "Epoch 5/20\n",
      "131/131 [==============================] - 89s 676ms/step - loss: 0.3126 - binary_accuracy: 0.8670 - precision: 0.8978 - recall: 0.9265 - val_loss: 0.3946 - val_binary_accuracy: 0.8351 - val_precision: 0.8535 - val_recall: 0.9394\n",
      "Epoch 6/20\n",
      "131/131 [==============================] - 89s 680ms/step - loss: 0.2873 - binary_accuracy: 0.8804 - precision: 0.9096 - recall: 0.9316 - val_loss: 0.3405 - val_binary_accuracy: 0.8514 - val_precision: 0.9441 - val_recall: 0.8503\n",
      "Epoch 7/20\n",
      "131/131 [==============================] - 89s 681ms/step - loss: 0.2620 - binary_accuracy: 0.8926 - precision: 0.9223 - recall: 0.9342 - val_loss: 0.2804 - val_binary_accuracy: 0.8763 - val_precision: 0.9173 - val_recall: 0.9161\n",
      "Epoch 8/20\n",
      "131/131 [==============================] - 89s 681ms/step - loss: 0.2445 - binary_accuracy: 0.9008 - precision: 0.9291 - recall: 0.9381 - val_loss: 0.2625 - val_binary_accuracy: 0.8917 - val_precision: 0.9254 - val_recall: 0.9290\n",
      "Epoch 9/20\n",
      "131/131 [==============================] - 89s 682ms/step - loss: 0.2307 - binary_accuracy: 0.9070 - precision: 0.9360 - recall: 0.9390 - val_loss: 0.2479 - val_binary_accuracy: 0.8917 - val_precision: 0.9233 - val_recall: 0.9316\n",
      "Epoch 10/20\n",
      "131/131 [==============================] - 89s 682ms/step - loss: 0.2411 - binary_accuracy: 0.8991 - precision: 0.9320 - recall: 0.9323 - val_loss: 0.2504 - val_binary_accuracy: 0.8869 - val_precision: 0.9228 - val_recall: 0.9252\n",
      "Epoch 11/20\n",
      "131/131 [==============================] - 89s 677ms/step - loss: 0.2419 - binary_accuracy: 0.9029 - precision: 0.9318 - recall: 0.9381 - val_loss: 0.2676 - val_binary_accuracy: 0.8763 - val_precision: 0.9007 - val_recall: 0.9368\n",
      "Epoch 12/20\n",
      "131/131 [==============================] - 89s 677ms/step - loss: 0.2231 - binary_accuracy: 0.9097 - precision: 0.9332 - recall: 0.9461 - val_loss: 0.2602 - val_binary_accuracy: 0.8849 - val_precision: 0.9068 - val_recall: 0.9419\n",
      "Epoch 13/20\n",
      "131/131 [==============================] - 89s 681ms/step - loss: 0.2238 - binary_accuracy: 0.9125 - precision: 0.9365 - recall: 0.9465 - val_loss: 0.2635 - val_binary_accuracy: 0.8830 - val_precision: 0.9026 - val_recall: 0.9445\n"
     ]
    },
    {
     "data": {
      "text/plain": [
       "<tensorflow.python.training.tracking.util.CheckpointLoadStatus at 0x7fe7ac3d6970>"
      ]
     },
     "execution_count": 6,
     "metadata": {},
     "output_type": "execute_result"
    }
   ],
   "source": [
    "history = model.fit(\n",
    "    train_ds,\n",
    "    validation_data=val_ds,\n",
    "    epochs=20,\n",
    "    callbacks=callbacks\n",
    ")\n",
    "\n",
    "model.load_weights('save_data/03_larger_network/')"
   ]
  },
  {
   "cell_type": "code",
   "execution_count": 7,
   "metadata": {},
   "outputs": [
    {
     "data": {
      "text/plain": [
       "<matplotlib.legend.Legend at 0x7fe78c0ca160>"
      ]
     },
     "execution_count": 7,
     "metadata": {},
     "output_type": "execute_result"
    },
    {
     "data": {
      "image/png": "[encoded data removed]",
      "text/plain": [
       "<Figure size 432x288 with 1 Axes>"
      ]
     },
     "metadata": {
      "needs_background": "light"
     },
     "output_type": "display_data"
    },
    {
     "data": {
      "image/png": "[encoded data removed]",
      "text/plain": [
       "<Figure size 432x288 with 1 Axes>"
      ]
     },
     "metadata": {
      "needs_background": "light"
     },
     "output_type": "display_data"
    }
   ],
   "source": [
    "acc = history.history['binary_accuracy']\n",
    "val_acc = history.history['val_binary_accuracy']\n",
    "loss = history.history['loss']\n",
    "val_loss = history.history['val_loss']\n",
    "epochs = range(len(acc))\n",
    "\n",
    "plt.plot(epochs, acc, label='Training acc')\n",
    "plt.plot(epochs, val_acc, label='Validation acc')\n",
    "plt.title('Training and validation accuracy')\n",
    "plt.legend()\n",
    "plt.figure()\n",
    "plt.plot(epochs, loss, label='Training loss')\n",
    "plt.plot(epochs, val_loss, label='Validation loss')\n",
    "plt.title('Training and validation loss')\n",
    "plt.legend()"
   ]
  },
  {
   "cell_type": "code",
   "execution_count": 8,
   "metadata": {},
   "outputs": [
    {
     "name": "stdout",
     "output_type": "stream",
     "text": [
      "131/131 [==============================] - 52s 400ms/step - loss: 0.2166 - binary_accuracy: 0.9149 - precision: 0.9298 - recall: 0.9577\n"
     ]
    }
   ],
   "source": [
    "train_res = model.evaluate(train_ds)"
   ]
  },
  {
   "cell_type": "code",
   "execution_count": 9,
   "metadata": {},
   "outputs": [
    {
     "name": "stdout",
     "output_type": "stream",
     "text": [
      "33/33 [==============================] - 13s 382ms/step - loss: 0.2382 - binary_accuracy: 0.9032 - precision: 0.9234 - recall: 0.9484\n"
     ]
    }
   ],
   "source": [
    "val_res = model.evaluate(val_ds)"
   ]
  },
  {
   "cell_type": "code",
   "execution_count": 10,
   "metadata": {},
   "outputs": [
    {
     "name": "stdout",
     "output_type": "stream",
     "text": [
      "Found 624 images belonging to 2 classes.\n"
     ]
    }
   ],
   "source": [
    "test_generator = keras.preprocessing.image.ImageDataGenerator(\n",
    "    rescale=1./255\n",
    ")\n",
    "\n",
    "test_ds = train_generator.flow_from_directory(\n",
    "    test_path,\n",
    "    target_size=(256,256),\n",
    "    class_mode='binary'\n",
    ")"
   ]
  },
  {
   "cell_type": "code",
   "execution_count": 11,
   "metadata": {},
   "outputs": [
    {
     "name": "stdout",
     "output_type": "stream",
     "text": [
      "20/20 [==============================] - 7s 341ms/step - loss: 0.4386 - binary_accuracy: 0.8093 - precision: 0.7805 - recall: 0.9667\n"
     ]
    }
   ],
   "source": [
    "test_res = model.evaluate(test_ds)"
   ]
  },
  {
   "cell_type": "code",
   "execution_count": 12,
   "metadata": {},
   "outputs": [
    {
     "name": "stdout",
     "output_type": "stream",
     "text": [
      "WARNING:tensorflow:From /home/jason/miniconda3/envs/learn-env/lib/python3.8/site-packages/tensorflow/python/training/tracking/tracking.py:111: Model.state_updates (from tensorflow.python.keras.engine.training) is deprecated and will be removed in a future version.\n",
      "Instructions for updating:\n",
      "This property should not be used in TensorFlow 2.0, as updates are applied automatically.\n",
      "WARNING:tensorflow:From /home/jason/miniconda3/envs/learn-env/lib/python3.8/site-packages/tensorflow/python/training/tracking/tracking.py:111: Layer.updates (from tensorflow.python.keras.engine.base_layer) is deprecated and will be removed in a future version.\n",
      "Instructions for updating:\n",
      "This property should not be used in TensorFlow 2.0, as updates are applied automatically.\n",
      "INFO:tensorflow:Assets written to: save_data/03_larger_network/assets\n"
     ]
    }
   ],
   "source": [
    "model.save('save_data/03_larger_network/')"
   ]
  }
 ],
 "metadata": {
  "interpreter": {
   "hash": "820d50b626c26dd23e815fdc6f0defc021162c216bd79fa699f42d79cf8fcc33"
  },
  "kernelspec": {
   "display_name": "Python 3.8.5 ('learn-env')",
   "language": "python",
   "name": "python3"
  },
  "language_info": {
   "codemirror_mode": {
    "name": "ipython",
    "version": 3
   },
   "file_extension": ".py",
   "mimetype": "text/x-python",
   "name": "python",
   "nbconvert_exporter": "python",
   "pygments_lexer": "ipython3",
   "version": "3.8.5"
  },
  "orig_nbformat": 4
 },
 "nbformat": 4,
 "nbformat_minor": 2
}
