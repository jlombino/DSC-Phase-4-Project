{
 "cells": [
  {
   "cell_type": "code",
   "execution_count": 1,
   "metadata": {},
   "outputs": [],
   "source": [
    "import keras\n",
    "from keras import models\n",
    "from keras import layers\n",
    "from keras import optimizers\n",
    "from keras import metrics\n",
    "import matplotlib.pyplot as plt"
   ]
  },
  {
   "cell_type": "code",
   "execution_count": 2,
   "metadata": {},
   "outputs": [
    {
     "name": "stdout",
     "output_type": "stream",
     "text": [
      "Found 4175 images belonging to 2 classes.\n"
     ]
    }
   ],
   "source": [
    "train_path = '../chest_xray/train'\n",
    "test_path = '../chest_xray/test'\n",
    "val_path = '../chest_xray/val'\n",
    "\n",
    "train_generator = keras.preprocessing.image.ImageDataGenerator(\n",
    "    rescale=1./255,\n",
    "    horizontal_flip=True,\n",
    "    rotation_range=45,\n",
    "    zoom_range=0.3\n",
    ")\n",
    "\n",
    "train_ds = train_generator.flow_from_directory(\n",
    "    train_path,\n",
    "    target_size=(256,256),\n",
    "    class_mode='binary',\n",
    ")"
   ]
  },
  {
   "cell_type": "code",
   "execution_count": 3,
   "metadata": {},
   "outputs": [
    {
     "name": "stdout",
     "output_type": "stream",
     "text": [
      "Found 1057 images belonging to 2 classes.\n"
     ]
    }
   ],
   "source": [
    "val_generator = keras.preprocessing.image.ImageDataGenerator(\n",
    "    rescale=1./255\n",
    ")\n",
    "\n",
    "val_ds = val_generator.flow_from_directory(\n",
    "    val_path,\n",
    "    target_size=(256,256),\n",
    "    class_mode='binary',\n",
    ")"
   ]
  },
  {
   "cell_type": "code",
   "execution_count": 4,
   "metadata": {},
   "outputs": [
    {
     "name": "stdout",
     "output_type": "stream",
     "text": [
      "Found 624 images belonging to 2 classes.\n"
     ]
    }
   ],
   "source": [
    "test_generator = keras.preprocessing.image.ImageDataGenerator(\n",
    "    rescale=1./255\n",
    ")\n",
    "\n",
    "test_ds = test_generator.flow_from_directory(\n",
    "    test_path,\n",
    "    target_size=(256,256),\n",
    "    class_mode='binary'\n",
    ")"
   ]
  },
  {
   "cell_type": "code",
   "execution_count": 5,
   "metadata": {},
   "outputs": [],
   "source": [
    "model = models.Sequential()\n",
    "\n",
    "model.add(layers.Conv2D(32, (1, 1), activation='relu',padding='same',\n",
    "                        input_shape=(256, 256, 3)))                     \n",
    "model.add(layers.MaxPooling2D((2, 2)))\n",
    "\n",
    "model.add(layers.Conv2D(64, (1, 1), activation='relu',padding='same'))\n",
    "model.add(layers.MaxPooling2D((2, 2)))\n",
    "\n",
    "model.add(layers.Conv2D(128, (1, 1), activation='relu',padding='same'))\n",
    "model.add(layers.MaxPooling2D((2, 2)))\n",
    "\n",
    "model.add(layers.Flatten())\n",
    "model.add(layers.Dropout(0.25))\n",
    "model.add(layers.Dense(256, activation='relu'))\n",
    "model.add(layers.Dropout(0.25))\n",
    "model.add(layers.Dense(128, activation='relu'))\n",
    "model.add(layers.Dropout(0.25))\n",
    "model.add(layers.Dense(64, activation='relu'))\n",
    "model.add(layers.Dense(1, activation='sigmoid'))"
   ]
  },
  {
   "cell_type": "code",
   "execution_count": 6,
   "metadata": {},
   "outputs": [],
   "source": [
    "checkpoint = keras.callbacks.ModelCheckpoint(\n",
    "    monitor='val_loss',\n",
    "    filepath='save_data/05_dropout.hdf5',\n",
    "    save_best_only=True,\n",
    "    verbose=0\n",
    ")\n",
    "\n",
    "callbacks = [checkpoint]"
   ]
  },
  {
   "cell_type": "code",
   "execution_count": 7,
   "metadata": {},
   "outputs": [
    {
     "name": "stdout",
     "output_type": "stream",
     "text": [
      "Model: \"sequential\"\n",
      "_________________________________________________________________\n",
      "Layer (type)                 Output Shape              Param #   \n",
      "=================================================================\n",
      "conv2d (Conv2D)              (None, 256, 256, 32)      128       \n",
      "_________________________________________________________________\n",
      "max_pooling2d (MaxPooling2D) (None, 128, 128, 32)      0         \n",
      "_________________________________________________________________\n",
      "conv2d_1 (Conv2D)            (None, 128, 128, 64)      2112      \n",
      "_________________________________________________________________\n",
      "max_pooling2d_1 (MaxPooling2 (None, 64, 64, 64)        0         \n",
      "_________________________________________________________________\n",
      "conv2d_2 (Conv2D)            (None, 64, 64, 128)       8320      \n",
      "_________________________________________________________________\n",
      "max_pooling2d_2 (MaxPooling2 (None, 32, 32, 128)       0         \n",
      "_________________________________________________________________\n",
      "flatten (Flatten)            (None, 131072)            0         \n",
      "_________________________________________________________________\n",
      "dropout (Dropout)            (None, 131072)            0         \n",
      "_________________________________________________________________\n",
      "dense (Dense)                (None, 256)               33554688  \n",
      "_________________________________________________________________\n",
      "dropout_1 (Dropout)          (None, 256)               0         \n",
      "_________________________________________________________________\n",
      "dense_1 (Dense)              (None, 128)               32896     \n",
      "_________________________________________________________________\n",
      "dropout_2 (Dropout)          (None, 128)               0         \n",
      "_________________________________________________________________\n",
      "dense_2 (Dense)              (None, 64)                8256      \n",
      "_________________________________________________________________\n",
      "dense_3 (Dense)              (None, 1)                 65        \n",
      "=================================================================\n",
      "Total params: 33,606,465\n",
      "Trainable params: 33,606,465\n",
      "Non-trainable params: 0\n",
      "_________________________________________________________________\n",
      "None\n"
     ]
    }
   ],
   "source": [
    "use_metrics = [metrics.BinaryAccuracy(),\\\n",
    "                metrics.Precision(),\\\n",
    "                metrics.Recall()]\n",
    "\n",
    "model.compile(\n",
    "    loss='binary_crossentropy',\n",
    "    optimizer=optimizers.Adam(),\n",
    "    metrics=[use_metrics]\n",
    ")\n",
    "\n",
    "print(model.summary())"
   ]
  },
  {
   "cell_type": "code",
   "execution_count": 8,
   "metadata": {},
   "outputs": [
    {
     "name": "stdout",
     "output_type": "stream",
     "text": [
      "Epoch 1/20\n",
      "131/131 [==============================] - 83s 637ms/step - loss: 0.5228 - binary_accuracy: 0.7471 - precision: 0.7752 - recall: 0.9287 - val_loss: 0.4125 - val_binary_accuracy: 0.8202 - val_precision: 0.8674 - val_recall: 0.8940\n",
      "Epoch 2/20\n",
      "131/131 [==============================] - 83s 630ms/step - loss: 0.3458 - binary_accuracy: 0.8472 - precision: 0.8825 - recall: 0.9161 - val_loss: 0.3111 - val_binary_accuracy: 0.8638 - val_precision: 0.8763 - val_recall: 0.9502\n",
      "Epoch 3/20\n",
      "131/131 [==============================] - 83s 631ms/step - loss: 0.2830 - binary_accuracy: 0.8843 - precision: 0.9147 - recall: 0.9310 - val_loss: 0.2484 - val_binary_accuracy: 0.9007 - val_precision: 0.9357 - val_recall: 0.9298\n",
      "Epoch 4/20\n",
      "131/131 [==============================] - 83s 637ms/step - loss: 0.2488 - binary_accuracy: 0.9004 - precision: 0.9255 - recall: 0.9416 - val_loss: 0.2160 - val_binary_accuracy: 0.9073 - val_precision: 0.9363 - val_recall: 0.9387\n",
      "Epoch 5/20\n",
      "131/131 [==============================] - 83s 631ms/step - loss: 0.2346 - binary_accuracy: 0.9095 - precision: 0.9315 - recall: 0.9477 - val_loss: 0.2594 - val_binary_accuracy: 0.8950 - val_precision: 0.9814 - val_recall: 0.8748\n",
      "Epoch 6/20\n",
      "131/131 [==============================] - 83s 637ms/step - loss: 0.2235 - binary_accuracy: 0.9135 - precision: 0.9368 - recall: 0.9474 - val_loss: 0.2135 - val_binary_accuracy: 0.9035 - val_precision: 0.9697 - val_recall: 0.8978\n",
      "Epoch 7/20\n",
      "131/131 [==============================] - 83s 633ms/step - loss: 0.2114 - binary_accuracy: 0.9231 - precision: 0.9444 - recall: 0.9526 - val_loss: 0.1728 - val_binary_accuracy: 0.9243 - val_precision: 0.9334 - val_recall: 0.9668\n",
      "Epoch 8/20\n",
      "131/131 [==============================] - 82s 629ms/step - loss: 0.1952 - binary_accuracy: 0.9274 - precision: 0.9498 - recall: 0.9526 - val_loss: 0.1780 - val_binary_accuracy: 0.9243 - val_precision: 0.9808 - val_recall: 0.9157\n",
      "Epoch 9/20\n",
      "131/131 [==============================] - 83s 631ms/step - loss: 0.1981 - binary_accuracy: 0.9214 - precision: 0.9465 - recall: 0.9477 - val_loss: 0.2041 - val_binary_accuracy: 0.9205 - val_precision: 0.9874 - val_recall: 0.9042\n",
      "Epoch 10/20\n",
      "131/131 [==============================] - 83s 632ms/step - loss: 0.1829 - binary_accuracy: 0.9267 - precision: 0.9489 - recall: 0.9526 - val_loss: 0.1840 - val_binary_accuracy: 0.9290 - val_precision: 0.9917 - val_recall: 0.9119\n",
      "Epoch 11/20\n",
      "131/131 [==============================] - 83s 632ms/step - loss: 0.1792 - binary_accuracy: 0.9327 - precision: 0.9534 - recall: 0.9561 - val_loss: 0.1649 - val_binary_accuracy: 0.9338 - val_precision: 0.9747 - val_recall: 0.9349\n",
      "Epoch 12/20\n",
      "131/131 [==============================] - 82s 630ms/step - loss: 0.1780 - binary_accuracy: 0.9344 - precision: 0.9543 - recall: 0.9574 - val_loss: 0.2198 - val_binary_accuracy: 0.9120 - val_precision: 0.9915 - val_recall: 0.8889\n",
      "Epoch 13/20\n",
      "131/131 [==============================] - 83s 630ms/step - loss: 0.1807 - binary_accuracy: 0.9356 - precision: 0.9547 - recall: 0.9587 - val_loss: 0.1888 - val_binary_accuracy: 0.9215 - val_precision: 0.9848 - val_recall: 0.9080\n",
      "Epoch 14/20\n",
      "131/131 [==============================] - 83s 630ms/step - loss: 0.1790 - binary_accuracy: 0.9341 - precision: 0.9535 - recall: 0.9581 - val_loss: 0.1544 - val_binary_accuracy: 0.9404 - val_precision: 0.9651 - val_recall: 0.9540\n",
      "Epoch 15/20\n",
      "131/131 [==============================] - 82s 625ms/step - loss: 0.1853 - binary_accuracy: 0.9301 - precision: 0.9497 - recall: 0.9565 - val_loss: 0.2405 - val_binary_accuracy: 0.9016 - val_precision: 0.9971 - val_recall: 0.8697\n",
      "Epoch 16/20\n",
      "131/131 [==============================] - 82s 629ms/step - loss: 0.1771 - binary_accuracy: 0.9349 - precision: 0.9564 - recall: 0.9558 - val_loss: 0.1671 - val_binary_accuracy: 0.9290 - val_precision: 0.9733 - val_recall: 0.9298\n",
      "Epoch 17/20\n",
      "131/131 [==============================] - 82s 627ms/step - loss: 0.1742 - binary_accuracy: 0.9337 - precision: 0.9549 - recall: 0.9558 - val_loss: 0.1748 - val_binary_accuracy: 0.9290 - val_precision: 0.9863 - val_recall: 0.9170\n",
      "Epoch 18/20\n",
      "131/131 [==============================] - 82s 627ms/step - loss: 0.1614 - binary_accuracy: 0.9430 - precision: 0.9634 - recall: 0.9597 - val_loss: 0.1929 - val_binary_accuracy: 0.9253 - val_precision: 0.9809 - val_recall: 0.9170\n",
      "Epoch 19/20\n",
      "131/131 [==============================] - 82s 629ms/step - loss: 0.1702 - binary_accuracy: 0.9327 - precision: 0.9560 - recall: 0.9532 - val_loss: 0.1902 - val_binary_accuracy: 0.9205 - val_precision: 0.9521 - val_recall: 0.9400\n",
      "Epoch 20/20\n",
      "131/131 [==============================] - 82s 627ms/step - loss: 0.1585 - binary_accuracy: 0.9389 - precision: 0.9596 - recall: 0.9581 - val_loss: 0.2086 - val_binary_accuracy: 0.9120 - val_precision: 0.9971 - val_recall: 0.8838\n"
     ]
    }
   ],
   "source": [
    "history = model.fit(\n",
    "    train_ds,\n",
    "    validation_data=val_ds,\n",
    "    epochs=20,\n",
    "    callbacks=callbacks\n",
    ")\n",
    "\n",
    "model = keras.models.load_model('save_data/05_dropout.hdf5')"
   ]
  },
  {
   "cell_type": "code",
   "execution_count": 9,
   "metadata": {},
   "outputs": [
    {
     "data": {
      "text/plain": [
       "<matplotlib.legend.Legend at 0x7f04485f38e0>"
      ]
     },
     "execution_count": 9,
     "metadata": {},
     "output_type": "execute_result"
    },
    {
     "data": {
      "image/png": "[encoded data removed]",
      "text/plain": [
       "<Figure size 432x288 with 1 Axes>"
      ]
     },
     "metadata": {
      "needs_background": "light"
     },
     "output_type": "display_data"
    },
    {
     "data": {
      "image/png": "[encoded data removed]",
      "text/plain": [
       "<Figure size 432x288 with 1 Axes>"
      ]
     },
     "metadata": {
      "needs_background": "light"
     },
     "output_type": "display_data"
    }
   ],
   "source": [
    "acc = history.history['binary_accuracy']\n",
    "val_acc = history.history['val_binary_accuracy']\n",
    "loss = history.history['loss']\n",
    "val_loss = history.history['val_loss']\n",
    "epochs = range(len(acc))\n",
    "\n",
    "plt.plot(epochs, acc, label='Training acc')\n",
    "plt.plot(epochs, val_acc, label='Validation acc')\n",
    "plt.title('Training and validation accuracy')\n",
    "plt.legend()\n",
    "plt.figure()\n",
    "plt.plot(epochs, loss, label='Training loss')\n",
    "plt.plot(epochs, val_loss, label='Validation loss')\n",
    "plt.title('Training and validation loss')\n",
    "plt.legend()"
   ]
  },
  {
   "cell_type": "code",
   "execution_count": 10,
   "metadata": {},
   "outputs": [
    {
     "name": "stdout",
     "output_type": "stream",
     "text": [
      "131/131 [==============================] - 52s 397ms/step - loss: 0.1753 - binary_accuracy: 0.9325 - precision: 0.9290 - recall: 0.9842\n"
     ]
    }
   ],
   "source": [
    "train_res = model.evaluate(train_ds)"
   ]
  },
  {
   "cell_type": "code",
   "execution_count": 11,
   "metadata": {},
   "outputs": [
    {
     "name": "stdout",
     "output_type": "stream",
     "text": [
      "34/34 [==============================] - 7s 211ms/step - loss: 0.1544 - binary_accuracy: 0.9404 - precision: 0.9651 - recall: 0.9540\n"
     ]
    }
   ],
   "source": [
    "val_res = model.evaluate(val_ds)"
   ]
  },
  {
   "cell_type": "code",
   "execution_count": 12,
   "metadata": {},
   "outputs": [
    {
     "name": "stdout",
     "output_type": "stream",
     "text": [
      "20/20 [==============================] - 4s 184ms/step - loss: 0.3919 - binary_accuracy: 0.8670 - precision: 0.8344 - recall: 0.9821\n"
     ]
    }
   ],
   "source": [
    "test_res = model.evaluate(test_ds)"
   ]
  }
 ],
 "metadata": {
  "interpreter": {
   "hash": "820d50b626c26dd23e815fdc6f0defc021162c216bd79fa699f42d79cf8fcc33"
  },
  "kernelspec": {
   "display_name": "Python 3.8.5 ('learn-env')",
   "language": "python",
   "name": "python3"
  },
  "language_info": {
   "codemirror_mode": {
    "name": "ipython",
    "version": 3
   },
   "file_extension": ".py",
   "mimetype": "text/x-python",
   "name": "python",
   "nbconvert_exporter": "python",
   "pygments_lexer": "ipython3",
   "version": "3.8.5"
  },
  "orig_nbformat": 4
 },
 "nbformat": 4,
 "nbformat_minor": 2
}
