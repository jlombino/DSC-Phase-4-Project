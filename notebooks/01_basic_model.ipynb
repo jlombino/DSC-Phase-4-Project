{
 "cells": [
  {
   "cell_type": "code",
   "execution_count": 1,
   "metadata": {},
   "outputs": [],
   "source": [
    "import keras\n",
    "from keras import models\n",
    "from keras import layers\n",
    "from keras import optimizers\n",
    "from keras import metrics\n",
    "import matplotlib.pyplot as plt"
   ]
  },
  {
   "cell_type": "code",
   "execution_count": 2,
   "metadata": {},
   "outputs": [
    {
     "name": "stdout",
     "output_type": "stream",
     "text": [
      "Found 4175 images belonging to 2 classes.\n"
     ]
    }
   ],
   "source": [
    "train_path = '../chest_xray/train'\n",
    "test_path = '../chest_xray/test'\n",
    "val_path = '../chest_xray/val'\n",
    "\n",
    "train_generator = keras.preprocessing.image.ImageDataGenerator(\n",
    "    rescale=1./255\n",
    ")\n",
    "\n",
    "train_ds = train_generator.flow_from_directory(\n",
    "    train_path,\n",
    "    target_size=(256,256),\n",
    "    class_mode='binary'\n",
    ")"
   ]
  },
  {
   "cell_type": "code",
   "execution_count": 3,
   "metadata": {},
   "outputs": [
    {
     "name": "stdout",
     "output_type": "stream",
     "text": [
      "Found 1057 images belonging to 2 classes.\n"
     ]
    }
   ],
   "source": [
    "val_generator = keras.preprocessing.image.ImageDataGenerator(\n",
    "    rescale=1./255\n",
    ")\n",
    "\n",
    "val_ds = val_generator.flow_from_directory(\n",
    "    val_path,\n",
    "    target_size=(256,256),\n",
    "    class_mode='binary'\n",
    ")"
   ]
  },
  {
   "cell_type": "code",
   "execution_count": 4,
   "metadata": {},
   "outputs": [
    {
     "name": "stdout",
     "output_type": "stream",
     "text": [
      "Found 624 images belonging to 2 classes.\n"
     ]
    }
   ],
   "source": [
    "test_generator = keras.preprocessing.image.ImageDataGenerator(\n",
    "    rescale=1./255\n",
    ")\n",
    "\n",
    "test_ds = test_generator.flow_from_directory(\n",
    "    test_path,\n",
    "    target_size=(256,256),\n",
    "    class_mode='binary'\n",
    ")"
   ]
  },
  {
   "cell_type": "code",
   "execution_count": 5,
   "metadata": {},
   "outputs": [],
   "source": [
    "model = models.Sequential()\n",
    "\n",
    "model.add(layers.Conv2D(32, (1, 1), activation='relu',\n",
    "                        input_shape=(256, 256, 3)))\n",
    "model.add(layers.MaxPooling2D((2, 2)))\n",
    "\n",
    "model.add(layers.Conv2D(64, (1, 1), activation='relu'))\n",
    "model.add(layers.MaxPooling2D((2, 2)))\n",
    "\n",
    "model.add(layers.Flatten())\n",
    "model.add(layers.Dense(256, activation='relu'))\n",
    "model.add(layers.Dense(1, activation='sigmoid'))"
   ]
  },
  {
   "cell_type": "code",
   "execution_count": 6,
   "metadata": {},
   "outputs": [],
   "source": [
    "checkpoint = keras.callbacks.ModelCheckpoint(\n",
    "    monitor='val_loss',\n",
    "    filepath='save_data/01_basic_model.hdf5',\n",
    "    save_best_only=True,\n",
    "    verbose=0\n",
    ")\n",
    "\n",
    "callbacks = [checkpoint]"
   ]
  },
  {
   "cell_type": "code",
   "execution_count": 7,
   "metadata": {},
   "outputs": [
    {
     "name": "stdout",
     "output_type": "stream",
     "text": [
      "Model: \"sequential\"\n",
      "_________________________________________________________________\n",
      "Layer (type)                 Output Shape              Param #   \n",
      "=================================================================\n",
      "conv2d (Conv2D)              (None, 256, 256, 32)      128       \n",
      "_________________________________________________________________\n",
      "max_pooling2d (MaxPooling2D) (None, 128, 128, 32)      0         \n",
      "_________________________________________________________________\n",
      "conv2d_1 (Conv2D)            (None, 128, 128, 64)      2112      \n",
      "_________________________________________________________________\n",
      "max_pooling2d_1 (MaxPooling2 (None, 64, 64, 64)        0         \n",
      "_________________________________________________________________\n",
      "flatten (Flatten)            (None, 262144)            0         \n",
      "_________________________________________________________________\n",
      "dense (Dense)                (None, 256)               67109120  \n",
      "_________________________________________________________________\n",
      "dense_1 (Dense)              (None, 1)                 257       \n",
      "=================================================================\n",
      "Total params: 67,111,617\n",
      "Trainable params: 67,111,617\n",
      "Non-trainable params: 0\n",
      "_________________________________________________________________\n",
      "None\n"
     ]
    }
   ],
   "source": [
    "use_metrics = [metrics.BinaryAccuracy(),\\\n",
    "                metrics.Precision(),\\\n",
    "                metrics.Recall()]\n",
    "\n",
    "model.compile(\n",
    "    loss='binary_crossentropy',\n",
    "    optimizer=optimizers.Adam(),\n",
    "    metrics=[use_metrics]\n",
    ")\n",
    "\n",
    "print(model.summary())"
   ]
  },
  {
   "cell_type": "code",
   "execution_count": 8,
   "metadata": {},
   "outputs": [
    {
     "name": "stdout",
     "output_type": "stream",
     "text": [
      "Epoch 1/20\n",
      "131/131 [==============================] - 68s 518ms/step - loss: 1.7019 - binary_accuracy: 0.8472 - precision: 0.8878 - recall: 0.9090 - val_loss: 0.1744 - val_binary_accuracy: 0.9262 - val_precision: 0.9273 - val_recall: 0.9770\n",
      "Epoch 2/20\n",
      "131/131 [==============================] - 66s 505ms/step - loss: 0.1216 - binary_accuracy: 0.9576 - precision: 0.9665 - recall: 0.9768 - val_loss: 0.1269 - val_binary_accuracy: 0.9489 - val_precision: 0.9620 - val_recall: 0.9693\n",
      "Epoch 3/20\n",
      "131/131 [==============================] - 66s 505ms/step - loss: 0.0941 - binary_accuracy: 0.9657 - precision: 0.9731 - recall: 0.9810 - val_loss: 0.1255 - val_binary_accuracy: 0.9461 - val_precision: 0.9814 - val_recall: 0.9451\n",
      "Epoch 4/20\n",
      "131/131 [==============================] - 66s 507ms/step - loss: 0.0837 - binary_accuracy: 0.9691 - precision: 0.9772 - recall: 0.9813 - val_loss: 0.0999 - val_binary_accuracy: 0.9518 - val_precision: 0.9778 - val_recall: 0.9566\n",
      "Epoch 5/20\n",
      "131/131 [==============================] - 66s 500ms/step - loss: 0.0697 - binary_accuracy: 0.9737 - precision: 0.9798 - recall: 0.9848 - val_loss: 0.1028 - val_binary_accuracy: 0.9565 - val_precision: 0.9881 - val_recall: 0.9527\n",
      "Epoch 6/20\n",
      "131/131 [==============================] - 67s 508ms/step - loss: 0.0596 - binary_accuracy: 0.9799 - precision: 0.9855 - recall: 0.9874 - val_loss: 0.0911 - val_binary_accuracy: 0.9640 - val_precision: 0.9770 - val_recall: 0.9745\n",
      "Epoch 7/20\n",
      "131/131 [==============================] - 66s 507ms/step - loss: 0.0402 - binary_accuracy: 0.9854 - precision: 0.9906 - recall: 0.9897 - val_loss: 0.0886 - val_binary_accuracy: 0.9669 - val_precision: 0.9675 - val_recall: 0.9885\n",
      "Epoch 8/20\n",
      "131/131 [==============================] - 66s 502ms/step - loss: 0.0449 - binary_accuracy: 0.9844 - precision: 0.9881 - recall: 0.9910 - val_loss: 0.0898 - val_binary_accuracy: 0.9640 - val_precision: 0.9782 - val_recall: 0.9732\n",
      "Epoch 9/20\n",
      "131/131 [==============================] - 66s 502ms/step - loss: 0.0312 - binary_accuracy: 0.9890 - precision: 0.9935 - recall: 0.9916 - val_loss: 0.1149 - val_binary_accuracy: 0.9574 - val_precision: 0.9894 - val_recall: 0.9527\n",
      "Epoch 10/20\n",
      "131/131 [==============================] - 65s 499ms/step - loss: 0.0214 - binary_accuracy: 0.9945 - precision: 0.9981 - recall: 0.9945 - val_loss: 0.1180 - val_binary_accuracy: 0.9536 - val_precision: 0.9906 - val_recall: 0.9464\n",
      "Epoch 11/20\n",
      "131/131 [==============================] - 66s 502ms/step - loss: 0.0292 - binary_accuracy: 0.9878 - precision: 0.9904 - recall: 0.9932 - val_loss: 0.1240 - val_binary_accuracy: 0.9536 - val_precision: 0.9880 - val_recall: 0.9489\n",
      "Epoch 12/20\n",
      "131/131 [==============================] - 66s 502ms/step - loss: 0.0154 - binary_accuracy: 0.9959 - precision: 0.9981 - recall: 0.9965 - val_loss: 0.1038 - val_binary_accuracy: 0.9640 - val_precision: 0.9733 - val_recall: 0.9783\n",
      "Epoch 13/20\n",
      "131/131 [==============================] - 66s 504ms/step - loss: 0.0232 - binary_accuracy: 0.9902 - precision: 0.9932 - recall: 0.9935 - val_loss: 0.1137 - val_binary_accuracy: 0.9593 - val_precision: 0.9707 - val_recall: 0.9745\n",
      "Epoch 14/20\n",
      "131/131 [==============================] - 66s 501ms/step - loss: 0.0145 - binary_accuracy: 0.9957 - precision: 0.9974 - recall: 0.9968 - val_loss: 0.1003 - val_binary_accuracy: 0.9659 - val_precision: 0.9663 - val_recall: 0.9885\n",
      "Epoch 15/20\n",
      "131/131 [==============================] - 66s 505ms/step - loss: 0.0115 - binary_accuracy: 0.9969 - precision: 0.9974 - recall: 0.9984 - val_loss: 0.0984 - val_binary_accuracy: 0.9669 - val_precision: 0.9722 - val_recall: 0.9834\n",
      "Epoch 16/20\n",
      "131/131 [==============================] - 66s 506ms/step - loss: 0.0052 - binary_accuracy: 0.9993 - precision: 0.9994 - recall: 0.9997 - val_loss: 0.1076 - val_binary_accuracy: 0.9707 - val_precision: 0.9845 - val_recall: 0.9757\n",
      "Epoch 17/20\n",
      "131/131 [==============================] - 66s 507ms/step - loss: 0.0030 - binary_accuracy: 0.9998 - precision: 1.0000 - recall: 0.9997 - val_loss: 0.1255 - val_binary_accuracy: 0.9584 - val_precision: 0.9590 - val_recall: 0.9860\n",
      "Epoch 18/20\n",
      "131/131 [==============================] - 66s 507ms/step - loss: 0.0048 - binary_accuracy: 0.9990 - precision: 0.9994 - recall: 0.9994 - val_loss: 0.1237 - val_binary_accuracy: 0.9650 - val_precision: 0.9882 - val_recall: 0.9642\n",
      "Epoch 19/20\n",
      "131/131 [==============================] - 66s 504ms/step - loss: 0.0020 - binary_accuracy: 1.0000 - precision: 1.0000 - recall: 1.0000 - val_loss: 0.1371 - val_binary_accuracy: 0.9622 - val_precision: 0.9882 - val_recall: 0.9604\n",
      "Epoch 20/20\n",
      "131/131 [==============================] - 66s 506ms/step - loss: 0.0013 - binary_accuracy: 1.0000 - precision: 1.0000 - recall: 1.0000 - val_loss: 0.1242 - val_binary_accuracy: 0.9669 - val_precision: 0.9770 - val_recall: 0.9783\n"
     ]
    }
   ],
   "source": [
    "history = model.fit(\n",
    "    train_ds,\n",
    "    validation_data=val_ds,\n",
    "    epochs=20,\n",
    "    callbacks=callbacks\n",
    ")\n",
    "\n",
    "model = keras.models.load_model('save_data/01_basic_model.hdf5')"
   ]
  },
  {
   "cell_type": "code",
   "execution_count": 9,
   "metadata": {},
   "outputs": [
    {
     "data": {
      "text/plain": [
       "<matplotlib.legend.Legend at 0x7f211825a7f0>"
      ]
     },
     "execution_count": 9,
     "metadata": {},
     "output_type": "execute_result"
    },
    {
     "data": {
      "image/png": "[encoded data removed]",
      "text/plain": [
       "<Figure size 432x288 with 1 Axes>"
      ]
     },
     "metadata": {
      "needs_background": "light"
     },
     "output_type": "display_data"
    },
    {
     "data": {
      "image/png": "[encoded data removed]",
      "text/plain": [
       "<Figure size 432x288 with 1 Axes>"
      ]
     },
     "metadata": {
      "needs_background": "light"
     },
     "output_type": "display_data"
    }
   ],
   "source": [
    "acc = history.history['binary_accuracy']\n",
    "val_acc = history.history['val_binary_accuracy']\n",
    "loss = history.history['loss']\n",
    "val_loss = history.history['val_loss']\n",
    "epochs = range(len(acc))\n",
    "\n",
    "plt.plot(epochs, acc, label='Training acc')\n",
    "plt.plot(epochs, val_acc, label='Validation acc')\n",
    "plt.title('Training and validation accuracy')\n",
    "plt.legend()\n",
    "plt.figure()\n",
    "plt.plot(epochs, loss, label='Training loss')\n",
    "plt.plot(epochs, val_loss, label='Validation loss')\n",
    "plt.title('Training and validation loss')\n",
    "plt.legend()"
   ]
  },
  {
   "cell_type": "code",
   "execution_count": 10,
   "metadata": {},
   "outputs": [
    {
     "name": "stdout",
     "output_type": "stream",
     "text": [
      "131/131 [==============================] - 30s 229ms/step - loss: 0.0338 - binary_accuracy: 0.9880 - precision: 0.9872 - recall: 0.9968\n"
     ]
    }
   ],
   "source": [
    "train_res = model.evaluate(train_ds)"
   ]
  },
  {
   "cell_type": "code",
   "execution_count": 11,
   "metadata": {},
   "outputs": [
    {
     "name": "stdout",
     "output_type": "stream",
     "text": [
      "34/34 [==============================] - 7s 217ms/step - loss: 0.0886 - binary_accuracy: 0.9669 - precision: 0.9675 - recall: 0.9885\n"
     ]
    }
   ],
   "source": [
    "val_res = model.evaluate(val_ds)"
   ]
  },
  {
   "cell_type": "code",
   "execution_count": 12,
   "metadata": {},
   "outputs": [
    {
     "name": "stdout",
     "output_type": "stream",
     "text": [
      "20/20 [==============================] - 4s 183ms/step - loss: 1.3210 - binary_accuracy: 0.7276 - precision: 0.6978 - recall: 0.9949\n"
     ]
    }
   ],
   "source": [
    "test_res = model.evaluate(test_ds)"
   ]
  }
 ],
 "metadata": {
  "interpreter": {
   "hash": "820d50b626c26dd23e815fdc6f0defc021162c216bd79fa699f42d79cf8fcc33"
  },
  "kernelspec": {
   "display_name": "Python 3.8.5 ('learn-env')",
   "language": "python",
   "name": "python3"
  },
  "language_info": {
   "codemirror_mode": {
    "name": "ipython",
    "version": 3
   },
   "file_extension": ".py",
   "mimetype": "text/x-python",
   "name": "python",
   "nbconvert_exporter": "python",
   "pygments_lexer": "ipython3",
   "version": "3.8.5"
  },
  "orig_nbformat": 4
 },
 "nbformat": 4,
 "nbformat_minor": 2
}
