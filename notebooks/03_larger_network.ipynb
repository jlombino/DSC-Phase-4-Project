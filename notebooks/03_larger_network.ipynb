{
 "cells": [
  {
   "cell_type": "code",
   "execution_count": 1,
   "metadata": {},
   "outputs": [],
   "source": [
    "import keras\n",
    "from keras import models\n",
    "from keras import layers\n",
    "from keras import optimizers\n",
    "from keras import metrics\n",
    "import matplotlib.pyplot as plt"
   ]
  },
  {
   "cell_type": "code",
   "execution_count": 2,
   "metadata": {},
   "outputs": [
    {
     "name": "stdout",
     "output_type": "stream",
     "text": [
      "Found 4173 images belonging to 2 classes.\n",
      "Found 1043 images belonging to 2 classes.\n"
     ]
    }
   ],
   "source": [
    "train_path = '../chest_xray/train'\n",
    "test_path = '../chest_xray/test'\n",
    "\n",
    "train_generator = keras.preprocessing.image.ImageDataGenerator(\n",
    "    rescale=1./255,\n",
    "    validation_split=0.2,\n",
    "    vertical_flip=True,\n",
    "    horizontal_flip=True,\n",
    "    rotation_range=90,\n",
    "    zoom_range=0.5\n",
    ")\n",
    "\n",
    "train_ds = train_generator.flow_from_directory(\n",
    "    train_path,\n",
    "    subset='training',\n",
    "    target_size=(256,256),\n",
    "    class_mode='binary',\n",
    "    seed=42\n",
    ")\n",
    "\n",
    "val_ds = train_generator.flow_from_directory(\n",
    "    train_path,\n",
    "    subset='validation',\n",
    "    target_size=(256,256),\n",
    "    class_mode='binary',\n",
    "    seed=42\n",
    ")"
   ]
  },
  {
   "cell_type": "code",
   "execution_count": 3,
   "metadata": {},
   "outputs": [],
   "source": [
    "model = models.Sequential()\n",
    "\n",
    "model.add(layers.Conv2D(32, (1, 1), activation='relu',padding='same',\n",
    "                        input_shape=(256, 256, 3)))                     \n",
    "model.add(layers.MaxPooling2D((2, 2)))\n",
    "\n",
    "model.add(layers.Conv2D(64, (1, 1), activation='relu',padding='same'))\n",
    "model.add(layers.MaxPooling2D((2, 2)))\n",
    "\n",
    "model.add(layers.Conv2D(128, (1, 1), activation='relu',padding='same'))\n",
    "model.add(layers.MaxPooling2D((2, 2)))\n",
    "\n",
    "model.add(layers.Flatten())\n",
    "model.add(layers.Dense(256, activation='relu'))\n",
    "model.add(layers.Dense(128, activation='relu'))\n",
    "model.add(layers.Dense(64, activation='relu'))\n",
    "model.add(layers.Dense(1, activation='sigmoid'))"
   ]
  },
  {
   "cell_type": "code",
   "execution_count": 4,
   "metadata": {},
   "outputs": [],
   "source": [
    "stop_early = keras.callbacks.EarlyStopping(\n",
    "    monitor='val_loss',\n",
    "    patience=4\n",
    ")\n",
    "\n",
    "checkpoint = keras.callbacks.ModelCheckpoint(\n",
    "    monitor='val_loss',\n",
    "    filepath='save_data/larger_network/',\n",
    "    save_weights_only=True\n",
    ")\n",
    "\n",
    "callbacks = [stop_early,checkpoint]"
   ]
  },
  {
   "cell_type": "code",
   "execution_count": 5,
   "metadata": {},
   "outputs": [],
   "source": [
    "use_metrics = [metrics.BinaryAccuracy(),\\\n",
    "                metrics.Precision(),\\\n",
    "                metrics.Recall()]\n",
    "\n",
    "model.compile(\n",
    "    loss='binary_crossentropy',\n",
    "    optimizer=optimizers.Adam(),\n",
    "    metrics=[use_metrics]\n",
    ")"
   ]
  },
  {
   "cell_type": "code",
   "execution_count": 6,
   "metadata": {},
   "outputs": [
    {
     "name": "stdout",
     "output_type": "stream",
     "text": [
      "Epoch 1/20\n",
      "131/131 [==============================] - 90s 688ms/step - loss: 0.5467 - binary_accuracy: 0.7426 - precision: 0.7615 - recall: 0.9516 - val_loss: 0.5721 - val_binary_accuracy: 0.6999 - val_precision: 0.8281 - val_recall: 0.7523\n",
      "Epoch 2/20\n",
      "131/131 [==============================] - 89s 681ms/step - loss: 0.4310 - binary_accuracy: 0.7901 - precision: 0.8308 - recall: 0.9010 - val_loss: 0.5203 - val_binary_accuracy: 0.7843 - val_precision: 0.7865 - val_recall: 0.9742\n",
      "Epoch 3/20\n",
      "131/131 [==============================] - 88s 675ms/step - loss: 0.3801 - binary_accuracy: 0.8318 - precision: 0.8676 - recall: 0.9129 - val_loss: 0.4370 - val_binary_accuracy: 0.8006 - val_precision: 0.8092 - val_recall: 0.9574\n",
      "Epoch 4/20\n",
      "131/131 [==============================] - 89s 678ms/step - loss: 0.3623 - binary_accuracy: 0.8435 - precision: 0.8770 - recall: 0.9181 - val_loss: 0.4523 - val_binary_accuracy: 0.8150 - val_precision: 0.8270 - val_recall: 0.9497\n",
      "Epoch 5/20\n",
      "131/131 [==============================] - 89s 677ms/step - loss: 0.3273 - binary_accuracy: 0.8615 - precision: 0.8948 - recall: 0.9219 - val_loss: 0.4260 - val_binary_accuracy: 0.8236 - val_precision: 0.8316 - val_recall: 0.9561\n",
      "Epoch 6/20\n",
      "131/131 [==============================] - 89s 678ms/step - loss: 0.3200 - binary_accuracy: 0.8553 - precision: 0.8942 - recall: 0.9132 - val_loss: 0.3646 - val_binary_accuracy: 0.8370 - val_precision: 0.8844 - val_recall: 0.8981\n",
      "Epoch 7/20\n",
      "131/131 [==============================] - 88s 675ms/step - loss: 0.2935 - binary_accuracy: 0.8737 - precision: 0.9112 - recall: 0.9197 - val_loss: 0.3387 - val_binary_accuracy: 0.8610 - val_precision: 0.9245 - val_recall: 0.8852\n",
      "Epoch 8/20\n",
      "131/131 [==============================] - 89s 678ms/step - loss: 0.2778 - binary_accuracy: 0.8874 - precision: 0.9159 - recall: 0.9342 - val_loss: 0.2823 - val_binary_accuracy: 0.8782 - val_precision: 0.9175 - val_recall: 0.9187\n",
      "Epoch 9/20\n",
      "131/131 [==============================] - 89s 679ms/step - loss: 0.2533 - binary_accuracy: 0.9003 - precision: 0.9282 - recall: 0.9384 - val_loss: 0.2849 - val_binary_accuracy: 0.8849 - val_precision: 0.9281 - val_recall: 0.9161\n",
      "Epoch 10/20\n",
      "131/131 [==============================] - 89s 676ms/step - loss: 0.2407 - binary_accuracy: 0.9013 - precision: 0.9313 - recall: 0.9361 - val_loss: 0.3967 - val_binary_accuracy: 0.8447 - val_precision: 0.8342 - val_recall: 0.9871\n",
      "Epoch 11/20\n",
      "131/131 [==============================] - 88s 676ms/step - loss: 0.2401 - binary_accuracy: 0.9015 - precision: 0.9308 - recall: 0.9371 - val_loss: 0.2857 - val_binary_accuracy: 0.8715 - val_precision: 0.8981 - val_recall: 0.9329\n",
      "Epoch 12/20\n",
      "131/131 [==============================] - 88s 675ms/step - loss: 0.2364 - binary_accuracy: 0.9075 - precision: 0.9335 - recall: 0.9426 - val_loss: 0.2916 - val_binary_accuracy: 0.8744 - val_precision: 0.9305 - val_recall: 0.8981\n"
     ]
    },
    {
     "data": {
      "text/plain": [
       "<tensorflow.python.training.tracking.util.CheckpointLoadStatus at 0x7f6764021a30>"
      ]
     },
     "execution_count": 6,
     "metadata": {},
     "output_type": "execute_result"
    }
   ],
   "source": [
    "history = model.fit(\n",
    "    train_ds,\n",
    "    validation_data=val_ds,\n",
    "    epochs=20,\n",
    "    callbacks=callbacks\n",
    ")\n",
    "\n",
    "model.load_weights('save_data/larger_network/')"
   ]
  },
  {
   "cell_type": "code",
   "execution_count": 7,
   "metadata": {},
   "outputs": [
    {
     "data": {
      "text/plain": [
       "<matplotlib.legend.Legend at 0x7f67540e5550>"
      ]
     },
     "execution_count": 7,
     "metadata": {},
     "output_type": "execute_result"
    },
    {
     "data": {
      "image/png": "[encoded data removed]",
      "text/plain": [
       "<Figure size 432x288 with 1 Axes>"
      ]
     },
     "metadata": {
      "needs_background": "light"
     },
     "output_type": "display_data"
    },
    {
     "data": {
      "image/png": "[encoded data removed]",
      "text/plain": [
       "<Figure size 432x288 with 1 Axes>"
      ]
     },
     "metadata": {
      "needs_background": "light"
     },
     "output_type": "display_data"
    }
   ],
   "source": [
    "acc = history.history['binary_accuracy']\n",
    "val_acc = history.history['val_binary_accuracy']\n",
    "loss = history.history['loss']\n",
    "val_loss = history.history['val_loss']\n",
    "epochs = range(len(acc))\n",
    "\n",
    "plt.plot(epochs, acc, label='Training acc')\n",
    "plt.plot(epochs, val_acc, label='Validation acc')\n",
    "plt.title('Training and validation accuracy')\n",
    "plt.legend()\n",
    "plt.figure()\n",
    "plt.plot(epochs, loss, label='Training loss')\n",
    "plt.plot(epochs, val_loss, label='Validation loss')\n",
    "plt.title('Training and validation loss')\n",
    "plt.legend()"
   ]
  },
  {
   "cell_type": "code",
   "execution_count": 8,
   "metadata": {},
   "outputs": [
    {
     "name": "stdout",
     "output_type": "stream",
     "text": [
      "Found 624 images belonging to 2 classes.\n"
     ]
    }
   ],
   "source": [
    "test_generator = keras.preprocessing.image.ImageDataGenerator(\n",
    "    rescale=1./255\n",
    ")\n",
    "\n",
    "test_ds = train_generator.flow_from_directory(\n",
    "    test_path,\n",
    "    target_size=(256,256),\n",
    "    class_mode='binary'\n",
    ")"
   ]
  },
  {
   "cell_type": "code",
   "execution_count": 9,
   "metadata": {},
   "outputs": [
    {
     "name": "stdout",
     "output_type": "stream",
     "text": [
      "20/20 [==============================] - 7s 346ms/step - loss: 0.4549 - binary_accuracy: 0.8301 - precision: 0.8170 - recall: 0.9385\n"
     ]
    }
   ],
   "source": [
    "test_res = model.evaluate(test_ds)"
   ]
  },
  {
   "cell_type": "code",
   "execution_count": 10,
   "metadata": {},
   "outputs": [
    {
     "name": "stdout",
     "output_type": "stream",
     "text": [
      "WARNING:tensorflow:From /home/jason/miniconda3/envs/learn-env/lib/python3.8/site-packages/tensorflow/python/training/tracking/tracking.py:111: Model.state_updates (from tensorflow.python.keras.engine.training) is deprecated and will be removed in a future version.\n",
      "Instructions for updating:\n",
      "This property should not be used in TensorFlow 2.0, as updates are applied automatically.\n",
      "WARNING:tensorflow:From /home/jason/miniconda3/envs/learn-env/lib/python3.8/site-packages/tensorflow/python/training/tracking/tracking.py:111: Layer.updates (from tensorflow.python.keras.engine.base_layer) is deprecated and will be removed in a future version.\n",
      "Instructions for updating:\n",
      "This property should not be used in TensorFlow 2.0, as updates are applied automatically.\n",
      "INFO:tensorflow:Assets written to: save_data/larger_network/assets\n"
     ]
    }
   ],
   "source": [
    "model.save('save_data/larger_network/')"
   ]
  }
 ],
 "metadata": {
  "interpreter": {
   "hash": "820d50b626c26dd23e815fdc6f0defc021162c216bd79fa699f42d79cf8fcc33"
  },
  "kernelspec": {
   "display_name": "Python 3.8.5 ('learn-env')",
   "language": "python",
   "name": "python3"
  },
  "language_info": {
   "codemirror_mode": {
    "name": "ipython",
    "version": 3
   },
   "file_extension": ".py",
   "mimetype": "text/x-python",
   "name": "python",
   "nbconvert_exporter": "python",
   "pygments_lexer": "ipython3",
   "version": "3.8.5"
  },
  "orig_nbformat": 4
 },
 "nbformat": 4,
 "nbformat_minor": 2
}
