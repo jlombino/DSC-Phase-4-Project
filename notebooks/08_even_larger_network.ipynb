{
 "cells": [
  {
   "cell_type": "code",
   "execution_count": 1,
   "metadata": {},
   "outputs": [],
   "source": [
    "import keras\n",
    "from keras import models\n",
    "from keras import layers\n",
    "from keras import optimizers\n",
    "from keras import metrics\n",
    "import matplotlib.pyplot as plt"
   ]
  },
  {
   "cell_type": "code",
   "execution_count": 2,
   "metadata": {},
   "outputs": [
    {
     "name": "stdout",
     "output_type": "stream",
     "text": [
      "Found 4175 images belonging to 2 classes.\n"
     ]
    }
   ],
   "source": [
    "train_path = '../chest_xray/train'\n",
    "test_path = '../chest_xray/test'\n",
    "val_path = '../chest_xray/val'\n",
    "\n",
    "train_generator = keras.preprocessing.image.ImageDataGenerator(\n",
    "    rescale=1./255,\n",
    "    horizontal_flip=True,\n",
    "    rotation_range=45,\n",
    "    zoom_range=0.3\n",
    ")\n",
    "\n",
    "train_ds = train_generator.flow_from_directory(\n",
    "    train_path,\n",
    "    target_size=(256,256),\n",
    "    class_mode='binary',\n",
    ")"
   ]
  },
  {
   "cell_type": "code",
   "execution_count": 3,
   "metadata": {},
   "outputs": [
    {
     "name": "stdout",
     "output_type": "stream",
     "text": [
      "Found 1057 images belonging to 2 classes.\n"
     ]
    }
   ],
   "source": [
    "val_generator = keras.preprocessing.image.ImageDataGenerator(\n",
    "    rescale=1./255\n",
    ")\n",
    "\n",
    "val_ds = val_generator.flow_from_directory(\n",
    "    val_path,\n",
    "    target_size=(256,256),\n",
    "    class_mode='binary',\n",
    ")"
   ]
  },
  {
   "cell_type": "code",
   "execution_count": 4,
   "metadata": {},
   "outputs": [
    {
     "name": "stdout",
     "output_type": "stream",
     "text": [
      "Found 624 images belonging to 2 classes.\n"
     ]
    }
   ],
   "source": [
    "test_generator = keras.preprocessing.image.ImageDataGenerator(\n",
    "    rescale=1./255\n",
    ")\n",
    "\n",
    "test_ds = test_generator.flow_from_directory(\n",
    "    test_path,\n",
    "    target_size=(256,256),\n",
    "    class_mode='binary'\n",
    ")"
   ]
  },
  {
   "cell_type": "code",
   "execution_count": 5,
   "metadata": {},
   "outputs": [],
   "source": [
    "model = models.Sequential()\n",
    "\n",
    "model.add(layers.Conv2D(32, (1, 1), activation='relu',padding='same',\n",
    "                        input_shape=(256, 256, 3)))     \n",
    "model.add(layers.Conv2D(32, (1, 1), activation='relu',padding='same'))                \n",
    "model.add(layers.MaxPooling2D((2, 2)))\n",
    "\n",
    "model.add(layers.Conv2D(64, (1, 1), activation='relu',padding='same'))\n",
    "model.add(layers.Conv2D(64, (1, 1), activation='relu',padding='same'))\n",
    "model.add(layers.MaxPooling2D((2, 2)))\n",
    "\n",
    "model.add(layers.Conv2D(128, (1, 1), activation='relu',padding='same'))\n",
    "model.add(layers.Conv2D(128, (1, 1), activation='relu',padding='same'))\n",
    "model.add(layers.MaxPooling2D((2, 2)))\n",
    "\n",
    "model.add(layers.Conv2D(256, (1, 1), activation='relu',padding='same'))\n",
    "model.add(layers.Conv2D(256, (1, 1), activation='relu',padding='same'))\n",
    "model.add(layers.MaxPooling2D((2, 2)))\n",
    "\n",
    "model.add(layers.Flatten())\n",
    "model.add(layers.Dense(512, activation='relu'))\n",
    "model.add(layers.Dropout(rate=0.25))\n",
    "model.add(layers.Dense(512, activation='relu'))\n",
    "model.add(layers.Dropout(rate=0.25))\n",
    "model.add(layers.Dense(256, activation='relu'))\n",
    "model.add(layers.Dropout(rate=0.25))\n",
    "model.add(layers.Dense(128, activation='relu'))\n",
    "model.add(layers.Dropout(rate=0.25))\n",
    "model.add(layers.Dense(64, activation='relu'))\n",
    "model.add(layers.Dropout(rate=0.25))\n",
    "model.add(layers.Dense(32, activation='relu'))\n",
    "model.add(layers.Dense(1, activation='sigmoid'))"
   ]
  },
  {
   "cell_type": "code",
   "execution_count": 6,
   "metadata": {},
   "outputs": [],
   "source": [
    "checkpoint = keras.callbacks.ModelCheckpoint(\n",
    "    monitor='val_loss',\n",
    "    filepath='save_data/08_even_larger_network.hdf5',\n",
    "    save_best_only=True,\n",
    "    verbose=0\n",
    ")\n",
    "\n",
    "callbacks = [checkpoint]"
   ]
  },
  {
   "cell_type": "code",
   "execution_count": 7,
   "metadata": {},
   "outputs": [
    {
     "name": "stdout",
     "output_type": "stream",
     "text": [
      "Model: \"sequential\"\n",
      "_________________________________________________________________\n",
      "Layer (type)                 Output Shape              Param #   \n",
      "=================================================================\n",
      "conv2d (Conv2D)              (None, 256, 256, 32)      128       \n",
      "_________________________________________________________________\n",
      "conv2d_1 (Conv2D)            (None, 256, 256, 32)      1056      \n",
      "_________________________________________________________________\n",
      "max_pooling2d (MaxPooling2D) (None, 128, 128, 32)      0         \n",
      "_________________________________________________________________\n",
      "conv2d_2 (Conv2D)            (None, 128, 128, 64)      2112      \n",
      "_________________________________________________________________\n",
      "conv2d_3 (Conv2D)            (None, 128, 128, 64)      4160      \n",
      "_________________________________________________________________\n",
      "max_pooling2d_1 (MaxPooling2 (None, 64, 64, 64)        0         \n",
      "_________________________________________________________________\n",
      "conv2d_4 (Conv2D)            (None, 64, 64, 128)       8320      \n",
      "_________________________________________________________________\n",
      "conv2d_5 (Conv2D)            (None, 64, 64, 128)       16512     \n",
      "_________________________________________________________________\n",
      "max_pooling2d_2 (MaxPooling2 (None, 32, 32, 128)       0         \n",
      "_________________________________________________________________\n",
      "conv2d_6 (Conv2D)            (None, 32, 32, 256)       33024     \n",
      "_________________________________________________________________\n",
      "conv2d_7 (Conv2D)            (None, 32, 32, 256)       65792     \n",
      "_________________________________________________________________\n",
      "max_pooling2d_3 (MaxPooling2 (None, 16, 16, 256)       0         \n",
      "_________________________________________________________________\n",
      "flatten (Flatten)            (None, 65536)             0         \n",
      "_________________________________________________________________\n",
      "dense (Dense)                (None, 512)               33554944  \n",
      "_________________________________________________________________\n",
      "dropout (Dropout)            (None, 512)               0         \n",
      "_________________________________________________________________\n",
      "dense_1 (Dense)              (None, 512)               262656    \n",
      "_________________________________________________________________\n",
      "dropout_1 (Dropout)          (None, 512)               0         \n",
      "_________________________________________________________________\n",
      "dense_2 (Dense)              (None, 256)               131328    \n",
      "_________________________________________________________________\n",
      "dropout_2 (Dropout)          (None, 256)               0         \n",
      "_________________________________________________________________\n",
      "dense_3 (Dense)              (None, 128)               32896     \n",
      "_________________________________________________________________\n",
      "dropout_3 (Dropout)          (None, 128)               0         \n",
      "_________________________________________________________________\n",
      "dense_4 (Dense)              (None, 64)                8256      \n",
      "_________________________________________________________________\n",
      "dropout_4 (Dropout)          (None, 64)                0         \n",
      "_________________________________________________________________\n",
      "dense_5 (Dense)              (None, 32)                2080      \n",
      "_________________________________________________________________\n",
      "dense_6 (Dense)              (None, 1)                 33        \n",
      "=================================================================\n",
      "Total params: 34,123,297\n",
      "Trainable params: 34,123,297\n",
      "Non-trainable params: 0\n",
      "_________________________________________________________________\n",
      "None\n"
     ]
    }
   ],
   "source": [
    "use_metrics = [metrics.BinaryAccuracy(),\\\n",
    "                metrics.Precision(),\\\n",
    "                metrics.Recall()]\n",
    "\n",
    "model.compile(\n",
    "    loss='binary_crossentropy',\n",
    "    optimizer=optimizers.Adam(),\n",
    "    metrics=[use_metrics]\n",
    ")\n",
    "\n",
    "print(model.summary())"
   ]
  },
  {
   "cell_type": "code",
   "execution_count": 8,
   "metadata": {},
   "outputs": [
    {
     "name": "stdout",
     "output_type": "stream",
     "text": [
      "Epoch 1/20\n",
      "131/131 [==============================] - 109s 831ms/step - loss: 0.5833 - binary_accuracy: 0.7322 - precision: 0.7415 - recall: 0.9816 - val_loss: 0.4822 - val_binary_accuracy: 0.7408 - val_precision: 0.7408 - val_recall: 1.0000\n",
      "Epoch 2/20\n",
      "131/131 [==============================] - 114s 868ms/step - loss: 0.4133 - binary_accuracy: 0.7696 - precision: 0.7787 - recall: 0.9635 - val_loss: 0.2603 - val_binary_accuracy: 0.8846 - val_precision: 0.9797 - val_recall: 0.8621\n",
      "Epoch 3/20\n",
      "131/131 [==============================] - 107s 815ms/step - loss: 0.3400 - binary_accuracy: 0.8479 - precision: 0.8919 - recall: 0.9048 - val_loss: 0.2501 - val_binary_accuracy: 0.8855 - val_precision: 0.9367 - val_recall: 0.9068\n",
      "Epoch 4/20\n",
      "131/131 [==============================] - 107s 814ms/step - loss: 0.2776 - binary_accuracy: 0.8891 - precision: 0.9217 - recall: 0.9297 - val_loss: 0.1763 - val_binary_accuracy: 0.9272 - val_precision: 0.9633 - val_recall: 0.9374\n",
      "Epoch 5/20\n",
      "131/131 [==============================] - 106s 808ms/step - loss: 0.2498 - binary_accuracy: 0.9040 - precision: 0.9264 - recall: 0.9458 - val_loss: 0.1900 - val_binary_accuracy: 0.9253 - val_precision: 0.9560 - val_recall: 0.9425\n",
      "Epoch 6/20\n",
      "131/131 [==============================] - 106s 809ms/step - loss: 0.2251 - binary_accuracy: 0.9119 - precision: 0.9337 - recall: 0.9487 - val_loss: 0.1789 - val_binary_accuracy: 0.9224 - val_precision: 0.9848 - val_recall: 0.9093\n",
      "Epoch 7/20\n",
      "131/131 [==============================] - 106s 810ms/step - loss: 0.2241 - binary_accuracy: 0.9164 - precision: 0.9427 - recall: 0.9448 - val_loss: 0.1841 - val_binary_accuracy: 0.9243 - val_precision: 0.9862 - val_recall: 0.9106\n",
      "Epoch 8/20\n",
      "131/131 [==============================] - 106s 810ms/step - loss: 0.2243 - binary_accuracy: 0.9164 - precision: 0.9357 - recall: 0.9529 - val_loss: 0.1952 - val_binary_accuracy: 0.9262 - val_precision: 0.9757 - val_recall: 0.9234\n",
      "Epoch 9/20\n",
      "131/131 [==============================] - 106s 810ms/step - loss: 0.2058 - binary_accuracy: 0.9253 - precision: 0.9520 - recall: 0.9471 - val_loss: 0.1965 - val_binary_accuracy: 0.9196 - val_precision: 0.9834 - val_recall: 0.9068\n",
      "Epoch 10/20\n",
      "131/131 [==============================] - 106s 812ms/step - loss: 0.1937 - binary_accuracy: 0.9267 - precision: 0.9506 - recall: 0.9506 - val_loss: 0.1893 - val_binary_accuracy: 0.9357 - val_precision: 0.9723 - val_recall: 0.9400\n",
      "Epoch 11/20\n",
      "131/131 [==============================] - 107s 817ms/step - loss: 0.1983 - binary_accuracy: 0.9234 - precision: 0.9467 - recall: 0.9503 - val_loss: 0.1550 - val_binary_accuracy: 0.9376 - val_precision: 0.9838 - val_recall: 0.9310\n",
      "Epoch 12/20\n",
      "131/131 [==============================] - 107s 816ms/step - loss: 0.1954 - binary_accuracy: 0.9291 - precision: 0.9502 - recall: 0.9545 - val_loss: 0.1794 - val_binary_accuracy: 0.9319 - val_precision: 0.9917 - val_recall: 0.9157\n",
      "Epoch 13/20\n",
      "131/131 [==============================] - 107s 817ms/step - loss: 0.1915 - binary_accuracy: 0.9277 - precision: 0.9519 - recall: 0.9506 - val_loss: 0.1666 - val_binary_accuracy: 0.9272 - val_precision: 0.9889 - val_recall: 0.9119\n",
      "Epoch 14/20\n",
      "131/131 [==============================] - 107s 817ms/step - loss: 0.1878 - binary_accuracy: 0.9274 - precision: 0.9467 - recall: 0.9561 - val_loss: 0.1765 - val_binary_accuracy: 0.9347 - val_precision: 0.9554 - val_recall: 0.9566\n",
      "Epoch 15/20\n",
      "131/131 [==============================] - 107s 818ms/step - loss: 0.1857 - binary_accuracy: 0.9281 - precision: 0.9525 - recall: 0.9506 - val_loss: 0.2467 - val_binary_accuracy: 0.9073 - val_precision: 0.9957 - val_recall: 0.8787\n",
      "Epoch 16/20\n",
      "131/131 [==============================] - 107s 817ms/step - loss: 0.1833 - binary_accuracy: 0.9322 - precision: 0.9539 - recall: 0.9548 - val_loss: 0.1669 - val_binary_accuracy: 0.9338 - val_precision: 0.9722 - val_recall: 0.9374\n",
      "Epoch 17/20\n",
      "131/131 [==============================] - 109s 829ms/step - loss: 0.1791 - binary_accuracy: 0.9327 - precision: 0.9516 - recall: 0.9581 - val_loss: 0.1894 - val_binary_accuracy: 0.9177 - val_precision: 0.9929 - val_recall: 0.8953\n",
      "Epoch 18/20\n",
      "131/131 [==============================] - 108s 826ms/step - loss: 0.1788 - binary_accuracy: 0.9334 - precision: 0.9531 - recall: 0.9574 - val_loss: 0.1745 - val_binary_accuracy: 0.9376 - val_precision: 0.9786 - val_recall: 0.9361\n",
      "Epoch 19/20\n",
      "131/131 [==============================] - 107s 820ms/step - loss: 0.1789 - binary_accuracy: 0.9301 - precision: 0.9494 - recall: 0.9568 - val_loss: 0.1367 - val_binary_accuracy: 0.9451 - val_precision: 0.9763 - val_recall: 0.9489\n",
      "Epoch 20/20\n",
      "131/131 [==============================] - 107s 815ms/step - loss: 0.1821 - binary_accuracy: 0.9298 - precision: 0.9523 - recall: 0.9532 - val_loss: 0.1692 - val_binary_accuracy: 0.9338 - val_precision: 0.9418 - val_recall: 0.9706\n"
     ]
    }
   ],
   "source": [
    "history = model.fit(\n",
    "    train_ds,\n",
    "    validation_data=val_ds,\n",
    "    epochs=20,\n",
    "    callbacks=callbacks\n",
    ")\n",
    "\n",
    "model.load_weights('save_data/08_even_larger_network.hdf5')"
   ]
  },
  {
   "cell_type": "code",
   "execution_count": 9,
   "metadata": {},
   "outputs": [
    {
     "data": {
      "text/plain": [
       "<matplotlib.legend.Legend at 0x7fd3ac487eb0>"
      ]
     },
     "execution_count": 9,
     "metadata": {},
     "output_type": "execute_result"
    },
    {
     "data": {
      "image/png": "[encoded data removed]",
      "text/plain": [
       "<Figure size 432x288 with 1 Axes>"
      ]
     },
     "metadata": {
      "needs_background": "light"
     },
     "output_type": "display_data"
    },
    {
     "data": {
      "image/png": "[encoded data removed]",
      "text/plain": [
       "<Figure size 432x288 with 1 Axes>"
      ]
     },
     "metadata": {
      "needs_background": "light"
     },
     "output_type": "display_data"
    }
   ],
   "source": [
    "acc = history.history['binary_accuracy']\n",
    "val_acc = history.history['val_binary_accuracy']\n",
    "loss = history.history['loss']\n",
    "val_loss = history.history['val_loss']\n",
    "epochs = range(len(acc))\n",
    "\n",
    "plt.plot(epochs, acc, label='Training acc')\n",
    "plt.plot(epochs, val_acc, label='Validation acc')\n",
    "plt.title('Training and validation accuracy')\n",
    "plt.legend()\n",
    "plt.figure()\n",
    "plt.plot(epochs, loss, label='Training loss')\n",
    "plt.plot(epochs, val_loss, label='Validation loss')\n",
    "plt.title('Training and validation loss')\n",
    "plt.legend()"
   ]
  },
  {
   "cell_type": "code",
   "execution_count": 10,
   "metadata": {},
   "outputs": [
    {
     "name": "stdout",
     "output_type": "stream",
     "text": [
      "131/131 [==============================] - 56s 431ms/step - loss: 0.1405 - binary_accuracy: 0.9483 - precision: 0.9572 - recall: 0.9739\n"
     ]
    }
   ],
   "source": [
    "train_res = model.evaluate(train_ds)"
   ]
  },
  {
   "cell_type": "code",
   "execution_count": 11,
   "metadata": {},
   "outputs": [
    {
     "name": "stdout",
     "output_type": "stream",
     "text": [
      "34/34 [==============================] - 8s 246ms/step - loss: 0.1367 - binary_accuracy: 0.9451 - precision: 0.9763 - recall: 0.9489\n"
     ]
    }
   ],
   "source": [
    "val_res = model.evaluate(val_ds)"
   ]
  },
  {
   "cell_type": "code",
   "execution_count": 12,
   "metadata": {},
   "outputs": [
    {
     "name": "stdout",
     "output_type": "stream",
     "text": [
      "20/20 [==============================] - 4s 217ms/step - loss: 0.4621 - binary_accuracy: 0.8718 - precision: 0.8414 - recall: 0.9795\n"
     ]
    }
   ],
   "source": [
    "test_res = model.evaluate(test_ds)"
   ]
  }
 ],
 "metadata": {
  "interpreter": {
   "hash": "820d50b626c26dd23e815fdc6f0defc021162c216bd79fa699f42d79cf8fcc33"
  },
  "kernelspec": {
   "display_name": "Python 3.8.5 ('learn-env')",
   "language": "python",
   "name": "python3"
  },
  "language_info": {
   "codemirror_mode": {
    "name": "ipython",
    "version": 3
   },
   "file_extension": ".py",
   "mimetype": "text/x-python",
   "name": "python",
   "nbconvert_exporter": "python",
   "pygments_lexer": "ipython3",
   "version": "3.8.5"
  },
  "orig_nbformat": 4
 },
 "nbformat": 4,
 "nbformat_minor": 2
}
