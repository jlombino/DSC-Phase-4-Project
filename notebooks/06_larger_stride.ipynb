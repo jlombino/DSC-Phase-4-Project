{
 "cells": [
  {
   "cell_type": "code",
   "execution_count": 1,
   "metadata": {},
   "outputs": [],
   "source": [
    "import keras\n",
    "from keras import models\n",
    "from keras import layers\n",
    "from keras import optimizers\n",
    "from keras import metrics\n",
    "import matplotlib.pyplot as plt"
   ]
  },
  {
   "cell_type": "code",
   "execution_count": 2,
   "metadata": {},
   "outputs": [
    {
     "name": "stdout",
     "output_type": "stream",
     "text": [
      "Found 4173 images belonging to 2 classes.\n",
      "Found 1043 images belonging to 2 classes.\n"
     ]
    }
   ],
   "source": [
    "train_path = '../chest_xray/train'\n",
    "test_path = '../chest_xray/test'\n",
    "\n",
    "train_generator = keras.preprocessing.image.ImageDataGenerator(\n",
    "    rescale=1./255,\n",
    "    validation_split=0.2,\n",
    "    vertical_flip=True,\n",
    "    horizontal_flip=True,\n",
    "    rotation_range=90,\n",
    "    zoom_range=0.5\n",
    ")\n",
    "\n",
    "train_ds = train_generator.flow_from_directory(\n",
    "    train_path,\n",
    "    subset='training',\n",
    "    target_size=(256,256),\n",
    "    class_mode='binary',\n",
    "    seed=42\n",
    ")\n",
    "\n",
    "val_ds = train_generator.flow_from_directory(\n",
    "    train_path,\n",
    "    subset='validation',\n",
    "    target_size=(256,256),\n",
    "    class_mode='binary',\n",
    "    seed=42\n",
    ")"
   ]
  },
  {
   "cell_type": "code",
   "execution_count": 3,
   "metadata": {},
   "outputs": [],
   "source": [
    "model = models.Sequential()\n",
    "\n",
    "model.add(layers.Conv2D(32, (4, 4), activation='relu',padding='same',\n",
    "                        input_shape=(256, 256, 3)))                     \n",
    "model.add(layers.MaxPooling2D((2, 2)))\n",
    "\n",
    "model.add(layers.Conv2D(64, (4, 4), activation='relu',padding='same'))\n",
    "model.add(layers.MaxPooling2D((2, 2)))\n",
    "\n",
    "model.add(layers.Conv2D(128, (4, 4), activation='relu',padding='same'))\n",
    "model.add(layers.MaxPooling2D((2, 2)))\n",
    "\n",
    "model.add(layers.Flatten())\n",
    "model.add(layers.Dense(256, activation='relu'))\n",
    "model.add(layers.Dense(128, activation='relu'))\n",
    "model.add(layers.Dense(64, activation='relu'))\n",
    "model.add(layers.Dense(1, activation='sigmoid'))"
   ]
  },
  {
   "cell_type": "code",
   "execution_count": 4,
   "metadata": {},
   "outputs": [],
   "source": [
    "stop_early = keras.callbacks.EarlyStopping(\n",
    "    monitor='val_loss',\n",
    "    patience=4\n",
    ")\n",
    "\n",
    "checkpoint = keras.callbacks.ModelCheckpoint(\n",
    "    monitor='val_loss',\n",
    "    filepath='save_data/06_larger_stride/',\n",
    "    save_weights_only=True\n",
    ")\n",
    "\n",
    "callbacks = [stop_early,checkpoint]"
   ]
  },
  {
   "cell_type": "code",
   "execution_count": 5,
   "metadata": {},
   "outputs": [],
   "source": [
    "use_metrics = [metrics.BinaryAccuracy(),\\\n",
    "                metrics.Precision(),\\\n",
    "                metrics.Recall()]\n",
    "\n",
    "model.compile(\n",
    "    loss='binary_crossentropy',\n",
    "    optimizer=optimizers.Adam(),\n",
    "    metrics=[use_metrics]\n",
    ")"
   ]
  },
  {
   "cell_type": "code",
   "execution_count": 6,
   "metadata": {},
   "outputs": [
    {
     "name": "stdout",
     "output_type": "stream",
     "text": [
      "Epoch 1/20\n",
      "131/131 [==============================] - 120s 918ms/step - loss: 0.5458 - binary_accuracy: 0.7529 - precision: 0.7710 - recall: 0.9494 - val_loss: 0.4521 - val_binary_accuracy: 0.7440 - val_precision: 0.7442 - val_recall: 0.9987\n",
      "Epoch 2/20\n",
      "131/131 [==============================] - 119s 911ms/step - loss: 0.4000 - binary_accuracy: 0.8095 - precision: 0.8417 - recall: 0.9158 - val_loss: 0.4028 - val_binary_accuracy: 0.8015 - val_precision: 0.8389 - val_recall: 0.9071\n",
      "Epoch 3/20\n",
      "131/131 [==============================] - 120s 915ms/step - loss: 0.3471 - binary_accuracy: 0.8464 - precision: 0.8934 - recall: 0.9006 - val_loss: 0.3707 - val_binary_accuracy: 0.8284 - val_precision: 0.8402 - val_recall: 0.9497\n",
      "Epoch 4/20\n",
      "131/131 [==============================] - 120s 916ms/step - loss: 0.3628 - binary_accuracy: 0.8462 - precision: 0.8814 - recall: 0.9161 - val_loss: 0.4107 - val_binary_accuracy: 0.8293 - val_precision: 0.8541 - val_recall: 0.9290\n",
      "Epoch 5/20\n",
      "131/131 [==============================] - 120s 918ms/step - loss: 0.3195 - binary_accuracy: 0.8639 - precision: 0.9016 - recall: 0.9168 - val_loss: 0.3256 - val_binary_accuracy: 0.8370 - val_precision: 0.8712 - val_recall: 0.9161\n",
      "Epoch 6/20\n",
      "131/131 [==============================] - 121s 921ms/step - loss: 0.3182 - binary_accuracy: 0.8696 - precision: 0.9067 - recall: 0.9190 - val_loss: 0.3585 - val_binary_accuracy: 0.8418 - val_precision: 0.8871 - val_recall: 0.9019\n",
      "Epoch 7/20\n",
      "131/131 [==============================] - 121s 921ms/step - loss: 0.3048 - binary_accuracy: 0.8718 - precision: 0.9052 - recall: 0.9242 - val_loss: 0.3566 - val_binary_accuracy: 0.8418 - val_precision: 0.8675 - val_recall: 0.9290\n",
      "Epoch 8/20\n",
      "131/131 [==============================] - 120s 918ms/step - loss: 0.2838 - binary_accuracy: 0.8835 - precision: 0.9197 - recall: 0.9239 - val_loss: 0.2905 - val_binary_accuracy: 0.8639 - val_precision: 0.9342 - val_recall: 0.8787\n",
      "Epoch 9/20\n",
      "131/131 [==============================] - 121s 920ms/step - loss: 0.2735 - binary_accuracy: 0.8862 - precision: 0.9187 - recall: 0.9290 - val_loss: 0.3093 - val_binary_accuracy: 0.8495 - val_precision: 0.8750 - val_recall: 0.9303\n",
      "Epoch 10/20\n",
      "131/131 [==============================] - 122s 930ms/step - loss: 0.2648 - binary_accuracy: 0.8934 - precision: 0.9245 - recall: 0.9326 - val_loss: 0.2876 - val_binary_accuracy: 0.8648 - val_precision: 0.8982 - val_recall: 0.9226\n",
      "Epoch 11/20\n",
      "131/131 [==============================] - 124s 944ms/step - loss: 0.2639 - binary_accuracy: 0.8936 - precision: 0.9265 - recall: 0.9306 - val_loss: 0.3125 - val_binary_accuracy: 0.8562 - val_precision: 0.9074 - val_recall: 0.8981\n",
      "Epoch 12/20\n",
      "131/131 [==============================] - 123s 940ms/step - loss: 0.2480 - binary_accuracy: 0.9037 - precision: 0.9346 - recall: 0.9358 - val_loss: 0.2666 - val_binary_accuracy: 0.8897 - val_precision: 0.9209 - val_recall: 0.9316\n",
      "Epoch 13/20\n",
      "131/131 [==============================] - 122s 934ms/step - loss: 0.2340 - binary_accuracy: 0.9008 - precision: 0.9352 - recall: 0.9310 - val_loss: 0.3015 - val_binary_accuracy: 0.8715 - val_precision: 0.9021 - val_recall: 0.9277\n",
      "Epoch 14/20\n",
      "131/131 [==============================] - 122s 932ms/step - loss: 0.2487 - binary_accuracy: 0.9013 - precision: 0.9319 - recall: 0.9355 - val_loss: 0.2829 - val_binary_accuracy: 0.8782 - val_precision: 0.9451 - val_recall: 0.8877\n",
      "Epoch 15/20\n",
      "131/131 [==============================] - 122s 935ms/step - loss: 0.2560 - binary_accuracy: 0.8922 - precision: 0.9263 - recall: 0.9287 - val_loss: 0.3619 - val_binary_accuracy: 0.8581 - val_precision: 0.8800 - val_recall: 0.9368\n",
      "Epoch 16/20\n",
      "131/131 [==============================] - 123s 935ms/step - loss: 0.2438 - binary_accuracy: 0.9008 - precision: 0.9338 - recall: 0.9326 - val_loss: 0.3250 - val_binary_accuracy: 0.8686 - val_precision: 0.8843 - val_recall: 0.9471\n"
     ]
    },
    {
     "data": {
      "text/plain": [
       "<tensorflow.python.training.tracking.util.CheckpointLoadStatus at 0x7fc0fc0ff9d0>"
      ]
     },
     "execution_count": 6,
     "metadata": {},
     "output_type": "execute_result"
    }
   ],
   "source": [
    "history = model.fit(\n",
    "    train_ds,\n",
    "    validation_data=val_ds,\n",
    "    epochs=20,\n",
    "    callbacks=callbacks\n",
    ")\n",
    "\n",
    "model.load_weights('save_data/06_larger_stride/')"
   ]
  },
  {
   "cell_type": "code",
   "execution_count": 7,
   "metadata": {},
   "outputs": [
    {
     "data": {
      "text/plain": [
       "<matplotlib.legend.Legend at 0x7fc0cc52a550>"
      ]
     },
     "execution_count": 7,
     "metadata": {},
     "output_type": "execute_result"
    },
    {
     "data": {
      "image/png": "[encoded data removed]",
      "text/plain": [
       "<Figure size 432x288 with 1 Axes>"
      ]
     },
     "metadata": {
      "needs_background": "light"
     },
     "output_type": "display_data"
    },
    {
     "data": {
      "image/png": "[encoded data removed]",
      "text/plain": [
       "<Figure size 432x288 with 1 Axes>"
      ]
     },
     "metadata": {
      "needs_background": "light"
     },
     "output_type": "display_data"
    }
   ],
   "source": [
    "acc = history.history['binary_accuracy']\n",
    "val_acc = history.history['val_binary_accuracy']\n",
    "loss = history.history['loss']\n",
    "val_loss = history.history['val_loss']\n",
    "epochs = range(len(acc))\n",
    "\n",
    "plt.plot(epochs, acc, label='Training acc')\n",
    "plt.plot(epochs, val_acc, label='Validation acc')\n",
    "plt.title('Training and validation accuracy')\n",
    "plt.legend()\n",
    "plt.figure()\n",
    "plt.plot(epochs, loss, label='Training loss')\n",
    "plt.plot(epochs, val_loss, label='Validation loss')\n",
    "plt.title('Training and validation loss')\n",
    "plt.legend()"
   ]
  },
  {
   "cell_type": "code",
   "execution_count": 8,
   "metadata": {},
   "outputs": [
    {
     "name": "stdout",
     "output_type": "stream",
     "text": [
      "131/131 [==============================] - 53s 407ms/step - loss: 0.2456 - binary_accuracy: 0.9133 - precision: 0.9300 - recall: 0.9552\n"
     ]
    }
   ],
   "source": [
    "train_res = model.evaluate(train_ds)"
   ]
  },
  {
   "cell_type": "code",
   "execution_count": 9,
   "metadata": {},
   "outputs": [
    {
     "name": "stdout",
     "output_type": "stream",
     "text": [
      "33/33 [==============================] - 13s 394ms/step - loss: 0.3354 - binary_accuracy: 0.8773 - precision: 0.8999 - recall: 0.9394\n"
     ]
    }
   ],
   "source": [
    "val_res = model.evaluate(val_ds)"
   ]
  },
  {
   "cell_type": "code",
   "execution_count": 10,
   "metadata": {},
   "outputs": [
    {
     "name": "stdout",
     "output_type": "stream",
     "text": [
      "Found 624 images belonging to 2 classes.\n"
     ]
    }
   ],
   "source": [
    "test_generator = keras.preprocessing.image.ImageDataGenerator(\n",
    "    rescale=1./255\n",
    ")\n",
    "\n",
    "test_ds = train_generator.flow_from_directory(\n",
    "    test_path,\n",
    "    target_size=(256,256),\n",
    "    class_mode='binary'\n",
    ")"
   ]
  },
  {
   "cell_type": "code",
   "execution_count": 11,
   "metadata": {},
   "outputs": [
    {
     "name": "stdout",
     "output_type": "stream",
     "text": [
      "20/20 [==============================] - 7s 353ms/step - loss: 0.5794 - binary_accuracy: 0.7981 - precision: 0.7672 - recall: 0.9718\n"
     ]
    }
   ],
   "source": [
    "test_res = model.evaluate(test_ds)"
   ]
  },
  {
   "cell_type": "code",
   "execution_count": 12,
   "metadata": {},
   "outputs": [
    {
     "name": "stdout",
     "output_type": "stream",
     "text": [
      "WARNING:tensorflow:From /home/jason/miniconda3/envs/learn-env/lib/python3.8/site-packages/tensorflow/python/training/tracking/tracking.py:111: Model.state_updates (from tensorflow.python.keras.engine.training) is deprecated and will be removed in a future version.\n",
      "Instructions for updating:\n",
      "This property should not be used in TensorFlow 2.0, as updates are applied automatically.\n",
      "WARNING:tensorflow:From /home/jason/miniconda3/envs/learn-env/lib/python3.8/site-packages/tensorflow/python/training/tracking/tracking.py:111: Layer.updates (from tensorflow.python.keras.engine.base_layer) is deprecated and will be removed in a future version.\n",
      "Instructions for updating:\n",
      "This property should not be used in TensorFlow 2.0, as updates are applied automatically.\n",
      "INFO:tensorflow:Assets written to: save_data/06_larger_stride/assets\n"
     ]
    }
   ],
   "source": [
    "model.save('save_data/06_larger_stride/')"
   ]
  }
 ],
 "metadata": {
  "interpreter": {
   "hash": "820d50b626c26dd23e815fdc6f0defc021162c216bd79fa699f42d79cf8fcc33"
  },
  "kernelspec": {
   "display_name": "Python 3.8.5 ('learn-env')",
   "language": "python",
   "name": "python3"
  },
  "language_info": {
   "codemirror_mode": {
    "name": "ipython",
    "version": 3
   },
   "file_extension": ".py",
   "mimetype": "text/x-python",
   "name": "python",
   "nbconvert_exporter": "python",
   "pygments_lexer": "ipython3",
   "version": "3.8.5"
  },
  "orig_nbformat": 4
 },
 "nbformat": 4,
 "nbformat_minor": 2
}
