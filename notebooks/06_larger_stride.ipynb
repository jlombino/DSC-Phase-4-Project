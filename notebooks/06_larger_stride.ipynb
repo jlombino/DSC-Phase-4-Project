{
 "cells": [
  {
   "cell_type": "code",
   "execution_count": 1,
   "metadata": {},
   "outputs": [],
   "source": [
    "import keras\n",
    "from keras import models\n",
    "from keras import layers\n",
    "from keras import optimizers\n",
    "from keras import metrics\n",
    "import matplotlib.pyplot as plt"
   ]
  },
  {
   "cell_type": "code",
   "execution_count": 2,
   "metadata": {},
   "outputs": [
    {
     "name": "stdout",
     "output_type": "stream",
     "text": [
      "Found 4175 images belonging to 2 classes.\n"
     ]
    }
   ],
   "source": [
    "train_path = '../chest_xray/train'\n",
    "test_path = '../chest_xray/test'\n",
    "val_path = '../chest_xray/val'\n",
    "\n",
    "train_generator = keras.preprocessing.image.ImageDataGenerator(\n",
    "    rescale=1./255,\n",
    "    horizontal_flip=True,\n",
    "    rotation_range=45,\n",
    "    zoom_range=0.3\n",
    ")\n",
    "\n",
    "train_ds = train_generator.flow_from_directory(\n",
    "    train_path,\n",
    "    target_size=(256,256),\n",
    "    class_mode='binary',\n",
    ")"
   ]
  },
  {
   "cell_type": "code",
   "execution_count": 3,
   "metadata": {},
   "outputs": [
    {
     "name": "stdout",
     "output_type": "stream",
     "text": [
      "Found 1057 images belonging to 2 classes.\n"
     ]
    }
   ],
   "source": [
    "val_generator = keras.preprocessing.image.ImageDataGenerator(\n",
    "    rescale=1./255\n",
    ")\n",
    "\n",
    "val_ds = val_generator.flow_from_directory(\n",
    "    val_path,\n",
    "    target_size=(256,256),\n",
    "    class_mode='binary',\n",
    ")"
   ]
  },
  {
   "cell_type": "code",
   "execution_count": 4,
   "metadata": {},
   "outputs": [
    {
     "name": "stdout",
     "output_type": "stream",
     "text": [
      "Found 624 images belonging to 2 classes.\n"
     ]
    }
   ],
   "source": [
    "test_generator = keras.preprocessing.image.ImageDataGenerator(\n",
    "    rescale=1./255\n",
    ")\n",
    "\n",
    "test_ds = test_generator.flow_from_directory(\n",
    "    test_path,\n",
    "    target_size=(256,256),\n",
    "    class_mode='binary'\n",
    ")"
   ]
  },
  {
   "cell_type": "code",
   "execution_count": 5,
   "metadata": {},
   "outputs": [],
   "source": [
    "model = models.Sequential()\n",
    "\n",
    "model.add(layers.Conv2D(32, (4, 4), activation='relu',padding='same',\n",
    "                        input_shape=(256, 256, 3)))                     \n",
    "model.add(layers.MaxPooling2D((2, 2)))\n",
    "\n",
    "model.add(layers.Conv2D(64, (4, 4), activation='relu',padding='same'))\n",
    "model.add(layers.MaxPooling2D((2, 2)))\n",
    "\n",
    "model.add(layers.Conv2D(128, (4, 4), activation='relu',padding='same'))\n",
    "model.add(layers.MaxPooling2D((2, 2)))\n",
    "\n",
    "model.add(layers.Flatten())\n",
    "model.add(layers.Dense(256, activation='relu'))\n",
    "model.add(layers.Dense(128, activation='relu'))\n",
    "model.add(layers.Dense(64, activation='relu'))\n",
    "model.add(layers.Dense(1, activation='sigmoid'))"
   ]
  },
  {
   "cell_type": "code",
   "execution_count": 6,
   "metadata": {},
   "outputs": [],
   "source": [
    "checkpoint = keras.callbacks.ModelCheckpoint(\n",
    "    monitor='val_loss',\n",
    "    filepath='save_data/06_larger_stride.hdf5',\n",
    "    save_best_only=True,\n",
    "    verbose=0\n",
    ")\n",
    "\n",
    "callbacks = [checkpoint]"
   ]
  },
  {
   "cell_type": "code",
   "execution_count": 7,
   "metadata": {},
   "outputs": [
    {
     "name": "stdout",
     "output_type": "stream",
     "text": [
      "Model: \"sequential\"\n",
      "_________________________________________________________________\n",
      "Layer (type)                 Output Shape              Param #   \n",
      "=================================================================\n",
      "conv2d (Conv2D)              (None, 256, 256, 32)      1568      \n",
      "_________________________________________________________________\n",
      "max_pooling2d (MaxPooling2D) (None, 128, 128, 32)      0         \n",
      "_________________________________________________________________\n",
      "conv2d_1 (Conv2D)            (None, 128, 128, 64)      32832     \n",
      "_________________________________________________________________\n",
      "max_pooling2d_1 (MaxPooling2 (None, 64, 64, 64)        0         \n",
      "_________________________________________________________________\n",
      "conv2d_2 (Conv2D)            (None, 64, 64, 128)       131200    \n",
      "_________________________________________________________________\n",
      "max_pooling2d_2 (MaxPooling2 (None, 32, 32, 128)       0         \n",
      "_________________________________________________________________\n",
      "flatten (Flatten)            (None, 131072)            0         \n",
      "_________________________________________________________________\n",
      "dense (Dense)                (None, 256)               33554688  \n",
      "_________________________________________________________________\n",
      "dense_1 (Dense)              (None, 128)               32896     \n",
      "_________________________________________________________________\n",
      "dense_2 (Dense)              (None, 64)                8256      \n",
      "_________________________________________________________________\n",
      "dense_3 (Dense)              (None, 1)                 65        \n",
      "=================================================================\n",
      "Total params: 33,761,505\n",
      "Trainable params: 33,761,505\n",
      "Non-trainable params: 0\n",
      "_________________________________________________________________\n",
      "None\n"
     ]
    }
   ],
   "source": [
    "use_metrics = [metrics.BinaryAccuracy(),\\\n",
    "                metrics.Precision(),\\\n",
    "                metrics.Recall()]\n",
    "\n",
    "model.compile(\n",
    "    loss='binary_crossentropy',\n",
    "    optimizer=optimizers.Adam(),\n",
    "    metrics=[use_metrics]\n",
    ")\n",
    "\n",
    "print(model.summary())"
   ]
  },
  {
   "cell_type": "code",
   "execution_count": 8,
   "metadata": {},
   "outputs": [
    {
     "name": "stdout",
     "output_type": "stream",
     "text": [
      "Epoch 1/20\n",
      "131/131 [==============================] - 114s 870ms/step - loss: 0.4586 - binary_accuracy: 0.7789 - precision: 0.8102 - recall: 0.9171 - val_loss: 0.2797 - val_binary_accuracy: 0.8903 - val_precision: 0.9626 - val_recall: 0.8863\n",
      "Epoch 2/20\n",
      "131/131 [==============================] - 112s 854ms/step - loss: 0.3221 - binary_accuracy: 0.8699 - precision: 0.9042 - recall: 0.9226 - val_loss: 0.4598 - val_binary_accuracy: 0.7796 - val_precision: 0.9808 - val_recall: 0.7165\n",
      "Epoch 3/20\n",
      "131/131 [==============================] - 112s 854ms/step - loss: 0.2853 - binary_accuracy: 0.8810 - precision: 0.9141 - recall: 0.9268 - val_loss: 0.2834 - val_binary_accuracy: 0.8761 - val_precision: 0.9065 - val_recall: 0.9285\n",
      "Epoch 4/20\n",
      "131/131 [==============================] - 112s 858ms/step - loss: 0.2403 - binary_accuracy: 0.9032 - precision: 0.9301 - recall: 0.9403 - val_loss: 0.2121 - val_binary_accuracy: 0.9111 - val_precision: 0.9400 - val_recall: 0.9400\n",
      "Epoch 5/20\n",
      "131/131 [==============================] - 112s 853ms/step - loss: 0.2313 - binary_accuracy: 0.9080 - precision: 0.9306 - recall: 0.9468 - val_loss: 0.2726 - val_binary_accuracy: 0.8969 - val_precision: 0.9773 - val_recall: 0.8812\n",
      "Epoch 6/20\n",
      "131/131 [==============================] - 112s 855ms/step - loss: 0.2109 - binary_accuracy: 0.9145 - precision: 0.9386 - recall: 0.9468 - val_loss: 0.2407 - val_binary_accuracy: 0.8912 - val_precision: 0.9315 - val_recall: 0.9208\n",
      "Epoch 7/20\n",
      "131/131 [==============================] - 112s 856ms/step - loss: 0.2097 - binary_accuracy: 0.9219 - precision: 0.9451 - recall: 0.9500 - val_loss: 0.1824 - val_binary_accuracy: 0.9177 - val_precision: 0.9439 - val_recall: 0.9451\n",
      "Epoch 8/20\n",
      "131/131 [==============================] - 112s 854ms/step - loss: 0.2004 - binary_accuracy: 0.9274 - precision: 0.9467 - recall: 0.9561 - val_loss: 0.2440 - val_binary_accuracy: 0.9158 - val_precision: 0.9846 - val_recall: 0.9004\n",
      "Epoch 9/20\n",
      "131/131 [==============================] - 112s 855ms/step - loss: 0.1955 - binary_accuracy: 0.9272 - precision: 0.9461 - recall: 0.9565 - val_loss: 0.1959 - val_binary_accuracy: 0.9205 - val_precision: 0.9569 - val_recall: 0.9349\n",
      "Epoch 10/20\n",
      "131/131 [==============================] - 112s 853ms/step - loss: 0.1878 - binary_accuracy: 0.9291 - precision: 0.9508 - recall: 0.9539 - val_loss: 0.1941 - val_binary_accuracy: 0.9186 - val_precision: 0.9604 - val_recall: 0.9285\n",
      "Epoch 11/20\n",
      "131/131 [==============================] - 112s 858ms/step - loss: 0.1746 - binary_accuracy: 0.9349 - precision: 0.9544 - recall: 0.9581 - val_loss: 0.2159 - val_binary_accuracy: 0.9054 - val_precision: 0.9776 - val_recall: 0.8927\n",
      "Epoch 12/20\n",
      "131/131 [==============================] - 112s 854ms/step - loss: 0.1678 - binary_accuracy: 0.9363 - precision: 0.9565 - recall: 0.9577 - val_loss: 0.1854 - val_binary_accuracy: 0.9309 - val_precision: 0.9517 - val_recall: 0.9553\n",
      "Epoch 13/20\n",
      "131/131 [==============================] - 112s 856ms/step - loss: 0.1646 - binary_accuracy: 0.9394 - precision: 0.9579 - recall: 0.9606 - val_loss: 0.2096 - val_binary_accuracy: 0.9111 - val_precision: 0.9805 - val_recall: 0.8978\n",
      "Epoch 14/20\n",
      "131/131 [==============================] - 112s 854ms/step - loss: 0.1501 - binary_accuracy: 0.9442 - precision: 0.9620 - recall: 0.9629 - val_loss: 0.2535 - val_binary_accuracy: 0.8940 - val_precision: 0.9898 - val_recall: 0.8659\n",
      "Epoch 15/20\n",
      "131/131 [==============================] - 112s 858ms/step - loss: 0.1398 - binary_accuracy: 0.9499 - precision: 0.9680 - recall: 0.9645 - val_loss: 0.1998 - val_binary_accuracy: 0.9300 - val_precision: 0.9823 - val_recall: 0.9221\n",
      "Epoch 16/20\n",
      "131/131 [==============================] - 112s 858ms/step - loss: 0.1482 - binary_accuracy: 0.9451 - precision: 0.9659 - recall: 0.9600 - val_loss: 0.2775 - val_binary_accuracy: 0.8940 - val_precision: 0.9985 - val_recall: 0.8582\n",
      "Epoch 17/20\n",
      "131/131 [==============================] - 112s 858ms/step - loss: 0.1413 - binary_accuracy: 0.9471 - precision: 0.9645 - recall: 0.9642 - val_loss: 0.2004 - val_binary_accuracy: 0.9272 - val_precision: 0.9757 - val_recall: 0.9246\n",
      "Epoch 18/20\n",
      "131/131 [==============================] - 112s 855ms/step - loss: 0.1385 - binary_accuracy: 0.9514 - precision: 0.9686 - recall: 0.9658 - val_loss: 0.1665 - val_binary_accuracy: 0.9347 - val_precision: 0.9565 - val_recall: 0.9553\n",
      "Epoch 19/20\n",
      "131/131 [==============================] - 112s 854ms/step - loss: 0.1432 - binary_accuracy: 0.9471 - precision: 0.9663 - recall: 0.9623 - val_loss: 0.1523 - val_binary_accuracy: 0.9376 - val_precision: 0.9650 - val_recall: 0.9502\n",
      "Epoch 20/20\n",
      "131/131 [==============================] - 112s 856ms/step - loss: 0.1255 - binary_accuracy: 0.9543 - precision: 0.9687 - recall: 0.9697 - val_loss: 0.2557 - val_binary_accuracy: 0.9063 - val_precision: 0.9817 - val_recall: 0.8902\n"
     ]
    }
   ],
   "source": [
    "history = model.fit(\n",
    "    train_ds,\n",
    "    validation_data=val_ds,\n",
    "    epochs=20,\n",
    "    callbacks=callbacks\n",
    ")\n",
    "\n",
    "model = keras.models.load_model('save_data/06_larger_stride.hdf5')"
   ]
  },
  {
   "cell_type": "code",
   "execution_count": 9,
   "metadata": {},
   "outputs": [
    {
     "data": {
      "text/plain": [
       "<matplotlib.legend.Legend at 0x7f9ae85439d0>"
      ]
     },
     "execution_count": 9,
     "metadata": {},
     "output_type": "execute_result"
    },
    {
     "data": {
      "image/png": "[encoded data removed]",
      "text/plain": [
       "<Figure size 432x288 with 1 Axes>"
      ]
     },
     "metadata": {
      "needs_background": "light"
     },
     "output_type": "display_data"
    },
    {
     "data": {
      "image/png": "[encoded data removed]",
      "text/plain": [
       "<Figure size 432x288 with 1 Axes>"
      ]
     },
     "metadata": {
      "needs_background": "light"
     },
     "output_type": "display_data"
    }
   ],
   "source": [
    "acc = history.history['binary_accuracy']\n",
    "val_acc = history.history['val_binary_accuracy']\n",
    "loss = history.history['loss']\n",
    "val_loss = history.history['val_loss']\n",
    "epochs = range(len(acc))\n",
    "\n",
    "plt.plot(epochs, acc, label='Training acc')\n",
    "plt.plot(epochs, val_acc, label='Validation acc')\n",
    "plt.title('Training and validation accuracy')\n",
    "plt.legend()\n",
    "plt.figure()\n",
    "plt.plot(epochs, loss, label='Training loss')\n",
    "plt.plot(epochs, val_loss, label='Validation loss')\n",
    "plt.title('Training and validation loss')\n",
    "plt.legend()"
   ]
  },
  {
   "cell_type": "code",
   "execution_count": 10,
   "metadata": {},
   "outputs": [
    {
     "name": "stdout",
     "output_type": "stream",
     "text": [
      "131/131 [==============================] - 53s 404ms/step - loss: 0.1254 - binary_accuracy: 0.9526 - precision: 0.9537 - recall: 0.9839\n"
     ]
    }
   ],
   "source": [
    "train_res = model.evaluate(train_ds)"
   ]
  },
  {
   "cell_type": "code",
   "execution_count": 11,
   "metadata": {},
   "outputs": [
    {
     "name": "stdout",
     "output_type": "stream",
     "text": [
      "34/34 [==============================] - 8s 223ms/step - loss: 0.1523 - binary_accuracy: 0.9376 - precision: 0.9650 - recall: 0.9502\n"
     ]
    }
   ],
   "source": [
    "val_res = model.evaluate(val_ds)"
   ]
  },
  {
   "cell_type": "code",
   "execution_count": 12,
   "metadata": {},
   "outputs": [
    {
     "name": "stdout",
     "output_type": "stream",
     "text": [
      "20/20 [==============================] - 4s 191ms/step - loss: 0.3387 - binary_accuracy: 0.8878 - precision: 0.8556 - recall: 0.9872\n"
     ]
    }
   ],
   "source": [
    "test_res = model.evaluate(test_ds)"
   ]
  }
 ],
 "metadata": {
  "interpreter": {
   "hash": "820d50b626c26dd23e815fdc6f0defc021162c216bd79fa699f42d79cf8fcc33"
  },
  "kernelspec": {
   "display_name": "Python 3.8.5 ('learn-env')",
   "language": "python",
   "name": "python3"
  },
  "language_info": {
   "codemirror_mode": {
    "name": "ipython",
    "version": 3
   },
   "file_extension": ".py",
   "mimetype": "text/x-python",
   "name": "python",
   "nbconvert_exporter": "python",
   "pygments_lexer": "ipython3",
   "version": "3.8.5"
  },
  "orig_nbformat": 4
 },
 "nbformat": 4,
 "nbformat_minor": 2
}
