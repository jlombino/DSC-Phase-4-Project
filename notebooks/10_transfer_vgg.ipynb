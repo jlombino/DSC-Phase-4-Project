{
 "cells": [
  {
   "cell_type": "code",
   "execution_count": 1,
   "metadata": {},
   "outputs": [],
   "source": [
    "import keras\n",
    "from keras import models\n",
    "from keras import layers\n",
    "from keras import optimizers\n",
    "from keras import metrics\n",
    "import matplotlib.pyplot as plt"
   ]
  },
  {
   "cell_type": "code",
   "execution_count": 2,
   "metadata": {},
   "outputs": [
    {
     "name": "stdout",
     "output_type": "stream",
     "text": [
      "Found 4175 images belonging to 2 classes.\n"
     ]
    }
   ],
   "source": [
    "train_path = '../chest_xray/train'\n",
    "test_path = '../chest_xray/test'\n",
    "val_path = '../chest_xray/val'\n",
    "\n",
    "train_generator = keras.preprocessing.image.ImageDataGenerator(\n",
    "    rescale=1./255,\n",
    "    horizontal_flip=True,\n",
    "    rotation_range=45,\n",
    "    zoom_range=0.3\n",
    ")\n",
    "\n",
    "train_ds = train_generator.flow_from_directory(\n",
    "    train_path,\n",
    "    target_size=(256,256),\n",
    "    class_mode='binary',\n",
    ")"
   ]
  },
  {
   "cell_type": "code",
   "execution_count": 3,
   "metadata": {},
   "outputs": [
    {
     "name": "stdout",
     "output_type": "stream",
     "text": [
      "Found 1057 images belonging to 2 classes.\n"
     ]
    }
   ],
   "source": [
    "val_generator = keras.preprocessing.image.ImageDataGenerator(\n",
    "    rescale=1./255\n",
    ")\n",
    "\n",
    "val_ds = val_generator.flow_from_directory(\n",
    "    val_path,\n",
    "    target_size=(256,256),\n",
    "    class_mode='binary',\n",
    ")"
   ]
  },
  {
   "cell_type": "code",
   "execution_count": 4,
   "metadata": {},
   "outputs": [
    {
     "name": "stdout",
     "output_type": "stream",
     "text": [
      "Found 624 images belonging to 2 classes.\n"
     ]
    }
   ],
   "source": [
    "test_generator = keras.preprocessing.image.ImageDataGenerator(\n",
    "    rescale=1./255\n",
    ")\n",
    "\n",
    "test_ds = test_generator.flow_from_directory(\n",
    "    test_path,\n",
    "    target_size=(256,256),\n",
    "    class_mode='binary'\n",
    ")"
   ]
  },
  {
   "cell_type": "code",
   "execution_count": 5,
   "metadata": {},
   "outputs": [],
   "source": [
    "vgg_base = keras.applications.VGG16(\n",
    "    weights='imagenet',\n",
    "    input_shape=(256, 256, 3),\n",
    "    include_top=False\n",
    ")\n",
    "\n",
    "vgg_base.trainable = False"
   ]
  },
  {
   "cell_type": "code",
   "execution_count": 6,
   "metadata": {},
   "outputs": [
    {
     "name": "stdout",
     "output_type": "stream",
     "text": [
      "vgg16 False\n",
      "flatten True\n",
      "dense True\n",
      "dense_1 True\n",
      "dense_2 True\n",
      "dense_3 True\n",
      "dense_4 True\n"
     ]
    }
   ],
   "source": [
    "model = models.Sequential()\n",
    "\n",
    "model.add(vgg_base)                   \n",
    "model.add(layers.Flatten())\n",
    "model.add(layers.Dense(512, activation='relu'))\n",
    "model.add(layers.Dense(256, activation='relu'))\n",
    "model.add(layers.Dense(128, activation='relu'))\n",
    "model.add(layers.Dense(64, activation='relu'))\n",
    "model.add(layers.Dense(1, activation='sigmoid'))\n",
    "\n",
    "for layer in model.layers:\n",
    "    print(layer.name, layer.trainable)"
   ]
  },
  {
   "cell_type": "code",
   "execution_count": 7,
   "metadata": {},
   "outputs": [],
   "source": [
    "checkpoint = keras.callbacks.ModelCheckpoint(\n",
    "    monitor='val_loss',\n",
    "    filepath='save_data/10_transfer_vgg.hdf5',\n",
    "    save_best_only=True,\n",
    "    verbose=0\n",
    ")\n",
    "\n",
    "callbacks = [checkpoint]"
   ]
  },
  {
   "cell_type": "code",
   "execution_count": 8,
   "metadata": {},
   "outputs": [
    {
     "name": "stdout",
     "output_type": "stream",
     "text": [
      "Model: \"sequential\"\n",
      "_________________________________________________________________\n",
      "Layer (type)                 Output Shape              Param #   \n",
      "=================================================================\n",
      "vgg16 (Functional)           (None, 8, 8, 512)         14714688  \n",
      "_________________________________________________________________\n",
      "flatten (Flatten)            (None, 32768)             0         \n",
      "_________________________________________________________________\n",
      "dense (Dense)                (None, 512)               16777728  \n",
      "_________________________________________________________________\n",
      "dense_1 (Dense)              (None, 256)               131328    \n",
      "_________________________________________________________________\n",
      "dense_2 (Dense)              (None, 128)               32896     \n",
      "_________________________________________________________________\n",
      "dense_3 (Dense)              (None, 64)                8256      \n",
      "_________________________________________________________________\n",
      "dense_4 (Dense)              (None, 1)                 65        \n",
      "=================================================================\n",
      "Total params: 31,664,961\n",
      "Trainable params: 16,950,273\n",
      "Non-trainable params: 14,714,688\n",
      "_________________________________________________________________\n",
      "None\n"
     ]
    }
   ],
   "source": [
    "use_metrics = [metrics.BinaryAccuracy(),\\\n",
    "                metrics.Precision(),\\\n",
    "                metrics.Recall()]\n",
    "\n",
    "model.compile(\n",
    "    loss='binary_crossentropy',\n",
    "    optimizer=optimizers.Adam(),\n",
    "    metrics=[use_metrics]\n",
    ")\n",
    "\n",
    "print(model.summary())"
   ]
  },
  {
   "cell_type": "code",
   "execution_count": 9,
   "metadata": {},
   "outputs": [
    {
     "name": "stdout",
     "output_type": "stream",
     "text": [
      "Epoch 1/20\n",
      "131/131 [==============================] - 184s 1s/step - loss: 0.3184 - binary_accuracy: 0.8666 - precision: 0.9069 - recall: 0.9142 - val_loss: 0.7490 - val_binary_accuracy: 0.7181 - val_precision: 1.0000 - val_recall: 0.6194\n",
      "Epoch 2/20\n",
      "131/131 [==============================] - 184s 1s/step - loss: 0.1692 - binary_accuracy: 0.9325 - precision: 0.9566 - recall: 0.9523 - val_loss: 0.2878 - val_binary_accuracy: 0.8931 - val_precision: 0.9985 - val_recall: 0.8570\n",
      "Epoch 3/20\n",
      "131/131 [==============================] - 184s 1s/step - loss: 0.1498 - binary_accuracy: 0.9411 - precision: 0.9630 - recall: 0.9574 - val_loss: 0.2718 - val_binary_accuracy: 0.8959 - val_precision: 0.9985 - val_recall: 0.8608\n",
      "Epoch 4/20\n",
      "131/131 [==============================] - 184s 1s/step - loss: 0.1296 - binary_accuracy: 0.9492 - precision: 0.9658 - recall: 0.9658 - val_loss: 0.2740 - val_binary_accuracy: 0.9016 - val_precision: 0.9985 - val_recall: 0.8685\n",
      "Epoch 5/20\n",
      "131/131 [==============================] - 184s 1s/step - loss: 0.1288 - binary_accuracy: 0.9480 - precision: 0.9655 - recall: 0.9645 - val_loss: 0.6939 - val_binary_accuracy: 0.7389 - val_precision: 1.0000 - val_recall: 0.6475\n",
      "Epoch 6/20\n",
      "131/131 [==============================] - 185s 1s/step - loss: 0.1341 - binary_accuracy: 0.9507 - precision: 0.9698 - recall: 0.9635 - val_loss: 0.2468 - val_binary_accuracy: 0.8969 - val_precision: 1.0000 - val_recall: 0.8608\n",
      "Epoch 7/20\n",
      "131/131 [==============================] - 185s 1s/step - loss: 0.1117 - binary_accuracy: 0.9564 - precision: 0.9743 - recall: 0.9668 - val_loss: 0.1686 - val_binary_accuracy: 0.9272 - val_precision: 0.9986 - val_recall: 0.9029\n",
      "Epoch 8/20\n",
      "131/131 [==============================] - 185s 1s/step - loss: 0.0993 - binary_accuracy: 0.9624 - precision: 0.9764 - recall: 0.9729 - val_loss: 0.2526 - val_binary_accuracy: 0.9044 - val_precision: 0.9985 - val_recall: 0.8723\n",
      "Epoch 9/20\n",
      "131/131 [==============================] - 186s 1s/step - loss: 0.1020 - binary_accuracy: 0.9614 - precision: 0.9782 - recall: 0.9697 - val_loss: 0.1081 - val_binary_accuracy: 0.9565 - val_precision: 0.9960 - val_recall: 0.9451\n",
      "Epoch 10/20\n",
      "131/131 [==============================] - 187s 1s/step - loss: 0.1189 - binary_accuracy: 0.9559 - precision: 0.9728 - recall: 0.9677 - val_loss: 0.3041 - val_binary_accuracy: 0.8865 - val_precision: 0.9985 - val_recall: 0.8480\n",
      "Epoch 11/20\n",
      "131/131 [==============================] - 187s 1s/step - loss: 0.0945 - binary_accuracy: 0.9646 - precision: 0.9755 - recall: 0.9768 - val_loss: 0.1134 - val_binary_accuracy: 0.9555 - val_precision: 0.9960 - val_recall: 0.9438\n",
      "Epoch 12/20\n",
      "131/131 [==============================] - 187s 1s/step - loss: 0.0974 - binary_accuracy: 0.9650 - precision: 0.9783 - recall: 0.9745 - val_loss: 0.2106 - val_binary_accuracy: 0.9205 - val_precision: 0.9986 - val_recall: 0.8940\n",
      "Epoch 13/20\n",
      "131/131 [==============================] - 188s 1s/step - loss: 0.1062 - binary_accuracy: 0.9631 - precision: 0.9739 - recall: 0.9765 - val_loss: 0.4248 - val_binary_accuracy: 0.7928 - val_precision: 1.0000 - val_recall: 0.7203\n",
      "Epoch 14/20\n",
      "131/131 [==============================] - 188s 1s/step - loss: 0.0867 - binary_accuracy: 0.9686 - precision: 0.9821 - recall: 0.9755 - val_loss: 0.2346 - val_binary_accuracy: 0.9139 - val_precision: 0.9986 - val_recall: 0.8851\n",
      "Epoch 15/20\n",
      "131/131 [==============================] - 188s 1s/step - loss: 0.1026 - binary_accuracy: 0.9612 - precision: 0.9751 - recall: 0.9726 - val_loss: 0.1407 - val_binary_accuracy: 0.9442 - val_precision: 0.9945 - val_recall: 0.9298\n",
      "Epoch 16/20\n",
      "131/131 [==============================] - 188s 1s/step - loss: 0.0851 - binary_accuracy: 0.9684 - precision: 0.9790 - recall: 0.9784 - val_loss: 0.2194 - val_binary_accuracy: 0.8912 - val_precision: 0.9985 - val_recall: 0.8544\n",
      "Epoch 17/20\n",
      "131/131 [==============================] - 188s 1s/step - loss: 0.0838 - binary_accuracy: 0.9667 - precision: 0.9815 - recall: 0.9735 - val_loss: 0.1154 - val_binary_accuracy: 0.9574 - val_precision: 0.9986 - val_recall: 0.9438\n",
      "Epoch 18/20\n",
      "131/131 [==============================] - 188s 1s/step - loss: 0.0874 - binary_accuracy: 0.9691 - precision: 0.9818 - recall: 0.9765 - val_loss: 0.1197 - val_binary_accuracy: 0.9508 - val_precision: 0.9986 - val_recall: 0.9349\n",
      "Epoch 19/20\n",
      "131/131 [==============================] - 188s 1s/step - loss: 0.0857 - binary_accuracy: 0.9698 - precision: 0.9791 - recall: 0.9803 - val_loss: 0.6429 - val_binary_accuracy: 0.7720 - val_precision: 1.0000 - val_recall: 0.6922\n",
      "Epoch 20/20\n",
      "131/131 [==============================] - 188s 1s/step - loss: 0.0962 - binary_accuracy: 0.9624 - precision: 0.9758 - recall: 0.9735 - val_loss: 0.2235 - val_binary_accuracy: 0.9253 - val_precision: 0.9986 - val_recall: 0.9004\n"
     ]
    }
   ],
   "source": [
    "history = model.fit(\n",
    "    train_ds,\n",
    "    validation_data=val_ds,\n",
    "    epochs=20,\n",
    "    callbacks=callbacks\n",
    ")\n",
    "\n",
    "model = keras.models.load_model('save_data/10_transfer_vgg.hdf5')"
   ]
  },
  {
   "cell_type": "code",
   "execution_count": 10,
   "metadata": {},
   "outputs": [
    {
     "data": {
      "text/plain": [
       "<matplotlib.legend.Legend at 0x7f2b2841a2e0>"
      ]
     },
     "execution_count": 10,
     "metadata": {},
     "output_type": "execute_result"
    },
    {
     "data": {
      "image/png": "[encoded data removed]",
      "text/plain": [
       "<Figure size 432x288 with 1 Axes>"
      ]
     },
     "metadata": {
      "needs_background": "light"
     },
     "output_type": "display_data"
    },
    {
     "data": {
      "image/png": "[encoded data removed]",
      "text/plain": [
       "<Figure size 432x288 with 1 Axes>"
      ]
     },
     "metadata": {
      "needs_background": "light"
     },
     "output_type": "display_data"
    }
   ],
   "source": [
    "acc = history.history['binary_accuracy']\n",
    "val_acc = history.history['val_binary_accuracy']\n",
    "loss = history.history['loss']\n",
    "val_loss = history.history['val_loss']\n",
    "epochs = range(len(acc))\n",
    "\n",
    "plt.plot(epochs, acc, label='Training acc')\n",
    "plt.plot(epochs, val_acc, label='Validation acc')\n",
    "plt.title('Training and validation accuracy')\n",
    "plt.legend()\n",
    "plt.figure()\n",
    "plt.plot(epochs, loss, label='Training loss')\n",
    "plt.plot(epochs, val_loss, label='Validation loss')\n",
    "plt.title('Training and validation loss')\n",
    "plt.legend()"
   ]
  },
  {
   "cell_type": "code",
   "execution_count": 11,
   "metadata": {},
   "outputs": [
    {
     "name": "stdout",
     "output_type": "stream",
     "text": [
      "131/131 [==============================] - 145s 1s/step - loss: 0.1313 - binary_accuracy: 0.9507 - precision: 0.9428 - recall: 0.9939\n"
     ]
    }
   ],
   "source": [
    "train_res = model.evaluate(train_ds)"
   ]
  },
  {
   "cell_type": "code",
   "execution_count": 12,
   "metadata": {},
   "outputs": [
    {
     "name": "stdout",
     "output_type": "stream",
     "text": [
      "34/34 [==============================] - 36s 1s/step - loss: 0.1081 - binary_accuracy: 0.9565 - precision: 0.9960 - recall: 0.9451\n"
     ]
    }
   ],
   "source": [
    "val_res = model.evaluate(val_ds)"
   ]
  },
  {
   "cell_type": "code",
   "execution_count": 13,
   "metadata": {},
   "outputs": [
    {
     "name": "stdout",
     "output_type": "stream",
     "text": [
      "20/20 [==============================] - 21s 1s/step - loss: 0.3146 - binary_accuracy: 0.8958 - precision: 0.8619 - recall: 0.9923\n"
     ]
    }
   ],
   "source": [
    "test_res = model.evaluate(test_ds)"
   ]
  }
 ],
 "metadata": {
  "interpreter": {
   "hash": "820d50b626c26dd23e815fdc6f0defc021162c216bd79fa699f42d79cf8fcc33"
  },
  "kernelspec": {
   "display_name": "Python 3.8.5 ('learn-env')",
   "language": "python",
   "name": "python3"
  },
  "language_info": {
   "codemirror_mode": {
    "name": "ipython",
    "version": 3
   },
   "file_extension": ".py",
   "mimetype": "text/x-python",
   "name": "python",
   "nbconvert_exporter": "python",
   "pygments_lexer": "ipython3",
   "version": "3.8.5"
  },
  "orig_nbformat": 4
 },
 "nbformat": 4,
 "nbformat_minor": 2
}
