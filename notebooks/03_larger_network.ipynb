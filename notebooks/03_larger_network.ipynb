{
 "cells": [
  {
   "cell_type": "code",
   "execution_count": 1,
   "metadata": {},
   "outputs": [],
   "source": [
    "import keras\n",
    "from keras import models\n",
    "from keras import layers\n",
    "from keras import optimizers\n",
    "from keras import metrics\n",
    "import matplotlib.pyplot as plt"
   ]
  },
  {
   "cell_type": "code",
   "execution_count": 2,
   "metadata": {},
   "outputs": [
    {
     "name": "stdout",
     "output_type": "stream",
     "text": [
      "Found 4175 images belonging to 2 classes.\n"
     ]
    }
   ],
   "source": [
    "train_path = '../chest_xray/train'\n",
    "test_path = '../chest_xray/test'\n",
    "val_path = '../chest_xray/val'\n",
    "\n",
    "train_generator = keras.preprocessing.image.ImageDataGenerator(\n",
    "    rescale=1./255,\n",
    "    horizontal_flip=True,\n",
    "    rotation_range=45,\n",
    "    zoom_range=0.3\n",
    ")\n",
    "\n",
    "train_ds = train_generator.flow_from_directory(\n",
    "    train_path,\n",
    "    target_size=(256,256),\n",
    "    class_mode='binary',\n",
    ")"
   ]
  },
  {
   "cell_type": "code",
   "execution_count": 3,
   "metadata": {},
   "outputs": [
    {
     "name": "stdout",
     "output_type": "stream",
     "text": [
      "Found 1057 images belonging to 2 classes.\n"
     ]
    }
   ],
   "source": [
    "val_generator = keras.preprocessing.image.ImageDataGenerator(\n",
    "    rescale=1./255\n",
    ")\n",
    "\n",
    "val_ds = val_generator.flow_from_directory(\n",
    "    val_path,\n",
    "    target_size=(256,256),\n",
    "    class_mode='binary',\n",
    ")"
   ]
  },
  {
   "cell_type": "code",
   "execution_count": 4,
   "metadata": {},
   "outputs": [
    {
     "name": "stdout",
     "output_type": "stream",
     "text": [
      "Found 624 images belonging to 2 classes.\n"
     ]
    }
   ],
   "source": [
    "test_generator = keras.preprocessing.image.ImageDataGenerator(\n",
    "    rescale=1./255\n",
    ")\n",
    "\n",
    "test_ds = test_generator.flow_from_directory(\n",
    "    test_path,\n",
    "    target_size=(256,256),\n",
    "    class_mode='binary'\n",
    ")"
   ]
  },
  {
   "cell_type": "code",
   "execution_count": 5,
   "metadata": {},
   "outputs": [],
   "source": [
    "model = models.Sequential()\n",
    "\n",
    "model.add(layers.Conv2D(32, (1, 1), activation='relu',padding='same',\n",
    "                        input_shape=(256, 256, 3)))                     \n",
    "model.add(layers.MaxPooling2D((2, 2)))\n",
    "\n",
    "model.add(layers.Conv2D(64, (1, 1), activation='relu',padding='same'))\n",
    "model.add(layers.MaxPooling2D((2, 2)))\n",
    "\n",
    "model.add(layers.Conv2D(128, (1, 1), activation='relu',padding='same'))\n",
    "model.add(layers.MaxPooling2D((2, 2)))\n",
    "\n",
    "model.add(layers.Flatten())\n",
    "model.add(layers.Dense(256, activation='relu'))\n",
    "model.add(layers.Dense(128, activation='relu'))\n",
    "model.add(layers.Dense(64, activation='relu'))\n",
    "model.add(layers.Dense(1, activation='sigmoid'))"
   ]
  },
  {
   "cell_type": "code",
   "execution_count": 6,
   "metadata": {},
   "outputs": [],
   "source": [
    "checkpoint = keras.callbacks.ModelCheckpoint(\n",
    "    monitor='val_loss',\n",
    "    filepath='save_data/03_larger_network.hdf5',\n",
    "    save_best_only=True,\n",
    "    verbose=0\n",
    ")\n",
    "\n",
    "callbacks = [checkpoint]"
   ]
  },
  {
   "cell_type": "code",
   "execution_count": 7,
   "metadata": {},
   "outputs": [
    {
     "name": "stdout",
     "output_type": "stream",
     "text": [
      "Model: \"sequential\"\n",
      "_________________________________________________________________\n",
      "Layer (type)                 Output Shape              Param #   \n",
      "=================================================================\n",
      "conv2d (Conv2D)              (None, 256, 256, 32)      128       \n",
      "_________________________________________________________________\n",
      "max_pooling2d (MaxPooling2D) (None, 128, 128, 32)      0         \n",
      "_________________________________________________________________\n",
      "conv2d_1 (Conv2D)            (None, 128, 128, 64)      2112      \n",
      "_________________________________________________________________\n",
      "max_pooling2d_1 (MaxPooling2 (None, 64, 64, 64)        0         \n",
      "_________________________________________________________________\n",
      "conv2d_2 (Conv2D)            (None, 64, 64, 128)       8320      \n",
      "_________________________________________________________________\n",
      "max_pooling2d_2 (MaxPooling2 (None, 32, 32, 128)       0         \n",
      "_________________________________________________________________\n",
      "flatten (Flatten)            (None, 131072)            0         \n",
      "_________________________________________________________________\n",
      "dense (Dense)                (None, 256)               33554688  \n",
      "_________________________________________________________________\n",
      "dense_1 (Dense)              (None, 128)               32896     \n",
      "_________________________________________________________________\n",
      "dense_2 (Dense)              (None, 64)                8256      \n",
      "_________________________________________________________________\n",
      "dense_3 (Dense)              (None, 1)                 65        \n",
      "=================================================================\n",
      "Total params: 33,606,465\n",
      "Trainable params: 33,606,465\n",
      "Non-trainable params: 0\n",
      "_________________________________________________________________\n",
      "None\n"
     ]
    }
   ],
   "source": [
    "use_metrics = [metrics.BinaryAccuracy(),\\\n",
    "                metrics.Precision(),\\\n",
    "                metrics.Recall()]\n",
    "\n",
    "model.compile(\n",
    "    loss='binary_crossentropy',\n",
    "    optimizer=optimizers.Adam(),\n",
    "    metrics=[use_metrics]\n",
    ")\n",
    "\n",
    "print(model.summary())"
   ]
  },
  {
   "cell_type": "code",
   "execution_count": 8,
   "metadata": {},
   "outputs": [
    {
     "name": "stdout",
     "output_type": "stream",
     "text": [
      "Epoch 1/20\n",
      "131/131 [==============================] - 83s 635ms/step - loss: 0.4751 - binary_accuracy: 0.7780 - precision: 0.8032 - recall: 0.9284 - val_loss: 0.4031 - val_binary_accuracy: 0.8042 - val_precision: 0.9286 - val_recall: 0.7969\n",
      "Epoch 2/20\n",
      "131/131 [==============================] - 83s 631ms/step - loss: 0.3075 - binary_accuracy: 0.8675 - precision: 0.8973 - recall: 0.9277 - val_loss: 0.2709 - val_binary_accuracy: 0.8798 - val_precision: 0.8859 - val_recall: 0.9617\n",
      "Epoch 3/20\n",
      "131/131 [==============================] - 82s 626ms/step - loss: 0.2619 - binary_accuracy: 0.8908 - precision: 0.9205 - recall: 0.9335 - val_loss: 0.2339 - val_binary_accuracy: 0.8997 - val_precision: 0.9682 - val_recall: 0.8940\n",
      "Epoch 4/20\n",
      "131/131 [==============================] - 83s 631ms/step - loss: 0.2410 - binary_accuracy: 0.9023 - precision: 0.9317 - recall: 0.9371 - val_loss: 0.2156 - val_binary_accuracy: 0.9158 - val_precision: 0.9715 - val_recall: 0.9132\n",
      "Epoch 5/20\n",
      "131/131 [==============================] - 83s 630ms/step - loss: 0.2150 - binary_accuracy: 0.9157 - precision: 0.9370 - recall: 0.9503 - val_loss: 0.1912 - val_binary_accuracy: 0.9234 - val_precision: 0.9500 - val_recall: 0.9464\n",
      "Epoch 6/20\n",
      "131/131 [==============================] - 83s 631ms/step - loss: 0.2063 - binary_accuracy: 0.9166 - precision: 0.9416 - recall: 0.9465 - val_loss: 0.2012 - val_binary_accuracy: 0.9177 - val_precision: 0.9579 - val_recall: 0.9298\n",
      "Epoch 7/20\n",
      "131/131 [==============================] - 82s 627ms/step - loss: 0.1956 - binary_accuracy: 0.9257 - precision: 0.9497 - recall: 0.9503 - val_loss: 0.2005 - val_binary_accuracy: 0.9253 - val_precision: 0.9822 - val_recall: 0.9157\n",
      "Epoch 8/20\n",
      "131/131 [==============================] - 83s 632ms/step - loss: 0.1894 - binary_accuracy: 0.9277 - precision: 0.9478 - recall: 0.9552 - val_loss: 0.1745 - val_binary_accuracy: 0.9262 - val_precision: 0.9681 - val_recall: 0.9310\n",
      "Epoch 9/20\n",
      "131/131 [==============================] - 83s 633ms/step - loss: 0.1847 - binary_accuracy: 0.9329 - precision: 0.9531 - recall: 0.9568 - val_loss: 0.1713 - val_binary_accuracy: 0.9366 - val_precision: 0.9812 - val_recall: 0.9323\n",
      "Epoch 10/20\n",
      "131/131 [==============================] - 83s 632ms/step - loss: 0.1749 - binary_accuracy: 0.9315 - precision: 0.9530 - recall: 0.9548 - val_loss: 0.1452 - val_binary_accuracy: 0.9404 - val_precision: 0.9749 - val_recall: 0.9438\n",
      "Epoch 11/20\n",
      "131/131 [==============================] - 82s 624ms/step - loss: 0.1623 - binary_accuracy: 0.9380 - precision: 0.9554 - recall: 0.9613 - val_loss: 0.1646 - val_binary_accuracy: 0.9300 - val_precision: 0.9771 - val_recall: 0.9272\n",
      "Epoch 12/20\n",
      "131/131 [==============================] - 84s 638ms/step - loss: 0.1658 - binary_accuracy: 0.9384 - precision: 0.9587 - recall: 0.9584 - val_loss: 0.1747 - val_binary_accuracy: 0.9290 - val_precision: 0.9784 - val_recall: 0.9246\n",
      "Epoch 13/20\n",
      "131/131 [==============================] - 85s 648ms/step - loss: 0.1631 - binary_accuracy: 0.9382 - precision: 0.9549 - recall: 0.9623 - val_loss: 0.1900 - val_binary_accuracy: 0.9338 - val_precision: 0.9917 - val_recall: 0.9183\n",
      "Epoch 14/20\n",
      "131/131 [==============================] - 85s 649ms/step - loss: 0.1590 - binary_accuracy: 0.9411 - precision: 0.9583 - recall: 0.9626 - val_loss: 0.1606 - val_binary_accuracy: 0.9366 - val_precision: 0.9812 - val_recall: 0.9323\n",
      "Epoch 15/20\n",
      "131/131 [==============================] - 85s 648ms/step - loss: 0.1562 - binary_accuracy: 0.9406 - precision: 0.9597 - recall: 0.9603 - val_loss: 0.1992 - val_binary_accuracy: 0.9234 - val_precision: 0.9916 - val_recall: 0.9042\n",
      "Epoch 16/20\n",
      "131/131 [==============================] - 85s 650ms/step - loss: 0.1571 - binary_accuracy: 0.9394 - precision: 0.9590 - recall: 0.9594 - val_loss: 0.1490 - val_binary_accuracy: 0.9376 - val_precision: 0.9686 - val_recall: 0.9464\n",
      "Epoch 17/20\n",
      "131/131 [==============================] - 85s 648ms/step - loss: 0.1552 - binary_accuracy: 0.9404 - precision: 0.9591 - recall: 0.9606 - val_loss: 0.1708 - val_binary_accuracy: 0.9300 - val_precision: 0.9890 - val_recall: 0.9157\n",
      "Epoch 18/20\n",
      "131/131 [==============================] - 85s 650ms/step - loss: 0.1497 - binary_accuracy: 0.9437 - precision: 0.9625 - recall: 0.9616 - val_loss: 0.1621 - val_binary_accuracy: 0.9309 - val_precision: 0.9876 - val_recall: 0.9183\n",
      "Epoch 19/20\n",
      "131/131 [==============================] - 85s 648ms/step - loss: 0.1410 - binary_accuracy: 0.9456 - precision: 0.9632 - recall: 0.9635 - val_loss: 0.1887 - val_binary_accuracy: 0.9224 - val_precision: 0.9972 - val_recall: 0.8978\n",
      "Epoch 20/20\n",
      "131/131 [==============================] - 85s 649ms/step - loss: 0.1465 - binary_accuracy: 0.9475 - precision: 0.9618 - recall: 0.9677 - val_loss: 0.1581 - val_binary_accuracy: 0.9338 - val_precision: 0.9890 - val_recall: 0.9208\n"
     ]
    }
   ],
   "source": [
    "history = model.fit(\n",
    "    train_ds,\n",
    "    validation_data=val_ds,\n",
    "    epochs=20,\n",
    "    callbacks=callbacks\n",
    ")\n",
    "\n",
    "model = keras.models.load_model('save_data/03_larger_network.hdf5')"
   ]
  },
  {
   "cell_type": "code",
   "execution_count": 9,
   "metadata": {},
   "outputs": [
    {
     "data": {
      "text/plain": [
       "<matplotlib.legend.Legend at 0x7f9cc0752d60>"
      ]
     },
     "execution_count": 9,
     "metadata": {},
     "output_type": "execute_result"
    },
    {
     "data": {
      "image/png": "[encoded data removed]",
      "text/plain": [
       "<Figure size 432x288 with 1 Axes>"
      ]
     },
     "metadata": {
      "needs_background": "light"
     },
     "output_type": "display_data"
    },
    {
     "data": {
      "image/png": "[encoded data removed]",
      "text/plain": [
       "<Figure size 432x288 with 1 Axes>"
      ]
     },
     "metadata": {
      "needs_background": "light"
     },
     "output_type": "display_data"
    }
   ],
   "source": [
    "acc = history.history['binary_accuracy']\n",
    "val_acc = history.history['val_binary_accuracy']\n",
    "loss = history.history['loss']\n",
    "val_loss = history.history['val_loss']\n",
    "epochs = range(len(acc))\n",
    "\n",
    "plt.plot(epochs, acc, label='Training acc')\n",
    "plt.plot(epochs, val_acc, label='Validation acc')\n",
    "plt.title('Training and validation accuracy')\n",
    "plt.legend()\n",
    "plt.figure()\n",
    "plt.plot(epochs, loss, label='Training loss')\n",
    "plt.plot(epochs, val_loss, label='Validation loss')\n",
    "plt.title('Training and validation loss')\n",
    "plt.legend()"
   ]
  },
  {
   "cell_type": "code",
   "execution_count": 10,
   "metadata": {},
   "outputs": [
    {
     "name": "stdout",
     "output_type": "stream",
     "text": [
      "131/131 [==============================] - 53s 406ms/step - loss: 0.1660 - binary_accuracy: 0.9346 - precision: 0.9408 - recall: 0.9732\n"
     ]
    }
   ],
   "source": [
    "train_res = model.evaluate(train_ds)"
   ]
  },
  {
   "cell_type": "code",
   "execution_count": 11,
   "metadata": {},
   "outputs": [
    {
     "name": "stdout",
     "output_type": "stream",
     "text": [
      "34/34 [==============================] - 7s 220ms/step - loss: 0.1452 - binary_accuracy: 0.9404 - precision: 0.9749 - recall: 0.9438\n"
     ]
    }
   ],
   "source": [
    "val_res = model.evaluate(val_ds)"
   ]
  },
  {
   "cell_type": "code",
   "execution_count": 12,
   "metadata": {},
   "outputs": [
    {
     "name": "stdout",
     "output_type": "stream",
     "text": [
      "20/20 [==============================] - 4s 186ms/step - loss: 0.3451 - binary_accuracy: 0.8734 - precision: 0.8463 - recall: 0.9744\n"
     ]
    }
   ],
   "source": [
    "test_res = model.evaluate(test_ds)"
   ]
  }
 ],
 "metadata": {
  "interpreter": {
   "hash": "820d50b626c26dd23e815fdc6f0defc021162c216bd79fa699f42d79cf8fcc33"
  },
  "kernelspec": {
   "display_name": "Python 3.8.5 ('learn-env')",
   "language": "python",
   "name": "python3"
  },
  "language_info": {
   "codemirror_mode": {
    "name": "ipython",
    "version": 3
   },
   "file_extension": ".py",
   "mimetype": "text/x-python",
   "name": "python",
   "nbconvert_exporter": "python",
   "pygments_lexer": "ipython3",
   "version": "3.8.5"
  },
  "orig_nbformat": 4
 },
 "nbformat": 4,
 "nbformat_minor": 2
}
