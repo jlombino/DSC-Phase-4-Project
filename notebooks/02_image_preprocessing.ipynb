{
 "cells": [
  {
   "cell_type": "code",
   "execution_count": 1,
   "metadata": {},
   "outputs": [],
   "source": [
    "import keras\n",
    "from keras import models\n",
    "from keras import layers\n",
    "from keras import optimizers\n",
    "from keras import metrics\n",
    "import matplotlib.pyplot as plt"
   ]
  },
  {
   "cell_type": "code",
   "execution_count": 2,
   "metadata": {},
   "outputs": [
    {
     "name": "stdout",
     "output_type": "stream",
     "text": [
      "Found 4173 images belonging to 2 classes.\n",
      "Found 1043 images belonging to 2 classes.\n"
     ]
    }
   ],
   "source": [
    "train_path = '../chest_xray/train'\n",
    "test_path = '../chest_xray/test'\n",
    "\n",
    "train_generator = keras.preprocessing.image.ImageDataGenerator(\n",
    "    rescale=1./255,\n",
    "    validation_split=0.2,\n",
    "    vertical_flip=True,\n",
    "    horizontal_flip=True,\n",
    "    rotation_range=90,\n",
    "    zoom_range=0.5\n",
    ")\n",
    "\n",
    "train_ds = train_generator.flow_from_directory(\n",
    "    train_path,\n",
    "    subset='training',\n",
    "    target_size=(256,256),\n",
    "    class_mode='binary',\n",
    "    seed=42\n",
    ")\n",
    "\n",
    "val_ds = train_generator.flow_from_directory(\n",
    "    train_path,\n",
    "    subset='validation',\n",
    "    target_size=(256,256),\n",
    "    class_mode='binary',\n",
    "    seed=42\n",
    ")"
   ]
  },
  {
   "cell_type": "code",
   "execution_count": 3,
   "metadata": {},
   "outputs": [],
   "source": [
    "model = models.Sequential()\n",
    "\n",
    "model.add(layers.Conv2D(32, (1, 1), activation='relu',padding='same',\n",
    "                        input_shape=(256, 256, 3)))\n",
    "model.add(layers.MaxPooling2D((2, 2)))\n",
    "\n",
    "model.add(layers.Conv2D(64, (1, 1), activation='relu',padding='same'))\n",
    "model.add(layers.MaxPooling2D((2, 2)))\n",
    "\n",
    "model.add(layers.Flatten())\n",
    "model.add(layers.Dense(256, activation='relu'))\n",
    "model.add(layers.Dense(1, activation='sigmoid'))"
   ]
  },
  {
   "cell_type": "code",
   "execution_count": 4,
   "metadata": {},
   "outputs": [],
   "source": [
    "stop_early = keras.callbacks.EarlyStopping(\n",
    "    monitor='val_loss',\n",
    "    patience=4\n",
    ")\n",
    "\n",
    "checkpoint = keras.callbacks.ModelCheckpoint(\n",
    "    monitor='val_loss',\n",
    "    filepath='save_data/02_image_preprocessing/',\n",
    "    save_weights_only=True\n",
    ")\n",
    "\n",
    "callbacks = [stop_early,checkpoint]"
   ]
  },
  {
   "cell_type": "code",
   "execution_count": 5,
   "metadata": {},
   "outputs": [],
   "source": [
    "use_metrics = [metrics.BinaryAccuracy(),\\\n",
    "                metrics.Precision(),\\\n",
    "                metrics.Recall()]\n",
    "\n",
    "model.compile(\n",
    "    loss='binary_crossentropy',\n",
    "    optimizer=optimizers.Adam(),\n",
    "    metrics=[use_metrics]\n",
    ")"
   ]
  },
  {
   "cell_type": "code",
   "execution_count": 6,
   "metadata": {},
   "outputs": [
    {
     "name": "stdout",
     "output_type": "stream",
     "text": [
      "Epoch 1/20\n",
      "131/131 [==============================] - 95s 724ms/step - loss: 1.3169 - binary_accuracy: 0.7304 - precision: 0.7947 - recall: 0.8590 - val_loss: 0.5632 - val_binary_accuracy: 0.7641 - val_precision: 0.7601 - val_recall: 0.9974\n",
      "Epoch 2/20\n",
      "131/131 [==============================] - 94s 715ms/step - loss: 0.4147 - binary_accuracy: 0.8104 - precision: 0.8395 - recall: 0.9210 - val_loss: 0.4992 - val_binary_accuracy: 0.7804 - val_precision: 0.7850 - val_recall: 0.9703\n",
      "Epoch 3/20\n",
      "131/131 [==============================] - 94s 715ms/step - loss: 0.4147 - binary_accuracy: 0.8126 - precision: 0.8427 - recall: 0.9194 - val_loss: 0.4589 - val_binary_accuracy: 0.7881 - val_precision: 0.8533 - val_recall: 0.8632\n",
      "Epoch 4/20\n",
      "131/131 [==============================] - 93s 711ms/step - loss: 0.3698 - binary_accuracy: 0.8366 - precision: 0.8592 - recall: 0.9329 - val_loss: 0.4490 - val_binary_accuracy: 0.8178 - val_precision: 0.8528 - val_recall: 0.9123\n",
      "Epoch 5/20\n",
      "131/131 [==============================] - 93s 712ms/step - loss: 0.3601 - binary_accuracy: 0.8414 - precision: 0.8701 - recall: 0.9245 - val_loss: 0.4416 - val_binary_accuracy: 0.8207 - val_precision: 0.8467 - val_recall: 0.9265\n",
      "Epoch 6/20\n",
      "131/131 [==============================] - 93s 712ms/step - loss: 0.3515 - binary_accuracy: 0.8521 - precision: 0.8812 - recall: 0.9258 - val_loss: 0.4224 - val_binary_accuracy: 0.8169 - val_precision: 0.8266 - val_recall: 0.9535\n",
      "Epoch 7/20\n",
      "131/131 [==============================] - 93s 711ms/step - loss: 0.3436 - binary_accuracy: 0.8514 - precision: 0.8778 - recall: 0.9294 - val_loss: 0.4834 - val_binary_accuracy: 0.8006 - val_precision: 0.7956 - val_recall: 0.9845\n",
      "Epoch 8/20\n",
      "131/131 [==============================] - 93s 711ms/step - loss: 0.3343 - binary_accuracy: 0.8509 - precision: 0.8810 - recall: 0.9242 - val_loss: 0.3985 - val_binary_accuracy: 0.8255 - val_precision: 0.8927 - val_recall: 0.8697\n",
      "Epoch 9/20\n",
      "131/131 [==============================] - 93s 711ms/step - loss: 0.3125 - binary_accuracy: 0.8687 - precision: 0.8931 - recall: 0.9352 - val_loss: 0.4242 - val_binary_accuracy: 0.8025 - val_precision: 0.8839 - val_recall: 0.8452\n",
      "Epoch 10/20\n",
      "131/131 [==============================] - 93s 712ms/step - loss: 0.3154 - binary_accuracy: 0.8675 - precision: 0.8903 - recall: 0.9371 - val_loss: 0.3700 - val_binary_accuracy: 0.8351 - val_precision: 0.8681 - val_recall: 0.9174\n",
      "Epoch 11/20\n",
      "131/131 [==============================] - 93s 708ms/step - loss: 0.3161 - binary_accuracy: 0.8680 - precision: 0.8940 - recall: 0.9329 - val_loss: 0.4208 - val_binary_accuracy: 0.8265 - val_precision: 0.8345 - val_recall: 0.9561\n",
      "Epoch 12/20\n",
      "131/131 [==============================] - 93s 710ms/step - loss: 0.3084 - binary_accuracy: 0.8672 - precision: 0.8936 - recall: 0.9323 - val_loss: 0.3726 - val_binary_accuracy: 0.8322 - val_precision: 0.8968 - val_recall: 0.8748\n",
      "Epoch 13/20\n",
      "131/131 [==============================] - 93s 709ms/step - loss: 0.2934 - binary_accuracy: 0.8787 - precision: 0.9038 - recall: 0.9365 - val_loss: 0.3758 - val_binary_accuracy: 0.8399 - val_precision: 0.8593 - val_recall: 0.9381\n",
      "Epoch 14/20\n",
      "131/131 [==============================] - 94s 715ms/step - loss: 0.3098 - binary_accuracy: 0.8708 - precision: 0.8958 - recall: 0.9348 - val_loss: 0.3568 - val_binary_accuracy: 0.8428 - val_precision: 0.8667 - val_recall: 0.9316\n",
      "Epoch 15/20\n",
      "131/131 [==============================] - 94s 715ms/step - loss: 0.2840 - binary_accuracy: 0.8804 - precision: 0.9045 - recall: 0.9381 - val_loss: 0.3594 - val_binary_accuracy: 0.8332 - val_precision: 0.9179 - val_recall: 0.8516\n",
      "Epoch 16/20\n",
      "131/131 [==============================] - 94s 715ms/step - loss: 0.2889 - binary_accuracy: 0.8768 - precision: 0.9043 - recall: 0.9329 - val_loss: 0.3487 - val_binary_accuracy: 0.8389 - val_precision: 0.8837 - val_recall: 0.9019\n",
      "Epoch 17/20\n",
      "131/131 [==============================] - 93s 709ms/step - loss: 0.2833 - binary_accuracy: 0.8847 - precision: 0.9093 - recall: 0.9384 - val_loss: 0.3652 - val_binary_accuracy: 0.8360 - val_precision: 0.8416 - val_recall: 0.9600\n",
      "Epoch 18/20\n",
      "131/131 [==============================] - 93s 708ms/step - loss: 0.2685 - binary_accuracy: 0.8912 - precision: 0.9153 - recall: 0.9406 - val_loss: 0.3419 - val_binary_accuracy: 0.8485 - val_precision: 0.8668 - val_recall: 0.9406\n",
      "Epoch 19/20\n",
      "131/131 [==============================] - 93s 710ms/step - loss: 0.2610 - binary_accuracy: 0.8943 - precision: 0.9169 - recall: 0.9432 - val_loss: 0.3435 - val_binary_accuracy: 0.8428 - val_precision: 0.8973 - val_recall: 0.8903\n",
      "Epoch 20/20\n",
      "131/131 [==============================] - 93s 708ms/step - loss: 0.2585 - binary_accuracy: 0.8974 - precision: 0.9196 - recall: 0.9445 - val_loss: 0.3121 - val_binary_accuracy: 0.8629 - val_precision: 0.8863 - val_recall: 0.9355\n"
     ]
    },
    {
     "data": {
      "text/plain": [
       "<tensorflow.python.training.tracking.util.CheckpointLoadStatus at 0x7ff7b02f29a0>"
      ]
     },
     "execution_count": 6,
     "metadata": {},
     "output_type": "execute_result"
    }
   ],
   "source": [
    "history = model.fit(\n",
    "    train_ds,\n",
    "    validation_data=val_ds,\n",
    "    epochs=20,\n",
    "    callbacks=callbacks\n",
    ")\n",
    "\n",
    "model.load_weights('save_data/02_image_preprocessing/')"
   ]
  },
  {
   "cell_type": "code",
   "execution_count": 7,
   "metadata": {},
   "outputs": [
    {
     "data": {
      "text/plain": [
       "<matplotlib.legend.Legend at 0x7ff79039a640>"
      ]
     },
     "execution_count": 7,
     "metadata": {},
     "output_type": "execute_result"
    },
    {
     "data": {
      "image/png": "[encoded data removed]",
      "text/plain": [
       "<Figure size 432x288 with 1 Axes>"
      ]
     },
     "metadata": {
      "needs_background": "light"
     },
     "output_type": "display_data"
    },
    {
     "data": {
      "image/png": "[encoded data removed]",
      "text/plain": [
       "<Figure size 432x288 with 1 Axes>"
      ]
     },
     "metadata": {
      "needs_background": "light"
     },
     "output_type": "display_data"
    }
   ],
   "source": [
    "acc = history.history['binary_accuracy']\n",
    "val_acc = history.history['val_binary_accuracy']\n",
    "loss = history.history['loss']\n",
    "val_loss = history.history['val_loss']\n",
    "epochs = range(len(acc))\n",
    "\n",
    "plt.plot(epochs, acc, label='Training acc')\n",
    "plt.plot(epochs, val_acc, label='Validation acc')\n",
    "plt.title('Training and validation accuracy')\n",
    "plt.legend()\n",
    "plt.figure()\n",
    "plt.plot(epochs, loss, label='Training loss')\n",
    "plt.plot(epochs, val_loss, label='Validation loss')\n",
    "plt.title('Training and validation loss')\n",
    "plt.legend()"
   ]
  },
  {
   "cell_type": "code",
   "execution_count": 8,
   "metadata": {},
   "outputs": [
    {
     "name": "stdout",
     "output_type": "stream",
     "text": [
      "131/131 [==============================] - 52s 396ms/step - loss: 0.2477 - binary_accuracy: 0.9008 - precision: 0.9080 - recall: 0.9642\n"
     ]
    }
   ],
   "source": [
    "train_res = model.evaluate(train_ds)"
   ]
  },
  {
   "cell_type": "code",
   "execution_count": 9,
   "metadata": {},
   "outputs": [
    {
     "name": "stdout",
     "output_type": "stream",
     "text": [
      "33/33 [==============================] - 13s 382ms/step - loss: 0.2886 - binary_accuracy: 0.8639 - precision: 0.8903 - recall: 0.9316\n"
     ]
    }
   ],
   "source": [
    "val_res = model.evaluate(val_ds)"
   ]
  },
  {
   "cell_type": "code",
   "execution_count": 10,
   "metadata": {},
   "outputs": [
    {
     "name": "stdout",
     "output_type": "stream",
     "text": [
      "Found 624 images belonging to 2 classes.\n"
     ]
    }
   ],
   "source": [
    "test_generator = keras.preprocessing.image.ImageDataGenerator(\n",
    "    rescale=1./255\n",
    ")\n",
    "\n",
    "test_ds = train_generator.flow_from_directory(\n",
    "    test_path,\n",
    "    target_size=(256,256),\n",
    "    class_mode='binary'\n",
    ")"
   ]
  },
  {
   "cell_type": "code",
   "execution_count": 11,
   "metadata": {},
   "outputs": [
    {
     "name": "stdout",
     "output_type": "stream",
     "text": [
      "20/20 [==============================] - 7s 343ms/step - loss: 0.4647 - binary_accuracy: 0.8045 - precision: 0.7757 - recall: 0.9667\n"
     ]
    }
   ],
   "source": [
    "test_res = model.evaluate(test_ds)"
   ]
  },
  {
   "cell_type": "code",
   "execution_count": 12,
   "metadata": {},
   "outputs": [
    {
     "name": "stdout",
     "output_type": "stream",
     "text": [
      "WARNING:tensorflow:From /home/jason/miniconda3/envs/learn-env/lib/python3.8/site-packages/tensorflow/python/training/tracking/tracking.py:111: Model.state_updates (from tensorflow.python.keras.engine.training) is deprecated and will be removed in a future version.\n",
      "Instructions for updating:\n",
      "This property should not be used in TensorFlow 2.0, as updates are applied automatically.\n",
      "WARNING:tensorflow:From /home/jason/miniconda3/envs/learn-env/lib/python3.8/site-packages/tensorflow/python/training/tracking/tracking.py:111: Layer.updates (from tensorflow.python.keras.engine.base_layer) is deprecated and will be removed in a future version.\n",
      "Instructions for updating:\n",
      "This property should not be used in TensorFlow 2.0, as updates are applied automatically.\n",
      "INFO:tensorflow:Assets written to: save_data/02_image_preprocessing/assets\n"
     ]
    }
   ],
   "source": [
    "model.save('save_data/02_image_preprocessing/')"
   ]
  }
 ],
 "metadata": {
  "interpreter": {
   "hash": "820d50b626c26dd23e815fdc6f0defc021162c216bd79fa699f42d79cf8fcc33"
  },
  "kernelspec": {
   "display_name": "Python 3.8.5 ('learn-env')",
   "language": "python",
   "name": "python3"
  },
  "language_info": {
   "codemirror_mode": {
    "name": "ipython",
    "version": 3
   },
   "file_extension": ".py",
   "mimetype": "text/x-python",
   "name": "python",
   "nbconvert_exporter": "python",
   "pygments_lexer": "ipython3",
   "version": "3.8.5"
  },
  "orig_nbformat": 4
 },
 "nbformat": 4,
 "nbformat_minor": 2
}
