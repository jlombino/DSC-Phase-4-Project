{
 "cells": [
  {
   "cell_type": "code",
   "execution_count": 1,
   "metadata": {},
   "outputs": [],
   "source": [
    "import keras\n",
    "from keras import models\n",
    "from keras import layers\n",
    "from keras import optimizers\n",
    "from keras import metrics\n",
    "import matplotlib.pyplot as plt"
   ]
  },
  {
   "cell_type": "code",
   "execution_count": 2,
   "metadata": {},
   "outputs": [
    {
     "name": "stdout",
     "output_type": "stream",
     "text": [
      "Found 4175 images belonging to 2 classes.\n"
     ]
    }
   ],
   "source": [
    "train_path = '../chest_xray/train'\n",
    "test_path = '../chest_xray/test'\n",
    "val_path = '../chest_xray/val'\n",
    "\n",
    "train_generator = keras.preprocessing.image.ImageDataGenerator(\n",
    "    rescale=1./255,\n",
    "    horizontal_flip=True,\n",
    "    rotation_range=45,\n",
    "    zoom_range=0.3\n",
    ")\n",
    "\n",
    "train_ds = train_generator.flow_from_directory(\n",
    "    train_path,\n",
    "    target_size=(256,256),\n",
    "    class_mode='binary',\n",
    ")"
   ]
  },
  {
   "cell_type": "code",
   "execution_count": 3,
   "metadata": {},
   "outputs": [
    {
     "name": "stdout",
     "output_type": "stream",
     "text": [
      "Found 1057 images belonging to 2 classes.\n"
     ]
    }
   ],
   "source": [
    "val_generator = keras.preprocessing.image.ImageDataGenerator(\n",
    "    rescale=1./255\n",
    ")\n",
    "\n",
    "val_ds = val_generator.flow_from_directory(\n",
    "    val_path,\n",
    "    target_size=(256,256),\n",
    "    class_mode='binary',\n",
    ")"
   ]
  },
  {
   "cell_type": "code",
   "execution_count": 4,
   "metadata": {},
   "outputs": [
    {
     "name": "stdout",
     "output_type": "stream",
     "text": [
      "Found 624 images belonging to 2 classes.\n"
     ]
    }
   ],
   "source": [
    "test_generator = keras.preprocessing.image.ImageDataGenerator(\n",
    "    rescale=1./255\n",
    ")\n",
    "\n",
    "test_ds = test_generator.flow_from_directory(\n",
    "    test_path,\n",
    "    target_size=(256,256),\n",
    "    class_mode='binary'\n",
    ")"
   ]
  },
  {
   "cell_type": "code",
   "execution_count": 5,
   "metadata": {},
   "outputs": [],
   "source": [
    "vgg_base = keras.applications.VGG16(\n",
    "    weights='imagenet',\n",
    "    input_shape=(256, 256, 3),\n",
    "    include_top=False\n",
    ")\n",
    "\n",
    "vgg_base.trainable = False"
   ]
  },
  {
   "cell_type": "code",
   "execution_count": 6,
   "metadata": {},
   "outputs": [
    {
     "name": "stdout",
     "output_type": "stream",
     "text": [
      "vgg16 False\n",
      "flatten True\n",
      "dense True\n",
      "dense_1 True\n",
      "dense_2 True\n",
      "dense_3 True\n",
      "dense_4 True\n"
     ]
    }
   ],
   "source": [
    "model = models.Sequential()\n",
    "\n",
    "model.add(vgg_base)                   \n",
    "model.add(layers.Flatten())\n",
    "model.add(layers.Dense(512, activation='relu'))\n",
    "model.add(layers.Dense(256, activation='relu'))\n",
    "model.add(layers.Dense(128, activation='relu'))\n",
    "model.add(layers.Dense(64, activation='relu'))\n",
    "model.add(layers.Dense(1, activation='sigmoid'))\n",
    "\n",
    "for layer in model.layers:\n",
    "    print(layer.name, layer.trainable)"
   ]
  },
  {
   "cell_type": "code",
   "execution_count": 7,
   "metadata": {},
   "outputs": [],
   "source": [
    "checkpoint = keras.callbacks.ModelCheckpoint(\n",
    "    monitor='val_loss',\n",
    "    filepath='save_data/11_vgg_decay.hdf5',\n",
    "    save_best_only=True,\n",
    "    verbose=0\n",
    ")\n",
    "\n",
    "callbacks = [checkpoint]"
   ]
  },
  {
   "cell_type": "code",
   "execution_count": 8,
   "metadata": {},
   "outputs": [
    {
     "name": "stdout",
     "output_type": "stream",
     "text": [
      "Model: \"sequential\"\n",
      "_________________________________________________________________\n",
      "Layer (type)                 Output Shape              Param #   \n",
      "=================================================================\n",
      "vgg16 (Functional)           (None, 8, 8, 512)         14714688  \n",
      "_________________________________________________________________\n",
      "flatten (Flatten)            (None, 32768)             0         \n",
      "_________________________________________________________________\n",
      "dense (Dense)                (None, 512)               16777728  \n",
      "_________________________________________________________________\n",
      "dense_1 (Dense)              (None, 256)               131328    \n",
      "_________________________________________________________________\n",
      "dense_2 (Dense)              (None, 128)               32896     \n",
      "_________________________________________________________________\n",
      "dense_3 (Dense)              (None, 64)                8256      \n",
      "_________________________________________________________________\n",
      "dense_4 (Dense)              (None, 1)                 65        \n",
      "=================================================================\n",
      "Total params: 31,664,961\n",
      "Trainable params: 16,950,273\n",
      "Non-trainable params: 14,714,688\n",
      "_________________________________________________________________\n",
      "None\n"
     ]
    }
   ],
   "source": [
    "use_metrics = [metrics.BinaryAccuracy(),\\\n",
    "                metrics.Precision(),\\\n",
    "                metrics.Recall()]\n",
    "\n",
    "scheduler = optimizers.schedules.ExponentialDecay(\n",
    "    initial_learning_rate=0.01,\n",
    "    decay_rate=0.96,\n",
    "    decay_steps=2500\n",
    ")\n",
    "\n",
    "model.compile(\n",
    "    loss='binary_crossentropy',\n",
    "    optimizer=optimizers.Adam(learning_rate=scheduler),\n",
    "    metrics=[use_metrics]\n",
    ")\n",
    "\n",
    "print(model.summary())"
   ]
  },
  {
   "cell_type": "code",
   "execution_count": 9,
   "metadata": {},
   "outputs": [
    {
     "name": "stdout",
     "output_type": "stream",
     "text": [
      "Epoch 1/20\n",
      "131/131 [==============================] - 185s 1s/step - loss: 1.5442 - binary_accuracy: 0.8537 - precision: 0.9003 - recall: 0.9029 - val_loss: 0.1844 - val_binary_accuracy: 0.9290 - val_precision: 0.9876 - val_recall: 0.9157\n",
      "Epoch 2/20\n",
      "131/131 [==============================] - 184s 1s/step - loss: 0.1968 - binary_accuracy: 0.9178 - precision: 0.9483 - recall: 0.9406 - val_loss: 0.2631 - val_binary_accuracy: 0.8553 - val_precision: 0.9968 - val_recall: 0.8072\n",
      "Epoch 3/20\n",
      "131/131 [==============================] - 186s 1s/step - loss: 0.1715 - binary_accuracy: 0.9356 - precision: 0.9582 - recall: 0.9548 - val_loss: 0.1803 - val_binary_accuracy: 0.9470 - val_precision: 0.9919 - val_recall: 0.9361\n",
      "Epoch 4/20\n",
      "131/131 [==============================] - 186s 1s/step - loss: 0.1578 - binary_accuracy: 0.9425 - precision: 0.9575 - recall: 0.9655 - val_loss: 0.1294 - val_binary_accuracy: 0.9480 - val_precision: 0.9879 - val_recall: 0.9413\n",
      "Epoch 5/20\n",
      "131/131 [==============================] - 185s 1s/step - loss: 0.1987 - binary_accuracy: 0.9305 - precision: 0.9568 - recall: 0.9494 - val_loss: 0.2248 - val_binary_accuracy: 0.8874 - val_precision: 0.9985 - val_recall: 0.8493\n",
      "Epoch 6/20\n",
      "131/131 [==============================] - 186s 1s/step - loss: 0.1269 - binary_accuracy: 0.9564 - precision: 0.9716 - recall: 0.9697 - val_loss: 0.2394 - val_binary_accuracy: 0.9016 - val_precision: 0.9985 - val_recall: 0.8685\n",
      "Epoch 7/20\n",
      "131/131 [==============================] - 186s 1s/step - loss: 0.1107 - binary_accuracy: 0.9588 - precision: 0.9732 - recall: 0.9713 - val_loss: 0.1240 - val_binary_accuracy: 0.9423 - val_precision: 0.9972 - val_recall: 0.9246\n",
      "Epoch 8/20\n",
      "131/131 [==============================] - 186s 1s/step - loss: 0.0990 - binary_accuracy: 0.9626 - precision: 0.9751 - recall: 0.9745 - val_loss: 0.6078 - val_binary_accuracy: 0.7351 - val_precision: 1.0000 - val_recall: 0.6424\n",
      "Epoch 9/20\n",
      "131/131 [==============================] - 185s 1s/step - loss: 0.1169 - binary_accuracy: 0.9545 - precision: 0.9694 - recall: 0.9694 - val_loss: 0.2004 - val_binary_accuracy: 0.9167 - val_precision: 0.9986 - val_recall: 0.8889\n",
      "Epoch 10/20\n",
      "131/131 [==============================] - 185s 1s/step - loss: 0.1047 - binary_accuracy: 0.9607 - precision: 0.9723 - recall: 0.9748 - val_loss: 0.4245 - val_binary_accuracy: 0.8202 - val_precision: 1.0000 - val_recall: 0.7573\n",
      "Epoch 11/20\n",
      "131/131 [==============================] - 186s 1s/step - loss: 0.2118 - binary_accuracy: 0.9360 - precision: 0.9547 - recall: 0.9594 - val_loss: 0.3377 - val_binary_accuracy: 0.9149 - val_precision: 0.9971 - val_recall: 0.8876\n",
      "Epoch 12/20\n",
      "131/131 [==============================] - 186s 1s/step - loss: 0.1331 - binary_accuracy: 0.9535 - precision: 0.9654 - recall: 0.9723 - val_loss: 0.2883 - val_binary_accuracy: 0.8865 - val_precision: 0.9985 - val_recall: 0.8480\n",
      "Epoch 13/20\n",
      "131/131 [==============================] - 188s 1s/step - loss: 0.1039 - binary_accuracy: 0.9631 - precision: 0.9718 - recall: 0.9787 - val_loss: 0.2223 - val_binary_accuracy: 0.9234 - val_precision: 0.9986 - val_recall: 0.8978\n",
      "Epoch 14/20\n",
      "131/131 [==============================] - 187s 1s/step - loss: 0.1005 - binary_accuracy: 0.9607 - precision: 0.9732 - recall: 0.9739 - val_loss: 0.1755 - val_binary_accuracy: 0.9272 - val_precision: 0.9972 - val_recall: 0.9042\n",
      "Epoch 15/20\n",
      "131/131 [==============================] - 187s 1s/step - loss: 0.0862 - binary_accuracy: 0.9689 - precision: 0.9812 - recall: 0.9768 - val_loss: 0.1630 - val_binary_accuracy: 0.9366 - val_precision: 0.9986 - val_recall: 0.9157\n",
      "Epoch 16/20\n",
      "131/131 [==============================] - 187s 1s/step - loss: 0.0832 - binary_accuracy: 0.9689 - precision: 0.9797 - recall: 0.9784 - val_loss: 0.3623 - val_binary_accuracy: 0.9007 - val_precision: 0.9985 - val_recall: 0.8672\n",
      "Epoch 17/20\n",
      "131/131 [==============================] - 187s 1s/step - loss: 0.1074 - binary_accuracy: 0.9622 - precision: 0.9730 - recall: 0.9761 - val_loss: 0.3363 - val_binary_accuracy: 0.8921 - val_precision: 1.0000 - val_recall: 0.8544\n",
      "Epoch 18/20\n",
      "131/131 [==============================] - 188s 1s/step - loss: 0.0947 - binary_accuracy: 0.9653 - precision: 0.9777 - recall: 0.9755 - val_loss: 0.2667 - val_binary_accuracy: 0.9139 - val_precision: 0.9986 - val_recall: 0.8851\n",
      "Epoch 19/20\n",
      "131/131 [==============================] - 187s 1s/step - loss: 0.0864 - binary_accuracy: 0.9705 - precision: 0.9834 - recall: 0.9768 - val_loss: 0.2664 - val_binary_accuracy: 0.9177 - val_precision: 0.9986 - val_recall: 0.8902\n",
      "Epoch 20/20\n",
      "131/131 [==============================] - 187s 1s/step - loss: 0.0921 - binary_accuracy: 0.9617 - precision: 0.9715 - recall: 0.9771 - val_loss: 0.6033 - val_binary_accuracy: 0.8240 - val_precision: 1.0000 - val_recall: 0.7625\n"
     ]
    }
   ],
   "source": [
    "history = model.fit(\n",
    "    train_ds,\n",
    "    validation_data=val_ds,\n",
    "    epochs=20,\n",
    "    callbacks=callbacks\n",
    ")\n",
    "\n",
    "model = keras.models.load_model('save_data/11_vgg_decay.hdf5')"
   ]
  },
  {
   "cell_type": "code",
   "execution_count": 10,
   "metadata": {},
   "outputs": [
    {
     "data": {
      "text/plain": [
       "<matplotlib.legend.Legend at 0x7ff544051040>"
      ]
     },
     "execution_count": 10,
     "metadata": {},
     "output_type": "execute_result"
    },
    {
     "data": {
      "image/png": "[encoded data removed]",
      "text/plain": [
       "<Figure size 432x288 with 1 Axes>"
      ]
     },
     "metadata": {
      "needs_background": "light"
     },
     "output_type": "display_data"
    },
    {
     "data": {
      "image/png": "[encoded data removed]",
      "text/plain": [
       "<Figure size 432x288 with 1 Axes>"
      ]
     },
     "metadata": {
      "needs_background": "light"
     },
     "output_type": "display_data"
    }
   ],
   "source": [
    "acc = history.history['binary_accuracy']\n",
    "val_acc = history.history['val_binary_accuracy']\n",
    "loss = history.history['loss']\n",
    "val_loss = history.history['val_loss']\n",
    "epochs = range(len(acc))\n",
    "\n",
    "plt.plot(epochs, acc, label='Training acc')\n",
    "plt.plot(epochs, val_acc, label='Validation acc')\n",
    "plt.title('Training and validation accuracy')\n",
    "plt.legend()\n",
    "plt.figure()\n",
    "plt.plot(epochs, loss, label='Training loss')\n",
    "plt.plot(epochs, val_loss, label='Validation loss')\n",
    "plt.title('Training and validation loss')\n",
    "plt.legend()"
   ]
  },
  {
   "cell_type": "code",
   "execution_count": 11,
   "metadata": {},
   "outputs": [
    {
     "name": "stdout",
     "output_type": "stream",
     "text": [
      "131/131 [==============================] - 144s 1s/step - loss: 0.1503 - binary_accuracy: 0.9473 - precision: 0.9393 - recall: 0.9932\n"
     ]
    }
   ],
   "source": [
    "train_res = model.evaluate(train_ds)"
   ]
  },
  {
   "cell_type": "code",
   "execution_count": 12,
   "metadata": {},
   "outputs": [
    {
     "name": "stdout",
     "output_type": "stream",
     "text": [
      "34/34 [==============================] - 36s 1s/step - loss: 0.1240 - binary_accuracy: 0.9423 - precision: 0.9972 - recall: 0.9246\n"
     ]
    }
   ],
   "source": [
    "val_res = model.evaluate(val_ds)"
   ]
  },
  {
   "cell_type": "code",
   "execution_count": 13,
   "metadata": {},
   "outputs": [
    {
     "name": "stdout",
     "output_type": "stream",
     "text": [
      "20/20 [==============================] - 21s 1s/step - loss: 0.3143 - binary_accuracy: 0.9054 - precision: 0.8753 - recall: 0.9897\n"
     ]
    }
   ],
   "source": [
    "test_res = model.evaluate(test_ds)"
   ]
  }
 ],
 "metadata": {
  "interpreter": {
   "hash": "820d50b626c26dd23e815fdc6f0defc021162c216bd79fa699f42d79cf8fcc33"
  },
  "kernelspec": {
   "display_name": "Python 3.8.5 ('learn-env')",
   "language": "python",
   "name": "python3"
  },
  "language_info": {
   "codemirror_mode": {
    "name": "ipython",
    "version": 3
   },
   "file_extension": ".py",
   "mimetype": "text/x-python",
   "name": "python",
   "nbconvert_exporter": "python",
   "pygments_lexer": "ipython3",
   "version": "3.8.5"
  },
  "orig_nbformat": 4
 },
 "nbformat": 4,
 "nbformat_minor": 2
}
