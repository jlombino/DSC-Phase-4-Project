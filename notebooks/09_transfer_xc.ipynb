{
 "cells": [
  {
   "cell_type": "code",
   "execution_count": 1,
   "metadata": {},
   "outputs": [],
   "source": [
    "import keras\n",
    "from keras import models\n",
    "from keras import layers\n",
    "from keras import optimizers\n",
    "from keras import metrics\n",
    "import matplotlib.pyplot as plt"
   ]
  },
  {
   "cell_type": "code",
   "execution_count": 2,
   "metadata": {},
   "outputs": [
    {
     "name": "stdout",
     "output_type": "stream",
     "text": [
      "Found 4175 images belonging to 2 classes.\n"
     ]
    }
   ],
   "source": [
    "train_path = '../chest_xray/train'\n",
    "test_path = '../chest_xray/test'\n",
    "val_path = '../chest_xray/val'\n",
    "\n",
    "train_generator = keras.preprocessing.image.ImageDataGenerator(\n",
    "    rescale=1./255,\n",
    "    horizontal_flip=True,\n",
    "    rotation_range=45,\n",
    "    zoom_range=0.3\n",
    ")\n",
    "\n",
    "train_ds = train_generator.flow_from_directory(\n",
    "    train_path,\n",
    "    target_size=(256,256),\n",
    "    class_mode='binary',\n",
    ")"
   ]
  },
  {
   "cell_type": "code",
   "execution_count": 3,
   "metadata": {},
   "outputs": [
    {
     "name": "stdout",
     "output_type": "stream",
     "text": [
      "Found 1057 images belonging to 2 classes.\n"
     ]
    }
   ],
   "source": [
    "val_generator = keras.preprocessing.image.ImageDataGenerator(\n",
    "    rescale=1./255\n",
    ")\n",
    "\n",
    "val_ds = val_generator.flow_from_directory(\n",
    "    val_path,\n",
    "    target_size=(256,256),\n",
    "    class_mode='binary',\n",
    ")"
   ]
  },
  {
   "cell_type": "code",
   "execution_count": 4,
   "metadata": {},
   "outputs": [
    {
     "name": "stdout",
     "output_type": "stream",
     "text": [
      "Found 624 images belonging to 2 classes.\n"
     ]
    }
   ],
   "source": [
    "test_generator = keras.preprocessing.image.ImageDataGenerator(\n",
    "    rescale=1./255\n",
    ")\n",
    "\n",
    "test_ds = test_generator.flow_from_directory(\n",
    "    test_path,\n",
    "    target_size=(256,256),\n",
    "    class_mode='binary'\n",
    ")"
   ]
  },
  {
   "cell_type": "code",
   "execution_count": 5,
   "metadata": {},
   "outputs": [],
   "source": [
    "xc_base = keras.applications.Xception(\n",
    "    weights='imagenet',\n",
    "    input_shape=(256, 256, 3),\n",
    "    include_top=False\n",
    ")\n",
    "\n",
    "xc_base.trainable = False"
   ]
  },
  {
   "cell_type": "code",
   "execution_count": 6,
   "metadata": {},
   "outputs": [
    {
     "name": "stdout",
     "output_type": "stream",
     "text": [
      "xception False\n",
      "flatten True\n",
      "dense True\n",
      "dense_1 True\n",
      "dense_2 True\n",
      "dense_3 True\n",
      "dense_4 True\n"
     ]
    }
   ],
   "source": [
    "model = models.Sequential()\n",
    "\n",
    "model.add(xc_base)                   \n",
    "model.add(layers.Flatten())\n",
    "model.add(layers.Dense(512, activation='relu'))\n",
    "model.add(layers.Dense(256, activation='relu'))\n",
    "model.add(layers.Dense(128, activation='relu'))\n",
    "model.add(layers.Dense(64, activation='relu'))\n",
    "model.add(layers.Dense(1, activation='sigmoid'))\n",
    "\n",
    "for layer in model.layers:\n",
    "    print(layer.name, layer.trainable)"
   ]
  },
  {
   "cell_type": "code",
   "execution_count": 7,
   "metadata": {},
   "outputs": [],
   "source": [
    "checkpoint = keras.callbacks.ModelCheckpoint(\n",
    "    monitor='val_loss',\n",
    "    filepath='save_data/09_transfer_xc.hdf5',\n",
    "    save_best_only=True,\n",
    "    verbose=0\n",
    ")\n",
    "\n",
    "callbacks = [checkpoint]"
   ]
  },
  {
   "cell_type": "code",
   "execution_count": 8,
   "metadata": {},
   "outputs": [
    {
     "name": "stdout",
     "output_type": "stream",
     "text": [
      "Model: \"sequential\"\n",
      "_________________________________________________________________\n",
      "Layer (type)                 Output Shape              Param #   \n",
      "=================================================================\n",
      "xception (Functional)        (None, 8, 8, 2048)        20861480  \n",
      "_________________________________________________________________\n",
      "flatten (Flatten)            (None, 131072)            0         \n",
      "_________________________________________________________________\n",
      "dense (Dense)                (None, 512)               67109376  \n",
      "_________________________________________________________________\n",
      "dense_1 (Dense)              (None, 256)               131328    \n",
      "_________________________________________________________________\n",
      "dense_2 (Dense)              (None, 128)               32896     \n",
      "_________________________________________________________________\n",
      "dense_3 (Dense)              (None, 64)                8256      \n",
      "_________________________________________________________________\n",
      "dense_4 (Dense)              (None, 1)                 65        \n",
      "=================================================================\n",
      "Total params: 88,143,401\n",
      "Trainable params: 67,281,921\n",
      "Non-trainable params: 20,861,480\n",
      "_________________________________________________________________\n",
      "None\n"
     ]
    }
   ],
   "source": [
    "use_metrics = [metrics.BinaryAccuracy(),\\\n",
    "                metrics.Precision(),\\\n",
    "                metrics.Recall()]\n",
    "\n",
    "model.compile(\n",
    "    loss='binary_crossentropy',\n",
    "    optimizer=optimizers.Adam(),\n",
    "    metrics=[use_metrics]\n",
    ")\n",
    "\n",
    "print(model.summary())"
   ]
  },
  {
   "cell_type": "code",
   "execution_count": 9,
   "metadata": {},
   "outputs": [
    {
     "name": "stdout",
     "output_type": "stream",
     "text": [
      "Epoch 1/20\n",
      "131/131 [==============================] - 115s 875ms/step - loss: 0.6754 - binary_accuracy: 0.8651 - precision: 0.9112 - recall: 0.9068 - val_loss: 0.2787 - val_binary_accuracy: 0.8884 - val_precision: 0.9690 - val_recall: 0.8774\n",
      "Epoch 2/20\n",
      "131/131 [==============================] - 113s 865ms/step - loss: 0.2071 - binary_accuracy: 0.9272 - precision: 0.9507 - recall: 0.9513 - val_loss: 0.7655 - val_binary_accuracy: 0.7474 - val_precision: 0.9850 - val_recall: 0.6692\n",
      "Epoch 3/20\n",
      "131/131 [==============================] - 115s 877ms/step - loss: 0.1428 - binary_accuracy: 0.9440 - precision: 0.9608 - recall: 0.9639 - val_loss: 0.2286 - val_binary_accuracy: 0.9205 - val_precision: 0.9916 - val_recall: 0.9004\n",
      "Epoch 4/20\n",
      "131/131 [==============================] - 111s 849ms/step - loss: 0.1491 - binary_accuracy: 0.9432 - precision: 0.9622 - recall: 0.9613 - val_loss: 0.2352 - val_binary_accuracy: 0.9167 - val_precision: 0.9860 - val_recall: 0.9004\n",
      "Epoch 5/20\n",
      "131/131 [==============================] - 114s 871ms/step - loss: 0.1413 - binary_accuracy: 0.9442 - precision: 0.9623 - recall: 0.9626 - val_loss: 0.2037 - val_binary_accuracy: 0.9253 - val_precision: 0.9862 - val_recall: 0.9119\n",
      "Epoch 6/20\n",
      "131/131 [==============================] - 112s 854ms/step - loss: 0.1237 - binary_accuracy: 0.9521 - precision: 0.9726 - recall: 0.9626 - val_loss: 0.2008 - val_binary_accuracy: 0.9205 - val_precision: 0.9874 - val_recall: 0.9042\n",
      "Epoch 7/20\n",
      "131/131 [==============================] - 111s 851ms/step - loss: 0.1196 - binary_accuracy: 0.9578 - precision: 0.9716 - recall: 0.9716 - val_loss: 0.2690 - val_binary_accuracy: 0.8817 - val_precision: 0.9985 - val_recall: 0.8416\n",
      "Epoch 8/20\n",
      "131/131 [==============================] - 111s 850ms/step - loss: 0.1180 - binary_accuracy: 0.9571 - precision: 0.9737 - recall: 0.9684 - val_loss: 0.2839 - val_binary_accuracy: 0.9007 - val_precision: 0.9885 - val_recall: 0.8761\n",
      "Epoch 9/20\n",
      "131/131 [==============================] - 112s 854ms/step - loss: 0.1062 - binary_accuracy: 0.9598 - precision: 0.9778 - recall: 0.9677 - val_loss: 0.2536 - val_binary_accuracy: 0.9054 - val_precision: 0.9942 - val_recall: 0.8774\n",
      "Epoch 10/20\n",
      "131/131 [==============================] - 114s 867ms/step - loss: 0.1252 - binary_accuracy: 0.9499 - precision: 0.9676 - recall: 0.9648 - val_loss: 0.1709 - val_binary_accuracy: 0.9376 - val_precision: 0.9544 - val_recall: 0.9617\n",
      "Epoch 11/20\n",
      "131/131 [==============================] - 112s 857ms/step - loss: 0.1261 - binary_accuracy: 0.9504 - precision: 0.9701 - recall: 0.9629 - val_loss: 0.2383 - val_binary_accuracy: 0.8950 - val_precision: 0.9956 - val_recall: 0.8621\n",
      "Epoch 12/20\n",
      "131/131 [==============================] - 112s 857ms/step - loss: 0.1289 - binary_accuracy: 0.9531 - precision: 0.9723 - recall: 0.9642 - val_loss: 0.2041 - val_binary_accuracy: 0.9234 - val_precision: 0.9902 - val_recall: 0.9055\n",
      "Epoch 13/20\n",
      "131/131 [==============================] - 113s 862ms/step - loss: 0.1197 - binary_accuracy: 0.9552 - precision: 0.9718 - recall: 0.9677 - val_loss: 0.3044 - val_binary_accuracy: 0.8865 - val_precision: 0.9985 - val_recall: 0.8480\n",
      "Epoch 14/20\n",
      "131/131 [==============================] - 114s 867ms/step - loss: 0.1024 - binary_accuracy: 0.9619 - precision: 0.9785 - recall: 0.9700 - val_loss: 0.1519 - val_binary_accuracy: 0.9338 - val_precision: 0.9931 - val_recall: 0.9170\n",
      "Epoch 15/20\n",
      "131/131 [==============================] - 112s 856ms/step - loss: 0.1076 - binary_accuracy: 0.9590 - precision: 0.9775 - recall: 0.9671 - val_loss: 0.1622 - val_binary_accuracy: 0.9376 - val_precision: 0.9838 - val_recall: 0.9310\n",
      "Epoch 16/20\n",
      "131/131 [==============================] - 113s 865ms/step - loss: 0.1008 - binary_accuracy: 0.9600 - precision: 0.9763 - recall: 0.9697 - val_loss: 0.1466 - val_binary_accuracy: 0.9357 - val_precision: 0.9891 - val_recall: 0.9234\n",
      "Epoch 17/20\n",
      "131/131 [==============================] - 111s 851ms/step - loss: 0.0950 - binary_accuracy: 0.9631 - precision: 0.9789 - recall: 0.9713 - val_loss: 0.4514 - val_binary_accuracy: 0.8430 - val_precision: 0.9984 - val_recall: 0.7893\n",
      "Epoch 18/20\n",
      "131/131 [==============================] - 112s 857ms/step - loss: 0.0974 - binary_accuracy: 0.9636 - precision: 0.9783 - recall: 0.9726 - val_loss: 0.1930 - val_binary_accuracy: 0.9262 - val_precision: 0.9958 - val_recall: 0.9042\n",
      "Epoch 19/20\n",
      "131/131 [==============================] - 112s 857ms/step - loss: 0.0961 - binary_accuracy: 0.9650 - precision: 0.9795 - recall: 0.9732 - val_loss: 0.2531 - val_binary_accuracy: 0.9167 - val_precision: 0.9957 - val_recall: 0.8914\n",
      "Epoch 20/20\n",
      "131/131 [==============================] - 113s 865ms/step - loss: 0.0870 - binary_accuracy: 0.9705 - precision: 0.9844 - recall: 0.9758 - val_loss: 0.1431 - val_binary_accuracy: 0.9404 - val_precision: 0.9945 - val_recall: 0.9246\n"
     ]
    }
   ],
   "source": [
    "history = model.fit(\n",
    "    train_ds,\n",
    "    validation_data=val_ds,\n",
    "    epochs=20,\n",
    "    callbacks=callbacks\n",
    ")\n",
    "\n",
    "model = keras.models.load_model('save_data/09_transfer_xc.hdf5')"
   ]
  },
  {
   "cell_type": "code",
   "execution_count": 10,
   "metadata": {},
   "outputs": [
    {
     "data": {
      "text/plain": [
       "<matplotlib.legend.Legend at 0x7f7da45cdee0>"
      ]
     },
     "execution_count": 10,
     "metadata": {},
     "output_type": "execute_result"
    },
    {
     "data": {
      "image/png": "[encoded data removed]",
      "text/plain": [
       "<Figure size 432x288 with 1 Axes>"
      ]
     },
     "metadata": {
      "needs_background": "light"
     },
     "output_type": "display_data"
    },
    {
     "data": {
      "image/png": "[encoded data removed]",
      "text/plain": [
       "<Figure size 432x288 with 1 Axes>"
      ]
     },
     "metadata": {
      "needs_background": "light"
     },
     "output_type": "display_data"
    }
   ],
   "source": [
    "acc = history.history['binary_accuracy']\n",
    "val_acc = history.history['val_binary_accuracy']\n",
    "loss = history.history['loss']\n",
    "val_loss = history.history['val_loss']\n",
    "epochs = range(len(acc))\n",
    "\n",
    "plt.plot(epochs, acc, label='Training acc')\n",
    "plt.plot(epochs, val_acc, label='Validation acc')\n",
    "plt.title('Training and validation accuracy')\n",
    "plt.legend()\n",
    "plt.figure()\n",
    "plt.plot(epochs, loss, label='Training loss')\n",
    "plt.plot(epochs, val_loss, label='Validation loss')\n",
    "plt.title('Training and validation loss')\n",
    "plt.legend()"
   ]
  },
  {
   "cell_type": "code",
   "execution_count": 11,
   "metadata": {},
   "outputs": [
    {
     "name": "stdout",
     "output_type": "stream",
     "text": [
      "131/131 [==============================] - 81s 618ms/step - loss: 0.0999 - binary_accuracy: 0.9660 - precision: 0.9669 - recall: 0.9881\n"
     ]
    }
   ],
   "source": [
    "train_res = model.evaluate(train_ds)"
   ]
  },
  {
   "cell_type": "code",
   "execution_count": 12,
   "metadata": {},
   "outputs": [
    {
     "name": "stdout",
     "output_type": "stream",
     "text": [
      "34/34 [==============================] - 19s 556ms/step - loss: 0.1431 - binary_accuracy: 0.9404 - precision: 0.9945 - recall: 0.9246\n"
     ]
    }
   ],
   "source": [
    "val_res = model.evaluate(val_ds)"
   ]
  },
  {
   "cell_type": "code",
   "execution_count": 14,
   "metadata": {},
   "outputs": [
    {
     "name": "stdout",
     "output_type": "stream",
     "text": [
      "20/20 [==============================] - 11s 539ms/step - loss: 0.3563 - binary_accuracy: 0.8798 - precision: 0.8671 - recall: 0.9538\n"
     ]
    }
   ],
   "source": [
    "test_res = model.evaluate(test_ds)"
   ]
  }
 ],
 "metadata": {
  "interpreter": {
   "hash": "820d50b626c26dd23e815fdc6f0defc021162c216bd79fa699f42d79cf8fcc33"
  },
  "kernelspec": {
   "display_name": "Python 3.8.5 ('learn-env')",
   "language": "python",
   "name": "python3"
  },
  "language_info": {
   "codemirror_mode": {
    "name": "ipython",
    "version": 3
   },
   "file_extension": ".py",
   "mimetype": "text/x-python",
   "name": "python",
   "nbconvert_exporter": "python",
   "pygments_lexer": "ipython3",
   "version": "3.8.5"
  },
  "orig_nbformat": 4
 },
 "nbformat": 4,
 "nbformat_minor": 2
}
