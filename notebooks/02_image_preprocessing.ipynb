{
 "cells": [
  {
   "cell_type": "code",
   "execution_count": 1,
   "metadata": {},
   "outputs": [],
   "source": [
    "import keras\n",
    "from keras import models\n",
    "from keras import layers\n",
    "from keras import optimizers\n",
    "from keras import metrics\n",
    "import matplotlib.pyplot as plt"
   ]
  },
  {
   "cell_type": "code",
   "execution_count": 2,
   "metadata": {},
   "outputs": [
    {
     "name": "stdout",
     "output_type": "stream",
     "text": [
      "Found 4173 images belonging to 2 classes.\n",
      "Found 1043 images belonging to 2 classes.\n"
     ]
    }
   ],
   "source": [
    "train_path = '../chest_xray/train'\n",
    "test_path = '../chest_xray/test'\n",
    "\n",
    "train_generator = keras.preprocessing.image.ImageDataGenerator(\n",
    "    rescale=1./255,\n",
    "    validation_split=0.2,\n",
    "    vertical_flip=True,\n",
    "    horizontal_flip=True,\n",
    "    rotation_range=90,\n",
    "    zoom_range=0.5\n",
    ")\n",
    "\n",
    "train_ds = train_generator.flow_from_directory(\n",
    "    train_path,\n",
    "    subset='training',\n",
    "    target_size=(256,256),\n",
    "    class_mode='binary',\n",
    "    seed=42\n",
    ")\n",
    "\n",
    "val_ds = train_generator.flow_from_directory(\n",
    "    train_path,\n",
    "    subset='validation',\n",
    "    target_size=(256,256),\n",
    "    class_mode='binary',\n",
    "    seed=42\n",
    ")"
   ]
  },
  {
   "cell_type": "code",
   "execution_count": 3,
   "metadata": {},
   "outputs": [],
   "source": [
    "model = models.Sequential()\n",
    "\n",
    "model.add(layers.Conv2D(32, (1, 1), activation='relu',padding='same',\n",
    "                        input_shape=(256, 256, 3)))\n",
    "model.add(layers.MaxPooling2D((2, 2)))\n",
    "\n",
    "model.add(layers.Conv2D(64, (1, 1), activation='relu',padding='same'))\n",
    "model.add(layers.MaxPooling2D((2, 2)))\n",
    "\n",
    "model.add(layers.Flatten())\n",
    "model.add(layers.Dense(256, activation='relu'))\n",
    "model.add(layers.Dense(1, activation='sigmoid'))"
   ]
  },
  {
   "cell_type": "code",
   "execution_count": 4,
   "metadata": {},
   "outputs": [],
   "source": [
    "stop_early = keras.callbacks.EarlyStopping(\n",
    "    monitor='val_loss',\n",
    "    patience=4\n",
    ")\n",
    "\n",
    "checkpoint = keras.callbacks.ModelCheckpoint(\n",
    "    monitor='val_loss',\n",
    "    filepath='save_data/02_image_preprocessing/',\n",
    "    save_weights_only=True\n",
    ")\n",
    "\n",
    "callbacks = [stop_early,checkpoint]"
   ]
  },
  {
   "cell_type": "code",
   "execution_count": 5,
   "metadata": {},
   "outputs": [],
   "source": [
    "use_metrics = [metrics.BinaryAccuracy(),\\\n",
    "                metrics.Precision(),\\\n",
    "                metrics.Recall()]\n",
    "\n",
    "model.compile(\n",
    "    loss='binary_crossentropy',\n",
    "    optimizer=optimizers.Adam(),\n",
    "    metrics=[use_metrics]\n",
    ")"
   ]
  },
  {
   "cell_type": "code",
   "execution_count": 6,
   "metadata": {},
   "outputs": [
    {
     "name": "stdout",
     "output_type": "stream",
     "text": [
      "Epoch 1/20\n",
      "131/131 [==============================] - 94s 719ms/step - loss: 2.5722 - binary_accuracy: 0.7141 - precision: 0.7931 - recall: 0.8323 - val_loss: 0.5251 - val_binary_accuracy: 0.7728 - val_precision: 0.7868 - val_recall: 0.9523\n",
      "Epoch 2/20\n",
      "131/131 [==============================] - 93s 709ms/step - loss: 0.4628 - binary_accuracy: 0.7913 - precision: 0.8302 - recall: 0.9039 - val_loss: 0.4836 - val_binary_accuracy: 0.7785 - val_precision: 0.7982 - val_recall: 0.9394\n",
      "Epoch 3/20\n",
      "131/131 [==============================] - 93s 711ms/step - loss: 0.4306 - binary_accuracy: 0.8102 - precision: 0.8445 - recall: 0.9126 - val_loss: 0.4697 - val_binary_accuracy: 0.8054 - val_precision: 0.8310 - val_recall: 0.9265\n",
      "Epoch 4/20\n",
      "131/131 [==============================] - 93s 707ms/step - loss: 0.4197 - binary_accuracy: 0.8224 - precision: 0.8541 - recall: 0.9177 - val_loss: 0.4794 - val_binary_accuracy: 0.8054 - val_precision: 0.8514 - val_recall: 0.8942\n",
      "Epoch 5/20\n",
      "131/131 [==============================] - 93s 708ms/step - loss: 0.3771 - binary_accuracy: 0.8433 - precision: 0.8653 - recall: 0.9345 - val_loss: 0.5232 - val_binary_accuracy: 0.7862 - val_precision: 0.8467 - val_recall: 0.8697\n",
      "Epoch 6/20\n",
      "131/131 [==============================] - 93s 710ms/step - loss: 0.3785 - binary_accuracy: 0.8390 - precision: 0.8654 - recall: 0.9274 - val_loss: 0.4781 - val_binary_accuracy: 0.8140 - val_precision: 0.8210 - val_recall: 0.9587\n",
      "Epoch 7/20\n",
      "131/131 [==============================] - 93s 709ms/step - loss: 0.3683 - binary_accuracy: 0.8469 - precision: 0.8692 - recall: 0.9345 - val_loss: 0.4466 - val_binary_accuracy: 0.8150 - val_precision: 0.8424 - val_recall: 0.9239\n",
      "Epoch 8/20\n",
      "131/131 [==============================] - 93s 706ms/step - loss: 0.3663 - binary_accuracy: 0.8466 - precision: 0.8725 - recall: 0.9294 - val_loss: 0.4682 - val_binary_accuracy: 0.8188 - val_precision: 0.8718 - val_recall: 0.8865\n",
      "Epoch 9/20\n",
      "131/131 [==============================] - 93s 710ms/step - loss: 0.3500 - binary_accuracy: 0.8593 - precision: 0.8825 - recall: 0.9352 - val_loss: 0.4600 - val_binary_accuracy: 0.8150 - val_precision: 0.8219 - val_recall: 0.9587\n",
      "Epoch 10/20\n",
      "131/131 [==============================] - 93s 710ms/step - loss: 0.3448 - binary_accuracy: 0.8610 - precision: 0.8816 - recall: 0.9390 - val_loss: 0.4076 - val_binary_accuracy: 0.8198 - val_precision: 0.8473 - val_recall: 0.9239\n",
      "Epoch 11/20\n",
      "131/131 [==============================] - 93s 709ms/step - loss: 0.3287 - binary_accuracy: 0.8622 - precision: 0.8808 - recall: 0.9419 - val_loss: 0.4842 - val_binary_accuracy: 0.7718 - val_precision: 0.8874 - val_recall: 0.7935\n",
      "Epoch 12/20\n",
      "131/131 [==============================] - 93s 710ms/step - loss: 0.3254 - binary_accuracy: 0.8694 - precision: 0.8889 - recall: 0.9419 - val_loss: 0.3977 - val_binary_accuracy: 0.8341 - val_precision: 0.8484 - val_recall: 0.9458\n",
      "Epoch 13/20\n",
      "131/131 [==============================] - 93s 709ms/step - loss: 0.3214 - binary_accuracy: 0.8672 - precision: 0.8893 - recall: 0.9381 - val_loss: 0.3933 - val_binary_accuracy: 0.8370 - val_precision: 0.8676 - val_recall: 0.9213\n",
      "Epoch 14/20\n",
      "131/131 [==============================] - 93s 708ms/step - loss: 0.3033 - binary_accuracy: 0.8802 - precision: 0.9000 - recall: 0.9435 - val_loss: 0.3864 - val_binary_accuracy: 0.8284 - val_precision: 0.8556 - val_recall: 0.9252\n",
      "Epoch 15/20\n",
      "131/131 [==============================] - 93s 710ms/step - loss: 0.3015 - binary_accuracy: 0.8773 - precision: 0.8996 - recall: 0.9397 - val_loss: 0.3972 - val_binary_accuracy: 0.8236 - val_precision: 0.8617 - val_recall: 0.9084\n",
      "Epoch 16/20\n",
      "131/131 [==============================] - 94s 715ms/step - loss: 0.3036 - binary_accuracy: 0.8787 - precision: 0.9003 - recall: 0.9410 - val_loss: 0.3916 - val_binary_accuracy: 0.8236 - val_precision: 0.8251 - val_recall: 0.9677\n",
      "Epoch 17/20\n",
      "131/131 [==============================] - 93s 708ms/step - loss: 0.2795 - binary_accuracy: 0.8883 - precision: 0.9103 - recall: 0.9426 - val_loss: 0.3824 - val_binary_accuracy: 0.8360 - val_precision: 0.8545 - val_recall: 0.9394\n",
      "Epoch 18/20\n",
      "131/131 [==============================] - 93s 709ms/step - loss: 0.2852 - binary_accuracy: 0.8823 - precision: 0.9037 - recall: 0.9419 - val_loss: 0.3754 - val_binary_accuracy: 0.8428 - val_precision: 0.8712 - val_recall: 0.9252\n",
      "Epoch 19/20\n",
      "131/131 [==============================] - 93s 712ms/step - loss: 0.2768 - binary_accuracy: 0.8857 - precision: 0.9074 - recall: 0.9423 - val_loss: 0.3764 - val_binary_accuracy: 0.8341 - val_precision: 0.8600 - val_recall: 0.9277\n",
      "Epoch 20/20\n",
      "131/131 [==============================] - 93s 711ms/step - loss: 0.2721 - binary_accuracy: 0.8888 - precision: 0.9103 - recall: 0.9432 - val_loss: 0.3556 - val_binary_accuracy: 0.8293 - val_precision: 0.8690 - val_recall: 0.9071\n"
     ]
    },
    {
     "data": {
      "text/plain": [
       "<tensorflow.python.training.tracking.util.CheckpointLoadStatus at 0x7fd3e03bf040>"
      ]
     },
     "execution_count": 6,
     "metadata": {},
     "output_type": "execute_result"
    }
   ],
   "source": [
    "history = model.fit(\n",
    "    train_ds,\n",
    "    validation_data=val_ds,\n",
    "    epochs=20,\n",
    "    callbacks=callbacks\n",
    ")\n",
    "\n",
    "model.load_weights('save_data/02_image_preprocessing/')"
   ]
  },
  {
   "cell_type": "code",
   "execution_count": 7,
   "metadata": {},
   "outputs": [
    {
     "data": {
      "text/plain": [
       "<matplotlib.legend.Legend at 0x7fd3d0149880>"
      ]
     },
     "execution_count": 7,
     "metadata": {},
     "output_type": "execute_result"
    },
    {
     "data": {
      "image/png": "[encoded data removed]",
      "text/plain": [
       "<Figure size 432x288 with 1 Axes>"
      ]
     },
     "metadata": {
      "needs_background": "light"
     },
     "output_type": "display_data"
    },
    {
     "data": {
      "image/png": "[encoded data removed]",
      "text/plain": [
       "<Figure size 432x288 with 1 Axes>"
      ]
     },
     "metadata": {
      "needs_background": "light"
     },
     "output_type": "display_data"
    }
   ],
   "source": [
    "acc = history.history['binary_accuracy']\n",
    "val_acc = history.history['val_binary_accuracy']\n",
    "loss = history.history['loss']\n",
    "val_loss = history.history['val_loss']\n",
    "epochs = range(len(acc))\n",
    "\n",
    "plt.plot(epochs, acc, label='Training acc')\n",
    "plt.plot(epochs, val_acc, label='Validation acc')\n",
    "plt.title('Training and validation accuracy')\n",
    "plt.legend()\n",
    "plt.figure()\n",
    "plt.plot(epochs, loss, label='Training loss')\n",
    "plt.plot(epochs, val_loss, label='Validation loss')\n",
    "plt.title('Training and validation loss')\n",
    "plt.legend()"
   ]
  },
  {
   "cell_type": "code",
   "execution_count": 8,
   "metadata": {},
   "outputs": [
    {
     "name": "stdout",
     "output_type": "stream",
     "text": [
      "Found 624 images belonging to 2 classes.\n"
     ]
    }
   ],
   "source": [
    "test_generator = keras.preprocessing.image.ImageDataGenerator(\n",
    "    rescale=1./255\n",
    ")\n",
    "\n",
    "test_ds = train_generator.flow_from_directory(\n",
    "    test_path,\n",
    "    target_size=(256,256),\n",
    "    class_mode='binary'\n",
    ")"
   ]
  },
  {
   "cell_type": "code",
   "execution_count": 9,
   "metadata": {},
   "outputs": [
    {
     "name": "stdout",
     "output_type": "stream",
     "text": [
      "20/20 [==============================] - 7s 341ms/step - loss: 0.4824 - binary_accuracy: 0.7853 - precision: 0.7689 - recall: 0.9385\n"
     ]
    }
   ],
   "source": [
    "test_res = model.evaluate(test_ds)"
   ]
  },
  {
   "cell_type": "code",
   "execution_count": 10,
   "metadata": {},
   "outputs": [
    {
     "name": "stdout",
     "output_type": "stream",
     "text": [
      "WARNING:tensorflow:From /home/jason/miniconda3/envs/learn-env/lib/python3.8/site-packages/tensorflow/python/training/tracking/tracking.py:111: Model.state_updates (from tensorflow.python.keras.engine.training) is deprecated and will be removed in a future version.\n",
      "Instructions for updating:\n",
      "This property should not be used in TensorFlow 2.0, as updates are applied automatically.\n",
      "WARNING:tensorflow:From /home/jason/miniconda3/envs/learn-env/lib/python3.8/site-packages/tensorflow/python/training/tracking/tracking.py:111: Layer.updates (from tensorflow.python.keras.engine.base_layer) is deprecated and will be removed in a future version.\n",
      "Instructions for updating:\n",
      "This property should not be used in TensorFlow 2.0, as updates are applied automatically.\n",
      "INFO:tensorflow:Assets written to: save_data/02_image_preprocessing/assets\n"
     ]
    }
   ],
   "source": [
    "model.save('save_data/02_image_preprocessing/')"
   ]
  }
 ],
 "metadata": {
  "interpreter": {
   "hash": "820d50b626c26dd23e815fdc6f0defc021162c216bd79fa699f42d79cf8fcc33"
  },
  "kernelspec": {
   "display_name": "Python 3.8.5 ('learn-env')",
   "language": "python",
   "name": "python3"
  },
  "language_info": {
   "codemirror_mode": {
    "name": "ipython",
    "version": 3
   },
   "file_extension": ".py",
   "mimetype": "text/x-python",
   "name": "python",
   "nbconvert_exporter": "python",
   "pygments_lexer": "ipython3",
   "version": "3.8.5"
  },
  "orig_nbformat": 4
 },
 "nbformat": 4,
 "nbformat_minor": 2
}
