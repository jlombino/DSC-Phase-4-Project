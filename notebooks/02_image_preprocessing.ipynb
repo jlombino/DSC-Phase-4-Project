{
 "cells": [
  {
   "cell_type": "code",
   "execution_count": 1,
   "metadata": {},
   "outputs": [],
   "source": [
    "import keras\n",
    "from keras import models\n",
    "from keras import layers\n",
    "from keras import optimizers\n",
    "from keras import metrics\n",
    "import matplotlib.pyplot as plt"
   ]
  },
  {
   "cell_type": "code",
   "execution_count": 2,
   "metadata": {},
   "outputs": [
    {
     "name": "stdout",
     "output_type": "stream",
     "text": [
      "Found 4175 images belonging to 2 classes.\n"
     ]
    }
   ],
   "source": [
    "train_path = '../chest_xray/train'\n",
    "test_path = '../chest_xray/test'\n",
    "val_path = '../chest_xray/val'\n",
    "\n",
    "train_generator = keras.preprocessing.image.ImageDataGenerator(\n",
    "    rescale=1./255,\n",
    "    horizontal_flip=True,\n",
    "    rotation_range=45,\n",
    "    zoom_range=0.3\n",
    ")\n",
    "\n",
    "train_ds = train_generator.flow_from_directory(\n",
    "    train_path,\n",
    "    target_size=(256,256),\n",
    "    class_mode='binary',\n",
    ")"
   ]
  },
  {
   "cell_type": "code",
   "execution_count": 3,
   "metadata": {},
   "outputs": [
    {
     "name": "stdout",
     "output_type": "stream",
     "text": [
      "Found 1057 images belonging to 2 classes.\n"
     ]
    }
   ],
   "source": [
    "val_generator = keras.preprocessing.image.ImageDataGenerator(\n",
    "    rescale=1./255\n",
    ")\n",
    "\n",
    "val_ds = val_generator.flow_from_directory(\n",
    "    val_path,\n",
    "    target_size=(256,256),\n",
    "    class_mode='binary',\n",
    ")"
   ]
  },
  {
   "cell_type": "code",
   "execution_count": 4,
   "metadata": {},
   "outputs": [
    {
     "name": "stdout",
     "output_type": "stream",
     "text": [
      "Found 624 images belonging to 2 classes.\n"
     ]
    }
   ],
   "source": [
    "test_generator = keras.preprocessing.image.ImageDataGenerator(\n",
    "    rescale=1./255\n",
    ")\n",
    "\n",
    "test_ds = test_generator.flow_from_directory(\n",
    "    test_path,\n",
    "    target_size=(256,256),\n",
    "    class_mode='binary'\n",
    ")"
   ]
  },
  {
   "cell_type": "code",
   "execution_count": 5,
   "metadata": {},
   "outputs": [],
   "source": [
    "model = models.Sequential()\n",
    "\n",
    "model.add(layers.Conv2D(32, (1, 1), activation='relu',padding='same',\n",
    "                        input_shape=(256, 256, 3)))\n",
    "model.add(layers.MaxPooling2D((2, 2)))\n",
    "\n",
    "model.add(layers.Conv2D(64, (1, 1), activation='relu',padding='same'))\n",
    "model.add(layers.MaxPooling2D((2, 2)))\n",
    "\n",
    "model.add(layers.Flatten())\n",
    "model.add(layers.Dense(256, activation='relu'))\n",
    "model.add(layers.Dense(1, activation='sigmoid'))"
   ]
  },
  {
   "cell_type": "code",
   "execution_count": 6,
   "metadata": {},
   "outputs": [],
   "source": [
    "checkpoint = keras.callbacks.ModelCheckpoint(\n",
    "    monitor='val_loss',\n",
    "    filepath='save_data/02_image_preprocessing.hdf5',\n",
    "    save_best_only=True,\n",
    "    verbose=0\n",
    ")\n",
    "\n",
    "callbacks = [checkpoint]"
   ]
  },
  {
   "cell_type": "code",
   "execution_count": 7,
   "metadata": {},
   "outputs": [
    {
     "name": "stdout",
     "output_type": "stream",
     "text": [
      "Model: \"sequential\"\n",
      "_________________________________________________________________\n",
      "Layer (type)                 Output Shape              Param #   \n",
      "=================================================================\n",
      "conv2d (Conv2D)              (None, 256, 256, 32)      128       \n",
      "_________________________________________________________________\n",
      "max_pooling2d (MaxPooling2D) (None, 128, 128, 32)      0         \n",
      "_________________________________________________________________\n",
      "conv2d_1 (Conv2D)            (None, 128, 128, 64)      2112      \n",
      "_________________________________________________________________\n",
      "max_pooling2d_1 (MaxPooling2 (None, 64, 64, 64)        0         \n",
      "_________________________________________________________________\n",
      "flatten (Flatten)            (None, 262144)            0         \n",
      "_________________________________________________________________\n",
      "dense (Dense)                (None, 256)               67109120  \n",
      "_________________________________________________________________\n",
      "dense_1 (Dense)              (None, 1)                 257       \n",
      "=================================================================\n",
      "Total params: 67,111,617\n",
      "Trainable params: 67,111,617\n",
      "Non-trainable params: 0\n",
      "_________________________________________________________________\n",
      "None\n"
     ]
    }
   ],
   "source": [
    "use_metrics = [metrics.BinaryAccuracy(),\\\n",
    "                metrics.Precision(),\\\n",
    "                metrics.Recall()]\n",
    "\n",
    "model.compile(\n",
    "    loss='binary_crossentropy',\n",
    "    optimizer=optimizers.Adam(),\n",
    "    metrics=[use_metrics]\n",
    ")\n",
    "\n",
    "print(model.summary())"
   ]
  },
  {
   "cell_type": "code",
   "execution_count": 8,
   "metadata": {},
   "outputs": [
    {
     "name": "stdout",
     "output_type": "stream",
     "text": [
      "Epoch 1/20\n",
      "131/131 [==============================] - 89s 676ms/step - loss: 1.9207 - binary_accuracy: 0.7583 - precision: 0.8087 - recall: 0.8835 - val_loss: 0.3355 - val_binary_accuracy: 0.8344 - val_precision: 0.8408 - val_recall: 0.9579\n",
      "Epoch 2/20\n",
      "131/131 [==============================] - 87s 665ms/step - loss: 0.3575 - binary_accuracy: 0.8429 - precision: 0.8746 - recall: 0.9203 - val_loss: 0.3209 - val_binary_accuracy: 0.8543 - val_precision: 0.9058 - val_recall: 0.8966\n",
      "Epoch 3/20\n",
      "131/131 [==============================] - 87s 667ms/step - loss: 0.3110 - binary_accuracy: 0.8661 - precision: 0.8908 - recall: 0.9342 - val_loss: 0.3042 - val_binary_accuracy: 0.8553 - val_precision: 0.8629 - val_recall: 0.9566\n",
      "Epoch 4/20\n",
      "131/131 [==============================] - 89s 676ms/step - loss: 0.2931 - binary_accuracy: 0.8704 - precision: 0.8975 - recall: 0.9319 - val_loss: 0.2994 - val_binary_accuracy: 0.8685 - val_precision: 0.8985 - val_recall: 0.9272\n",
      "Epoch 5/20\n",
      "131/131 [==============================] - 87s 663ms/step - loss: 0.2764 - binary_accuracy: 0.8891 - precision: 0.9091 - recall: 0.9452 - val_loss: 0.3232 - val_binary_accuracy: 0.8543 - val_precision: 0.9338 - val_recall: 0.8646\n",
      "Epoch 6/20\n",
      "131/131 [==============================] - 87s 661ms/step - loss: 0.2749 - binary_accuracy: 0.8831 - precision: 0.9071 - recall: 0.9387 - val_loss: 0.3132 - val_binary_accuracy: 0.8647 - val_precision: 0.9372 - val_recall: 0.8761\n",
      "Epoch 7/20\n",
      "131/131 [==============================] - 88s 668ms/step - loss: 0.2510 - binary_accuracy: 0.9004 - precision: 0.9181 - recall: 0.9506 - val_loss: 0.2680 - val_binary_accuracy: 0.8912 - val_precision: 0.9441 - val_recall: 0.9068\n",
      "Epoch 8/20\n",
      "131/131 [==============================] - 87s 661ms/step - loss: 0.2477 - binary_accuracy: 0.8960 - precision: 0.9168 - recall: 0.9458 - val_loss: 0.2800 - val_binary_accuracy: 0.8732 - val_precision: 0.8760 - val_recall: 0.9655\n",
      "Epoch 9/20\n",
      "131/131 [==============================] - 87s 665ms/step - loss: 0.2356 - binary_accuracy: 0.9083 - precision: 0.9271 - recall: 0.9513 - val_loss: 0.2550 - val_binary_accuracy: 0.8959 - val_precision: 0.9387 - val_recall: 0.9195\n",
      "Epoch 10/20\n",
      "131/131 [==============================] - 87s 665ms/step - loss: 0.2207 - binary_accuracy: 0.9111 - precision: 0.9290 - recall: 0.9532 - val_loss: 0.2331 - val_binary_accuracy: 0.9063 - val_precision: 0.9318 - val_recall: 0.9425\n",
      "Epoch 11/20\n",
      "131/131 [==============================] - 87s 663ms/step - loss: 0.2244 - binary_accuracy: 0.9063 - precision: 0.9277 - recall: 0.9477 - val_loss: 0.2628 - val_binary_accuracy: 0.8846 - val_precision: 0.8939 - val_recall: 0.9579\n",
      "Epoch 12/20\n",
      "131/131 [==============================] - 87s 666ms/step - loss: 0.2040 - binary_accuracy: 0.9178 - precision: 0.9350 - recall: 0.9558 - val_loss: 0.2275 - val_binary_accuracy: 0.9063 - val_precision: 0.9647 - val_recall: 0.9068\n",
      "Epoch 13/20\n",
      "131/131 [==============================] - 87s 662ms/step - loss: 0.2008 - binary_accuracy: 0.9229 - precision: 0.9382 - recall: 0.9594 - val_loss: 0.2547 - val_binary_accuracy: 0.8921 - val_precision: 0.9502 - val_recall: 0.9017\n",
      "Epoch 14/20\n",
      "131/131 [==============================] - 87s 663ms/step - loss: 0.1936 - binary_accuracy: 0.9293 - precision: 0.9445 - recall: 0.9613 - val_loss: 0.2446 - val_binary_accuracy: 0.9026 - val_precision: 0.9762 - val_recall: 0.8902\n",
      "Epoch 15/20\n",
      "131/131 [==============================] - 87s 667ms/step - loss: 0.2025 - binary_accuracy: 0.9219 - precision: 0.9440 - recall: 0.9513 - val_loss: 0.2072 - val_binary_accuracy: 0.9073 - val_precision: 0.9152 - val_recall: 0.9642\n",
      "Epoch 16/20\n",
      "131/131 [==============================] - 87s 665ms/step - loss: 0.1980 - binary_accuracy: 0.9238 - precision: 0.9391 - recall: 0.9597 - val_loss: 0.3022 - val_binary_accuracy: 0.8846 - val_precision: 0.9728 - val_recall: 0.8685\n",
      "Epoch 17/20\n",
      "131/131 [==============================] - 87s 660ms/step - loss: 0.1973 - binary_accuracy: 0.9212 - precision: 0.9391 - recall: 0.9558 - val_loss: 0.2507 - val_binary_accuracy: 0.8978 - val_precision: 0.9815 - val_recall: 0.8787\n",
      "Epoch 18/20\n",
      "131/131 [==============================] - 87s 661ms/step - loss: 0.1928 - binary_accuracy: 0.9262 - precision: 0.9423 - recall: 0.9594 - val_loss: 0.2519 - val_binary_accuracy: 0.9007 - val_precision: 0.9721 - val_recall: 0.8914\n",
      "Epoch 19/20\n",
      "131/131 [==============================] - 87s 667ms/step - loss: 0.1795 - binary_accuracy: 0.9337 - precision: 0.9494 - recall: 0.9619 - val_loss: 0.1821 - val_binary_accuracy: 0.9186 - val_precision: 0.9520 - val_recall: 0.9374\n",
      "Epoch 20/20\n",
      "131/131 [==============================] - 87s 664ms/step - loss: 0.1789 - binary_accuracy: 0.9325 - precision: 0.9504 - recall: 0.9590 - val_loss: 0.3067 - val_binary_accuracy: 0.8865 - val_precision: 0.9868 - val_recall: 0.8582\n"
     ]
    }
   ],
   "source": [
    "history = model.fit(\n",
    "    train_ds,\n",
    "    validation_data=val_ds,\n",
    "    epochs=20,\n",
    "    callbacks=callbacks\n",
    ")\n",
    "\n",
    "model = keras.models.load_model('save_data/02_image_preprocessing.hdf5')"
   ]
  },
  {
   "cell_type": "code",
   "execution_count": 9,
   "metadata": {},
   "outputs": [
    {
     "data": {
      "text/plain": [
       "<matplotlib.legend.Legend at 0x7f89ac6b4a30>"
      ]
     },
     "execution_count": 9,
     "metadata": {},
     "output_type": "execute_result"
    },
    {
     "data": {
      "image/png": "[encoded data removed]",
      "text/plain": [
       "<Figure size 432x288 with 1 Axes>"
      ]
     },
     "metadata": {
      "needs_background": "light"
     },
     "output_type": "display_data"
    },
    {
     "data": {
      "image/png": "[encoded data removed]",
      "text/plain": [
       "<Figure size 432x288 with 1 Axes>"
      ]
     },
     "metadata": {
      "needs_background": "light"
     },
     "output_type": "display_data"
    }
   ],
   "source": [
    "acc = history.history['binary_accuracy']\n",
    "val_acc = history.history['val_binary_accuracy']\n",
    "loss = history.history['loss']\n",
    "val_loss = history.history['val_loss']\n",
    "epochs = range(len(acc))\n",
    "\n",
    "plt.plot(epochs, acc, label='Training acc')\n",
    "plt.plot(epochs, val_acc, label='Validation acc')\n",
    "plt.title('Training and validation accuracy')\n",
    "plt.legend()\n",
    "plt.figure()\n",
    "plt.plot(epochs, loss, label='Training loss')\n",
    "plt.plot(epochs, val_loss, label='Validation loss')\n",
    "plt.title('Training and validation loss')\n",
    "plt.legend()"
   ]
  },
  {
   "cell_type": "code",
   "execution_count": 10,
   "metadata": {},
   "outputs": [
    {
     "name": "stdout",
     "output_type": "stream",
     "text": [
      "131/131 [==============================] - 52s 397ms/step - loss: 0.1772 - binary_accuracy: 0.9353 - precision: 0.9478 - recall: 0.9661\n"
     ]
    }
   ],
   "source": [
    "train_res = model.evaluate(train_ds)"
   ]
  },
  {
   "cell_type": "code",
   "execution_count": 11,
   "metadata": {},
   "outputs": [
    {
     "name": "stdout",
     "output_type": "stream",
     "text": [
      "34/34 [==============================] - 7s 210ms/step - loss: 0.1821 - binary_accuracy: 0.9186 - precision: 0.9520 - recall: 0.9374\n"
     ]
    }
   ],
   "source": [
    "val_res = model.evaluate(val_ds)"
   ]
  },
  {
   "cell_type": "code",
   "execution_count": 12,
   "metadata": {},
   "outputs": [
    {
     "name": "stdout",
     "output_type": "stream",
     "text": [
      "20/20 [==============================] - 4s 185ms/step - loss: 0.3734 - binary_accuracy: 0.8638 - precision: 0.8366 - recall: 0.9718\n"
     ]
    }
   ],
   "source": [
    "test_res = model.evaluate(test_ds)"
   ]
  }
 ],
 "metadata": {
  "interpreter": {
   "hash": "820d50b626c26dd23e815fdc6f0defc021162c216bd79fa699f42d79cf8fcc33"
  },
  "kernelspec": {
   "display_name": "Python 3.8.5 ('learn-env')",
   "language": "python",
   "name": "python3"
  },
  "language_info": {
   "codemirror_mode": {
    "name": "ipython",
    "version": 3
   },
   "file_extension": ".py",
   "mimetype": "text/x-python",
   "name": "python",
   "nbconvert_exporter": "python",
   "pygments_lexer": "ipython3",
   "version": "3.8.5"
  },
  "orig_nbformat": 4
 },
 "nbformat": 4,
 "nbformat_minor": 2
}
