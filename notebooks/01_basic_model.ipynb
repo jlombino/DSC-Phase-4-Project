{
 "cells": [
  {
   "cell_type": "code",
   "execution_count": 1,
   "metadata": {},
   "outputs": [],
   "source": [
    "import keras\n",
    "from keras import models\n",
    "from keras import layers\n",
    "from keras import optimizers\n",
    "from keras import metrics\n",
    "import matplotlib.pyplot as plt"
   ]
  },
  {
   "cell_type": "code",
   "execution_count": 2,
   "metadata": {},
   "outputs": [
    {
     "name": "stdout",
     "output_type": "stream",
     "text": [
      "Found 4173 images belonging to 2 classes.\n",
      "Found 1043 images belonging to 2 classes.\n"
     ]
    }
   ],
   "source": [
    "train_path = '../chest_xray/train'\n",
    "test_path = '../chest_xray/test'\n",
    "\n",
    "train_generator = keras.preprocessing.image.ImageDataGenerator(\n",
    "    rescale=1./255,\n",
    "    validation_split=0.2\n",
    ")\n",
    "\n",
    "train_ds = train_generator.flow_from_directory(\n",
    "    train_path,\n",
    "    subset='training',\n",
    "    target_size=(256,256),\n",
    "    class_mode='binary',\n",
    "    seed=42\n",
    ")\n",
    "\n",
    "val_ds = train_generator.flow_from_directory(\n",
    "    train_path,\n",
    "    subset='validation',\n",
    "    target_size=(256,256),\n",
    "    class_mode='binary',\n",
    "    seed=42\n",
    ")"
   ]
  },
  {
   "cell_type": "code",
   "execution_count": 3,
   "metadata": {},
   "outputs": [],
   "source": [
    "model = models.Sequential()\n",
    "\n",
    "model.add(layers.Conv2D(32, (1, 1), activation='relu',\n",
    "                        input_shape=(256, 256, 3)))\n",
    "model.add(layers.MaxPooling2D((2, 2)))\n",
    "\n",
    "model.add(layers.Conv2D(64, (1, 1), activation='relu'))\n",
    "model.add(layers.MaxPooling2D((2, 2)))\n",
    "\n",
    "model.add(layers.Flatten())\n",
    "model.add(layers.Dense(256, activation='relu'))\n",
    "model.add(layers.Dense(1, activation='sigmoid'))"
   ]
  },
  {
   "cell_type": "code",
   "execution_count": 4,
   "metadata": {},
   "outputs": [],
   "source": [
    "stop_early = keras.callbacks.EarlyStopping(\n",
    "    monitor='val_loss',\n",
    "    patience=4\n",
    ")\n",
    "\n",
    "checkpoint = keras.callbacks.ModelCheckpoint(\n",
    "    monitor='val_loss',\n",
    "    filepath='save_data/01_basic_model/',\n",
    "    save_weights_only=True\n",
    ")\n",
    "\n",
    "callbacks = [stop_early,checkpoint]"
   ]
  },
  {
   "cell_type": "code",
   "execution_count": 5,
   "metadata": {},
   "outputs": [],
   "source": [
    "use_metrics = [metrics.BinaryAccuracy(),\\\n",
    "                metrics.Precision(),\\\n",
    "                metrics.Recall()]\n",
    "\n",
    "model.compile(\n",
    "    loss='binary_crossentropy',\n",
    "    optimizer=optimizers.Adam(),\n",
    "    metrics=[use_metrics]\n",
    ")"
   ]
  },
  {
   "cell_type": "code",
   "execution_count": 6,
   "metadata": {},
   "outputs": [
    {
     "name": "stdout",
     "output_type": "stream",
     "text": [
      "Epoch 1/20\n",
      "131/131 [==============================] - 67s 512ms/step - loss: 0.6646 - binary_accuracy: 0.8843 - precision: 0.9179 - recall: 0.9271 - val_loss: 0.3963 - val_binary_accuracy: 0.8734 - val_precision: 0.8560 - val_recall: 0.9974\n",
      "Epoch 2/20\n",
      "131/131 [==============================] - 67s 509ms/step - loss: 0.1382 - binary_accuracy: 0.9528 - precision: 0.9660 - recall: 0.9706 - val_loss: 0.1190 - val_binary_accuracy: 0.9540 - val_precision: 0.9727 - val_recall: 0.9652\n",
      "Epoch 3/20\n",
      "131/131 [==============================] - 66s 507ms/step - loss: 0.1100 - binary_accuracy: 0.9581 - precision: 0.9704 - recall: 0.9732 - val_loss: 0.1541 - val_binary_accuracy: 0.9463 - val_precision: 0.9891 - val_recall: 0.9381\n",
      "Epoch 4/20\n",
      "131/131 [==============================] - 67s 508ms/step - loss: 0.1122 - binary_accuracy: 0.9585 - precision: 0.9704 - recall: 0.9739 - val_loss: 0.1034 - val_binary_accuracy: 0.9588 - val_precision: 0.9621 - val_recall: 0.9832\n",
      "Epoch 5/20\n",
      "131/131 [==============================] - 66s 507ms/step - loss: 0.0843 - binary_accuracy: 0.9693 - precision: 0.9772 - recall: 0.9816 - val_loss: 0.1241 - val_binary_accuracy: 0.9521 - val_precision: 0.9827 - val_recall: 0.9523\n",
      "Epoch 6/20\n",
      "131/131 [==============================] - 66s 507ms/step - loss: 0.0706 - binary_accuracy: 0.9751 - precision: 0.9829 - recall: 0.9835 - val_loss: 0.0883 - val_binary_accuracy: 0.9597 - val_precision: 0.9693 - val_recall: 0.9768\n",
      "Epoch 7/20\n",
      "131/131 [==============================] - 66s 506ms/step - loss: 0.0525 - binary_accuracy: 0.9806 - precision: 0.9862 - recall: 0.9877 - val_loss: 0.0982 - val_binary_accuracy: 0.9645 - val_precision: 0.9767 - val_recall: 0.9755\n",
      "Epoch 8/20\n",
      "131/131 [==============================] - 67s 512ms/step - loss: 0.0508 - binary_accuracy: 0.9806 - precision: 0.9855 - recall: 0.9884 - val_loss: 0.0958 - val_binary_accuracy: 0.9645 - val_precision: 0.9868 - val_recall: 0.9652\n",
      "Epoch 9/20\n",
      "131/131 [==============================] - 66s 507ms/step - loss: 0.0538 - binary_accuracy: 0.9820 - precision: 0.9887 - recall: 0.9871 - val_loss: 0.0910 - val_binary_accuracy: 0.9655 - val_precision: 0.9768 - val_recall: 0.9768\n",
      "Epoch 10/20\n",
      "131/131 [==============================] - 67s 508ms/step - loss: 0.0371 - binary_accuracy: 0.9873 - precision: 0.9916 - recall: 0.9913 - val_loss: 0.1467 - val_binary_accuracy: 0.9482 - val_precision: 0.9891 - val_recall: 0.9406\n"
     ]
    },
    {
     "data": {
      "text/plain": [
       "<tensorflow.python.training.tracking.util.CheckpointLoadStatus at 0x7fe4346a20d0>"
      ]
     },
     "execution_count": 6,
     "metadata": {},
     "output_type": "execute_result"
    }
   ],
   "source": [
    "history = model.fit(\n",
    "    train_ds,\n",
    "    validation_data=val_ds,\n",
    "    epochs=20,\n",
    "    callbacks=callbacks\n",
    ")\n",
    "\n",
    "model.load_weights('save_data/01_basic_model/')"
   ]
  },
  {
   "cell_type": "code",
   "execution_count": 7,
   "metadata": {},
   "outputs": [
    {
     "data": {
      "text/plain": [
       "<matplotlib.legend.Legend at 0x7fe4143a25b0>"
      ]
     },
     "execution_count": 7,
     "metadata": {},
     "output_type": "execute_result"
    },
    {
     "data": {
      "image/png": "[encoded data removed]",
      "text/plain": [
       "<Figure size 432x288 with 1 Axes>"
      ]
     },
     "metadata": {
      "needs_background": "light"
     },
     "output_type": "display_data"
    },
    {
     "data": {
      "image/png": "[encoded data removed]",
      "text/plain": [
       "<Figure size 432x288 with 1 Axes>"
      ]
     },
     "metadata": {
      "needs_background": "light"
     },
     "output_type": "display_data"
    }
   ],
   "source": [
    "acc = history.history['binary_accuracy']\n",
    "val_acc = history.history['val_binary_accuracy']\n",
    "loss = history.history['loss']\n",
    "val_loss = history.history['val_loss']\n",
    "epochs = range(len(acc))\n",
    "\n",
    "plt.plot(epochs, acc, label='Training acc')\n",
    "plt.plot(epochs, val_acc, label='Validation acc')\n",
    "plt.title('Training and validation accuracy')\n",
    "plt.legend()\n",
    "plt.figure()\n",
    "plt.plot(epochs, loss, label='Training loss')\n",
    "plt.plot(epochs, val_loss, label='Validation loss')\n",
    "plt.title('Training and validation loss')\n",
    "plt.legend()"
   ]
  },
  {
   "cell_type": "code",
   "execution_count": 12,
   "metadata": {},
   "outputs": [
    {
     "name": "stdout",
     "output_type": "stream",
     "text": [
      "131/131 [==============================] - 29s 225ms/step - loss: 0.0367 - binary_accuracy: 0.9887 - precision: 0.9997 - recall: 0.9852\n"
     ]
    }
   ],
   "source": [
    "train_res = model.evaluate(train_ds)"
   ]
  },
  {
   "cell_type": "code",
   "execution_count": 13,
   "metadata": {},
   "outputs": [
    {
     "name": "stdout",
     "output_type": "stream",
     "text": [
      "33/33 [==============================] - 7s 216ms/step - loss: 0.1467 - binary_accuracy: 0.9482 - precision: 0.9891 - recall: 0.9406\n"
     ]
    }
   ],
   "source": [
    "val_res = model.evaluate(val_ds)"
   ]
  },
  {
   "cell_type": "code",
   "execution_count": 14,
   "metadata": {},
   "outputs": [
    {
     "name": "stdout",
     "output_type": "stream",
     "text": [
      "Found 624 images belonging to 2 classes.\n"
     ]
    }
   ],
   "source": [
    "test_generator = keras.preprocessing.image.ImageDataGenerator(\n",
    "    rescale=1./255\n",
    ")\n",
    "\n",
    "test_ds = train_generator.flow_from_directory(\n",
    "    test_path,\n",
    "    target_size=(256,256),\n",
    "    class_mode='binary'\n",
    ")"
   ]
  },
  {
   "cell_type": "code",
   "execution_count": 15,
   "metadata": {},
   "outputs": [
    {
     "name": "stdout",
     "output_type": "stream",
     "text": [
      "20/20 [==============================] - 4s 183ms/step - loss: 0.8345 - binary_accuracy: 0.8093 - precision: 0.7705 - recall: 0.9897\n"
     ]
    }
   ],
   "source": [
    "test_res = model.evaluate(test_ds)"
   ]
  },
  {
   "cell_type": "code",
   "execution_count": 16,
   "metadata": {},
   "outputs": [
    {
     "name": "stdout",
     "output_type": "stream",
     "text": [
      "INFO:tensorflow:Assets written to: save_data/01_basic_model/assets\n"
     ]
    }
   ],
   "source": [
    "model.save('save_data/01_basic_model/')"
   ]
  }
 ],
 "metadata": {
  "interpreter": {
   "hash": "820d50b626c26dd23e815fdc6f0defc021162c216bd79fa699f42d79cf8fcc33"
  },
  "kernelspec": {
   "display_name": "Python 3.8.5 ('learn-env')",
   "language": "python",
   "name": "python3"
  },
  "language_info": {
   "codemirror_mode": {
    "name": "ipython",
    "version": 3
   },
   "file_extension": ".py",
   "mimetype": "text/x-python",
   "name": "python",
   "nbconvert_exporter": "python",
   "pygments_lexer": "ipython3",
   "version": "3.8.5"
  },
  "orig_nbformat": 4
 },
 "nbformat": 4,
 "nbformat_minor": 2
}
