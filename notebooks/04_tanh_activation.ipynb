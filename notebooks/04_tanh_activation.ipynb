{
 "cells": [
  {
   "cell_type": "code",
   "execution_count": 1,
   "metadata": {},
   "outputs": [],
   "source": [
    "import keras\n",
    "from keras import models\n",
    "from keras import layers\n",
    "from keras import optimizers\n",
    "from keras import metrics\n",
    "import matplotlib.pyplot as plt"
   ]
  },
  {
   "cell_type": "code",
   "execution_count": 2,
   "metadata": {},
   "outputs": [
    {
     "name": "stdout",
     "output_type": "stream",
     "text": [
      "Found 4175 images belonging to 2 classes.\n"
     ]
    }
   ],
   "source": [
    "train_path = '../chest_xray/train'\n",
    "test_path = '../chest_xray/test'\n",
    "val_path = '../chest_xray/val'\n",
    "\n",
    "train_generator = keras.preprocessing.image.ImageDataGenerator(\n",
    "    rescale=1./255,\n",
    "    horizontal_flip=True,\n",
    "    rotation_range=45,\n",
    "    zoom_range=0.3\n",
    ")\n",
    "\n",
    "train_ds = train_generator.flow_from_directory(\n",
    "    train_path,\n",
    "    target_size=(256,256),\n",
    "    class_mode='binary',\n",
    ")"
   ]
  },
  {
   "cell_type": "code",
   "execution_count": 3,
   "metadata": {},
   "outputs": [
    {
     "name": "stdout",
     "output_type": "stream",
     "text": [
      "Found 1057 images belonging to 2 classes.\n"
     ]
    }
   ],
   "source": [
    "val_generator = keras.preprocessing.image.ImageDataGenerator(\n",
    "    rescale=1./255\n",
    ")\n",
    "\n",
    "val_ds = val_generator.flow_from_directory(\n",
    "    val_path,\n",
    "    target_size=(256,256),\n",
    "    class_mode='binary',\n",
    ")"
   ]
  },
  {
   "cell_type": "code",
   "execution_count": 4,
   "metadata": {},
   "outputs": [
    {
     "name": "stdout",
     "output_type": "stream",
     "text": [
      "Found 624 images belonging to 2 classes.\n"
     ]
    }
   ],
   "source": [
    "test_generator = keras.preprocessing.image.ImageDataGenerator(\n",
    "    rescale=1./255\n",
    ")\n",
    "\n",
    "test_ds = test_generator.flow_from_directory(\n",
    "    test_path,\n",
    "    target_size=(256,256),\n",
    "    class_mode='binary'\n",
    ")"
   ]
  },
  {
   "cell_type": "code",
   "execution_count": 5,
   "metadata": {},
   "outputs": [],
   "source": [
    "model = models.Sequential()\n",
    "\n",
    "model.add(layers.Conv2D(32, (1, 1), activation='tanh',padding='same',\n",
    "                        input_shape=(256, 256, 3)))                     \n",
    "model.add(layers.MaxPooling2D((2, 2)))\n",
    "\n",
    "model.add(layers.Conv2D(64, (1, 1), activation='tanh',padding='same'))\n",
    "model.add(layers.MaxPooling2D((2, 2)))\n",
    "\n",
    "model.add(layers.Conv2D(128, (1, 1), activation='tanh',padding='same'))\n",
    "model.add(layers.MaxPooling2D((2, 2)))\n",
    "\n",
    "model.add(layers.Flatten())\n",
    "model.add(layers.Dense(256, activation='tanh'))\n",
    "model.add(layers.Dense(128, activation='tanh'))\n",
    "model.add(layers.Dense(64, activation='tanh'))\n",
    "model.add(layers.Dense(1, activation='sigmoid'))"
   ]
  },
  {
   "cell_type": "code",
   "execution_count": 6,
   "metadata": {},
   "outputs": [],
   "source": [
    "checkpoint = keras.callbacks.ModelCheckpoint(\n",
    "    monitor='val_loss',\n",
    "    filepath='save_data/04_tanh_activation.hdf5',\n",
    "    save_best_only=True,\n",
    "    verbose=0\n",
    ")\n",
    "\n",
    "callbacks = [checkpoint]"
   ]
  },
  {
   "cell_type": "code",
   "execution_count": 7,
   "metadata": {},
   "outputs": [
    {
     "name": "stdout",
     "output_type": "stream",
     "text": [
      "Model: \"sequential\"\n",
      "_________________________________________________________________\n",
      "Layer (type)                 Output Shape              Param #   \n",
      "=================================================================\n",
      "conv2d (Conv2D)              (None, 256, 256, 32)      128       \n",
      "_________________________________________________________________\n",
      "max_pooling2d (MaxPooling2D) (None, 128, 128, 32)      0         \n",
      "_________________________________________________________________\n",
      "conv2d_1 (Conv2D)            (None, 128, 128, 64)      2112      \n",
      "_________________________________________________________________\n",
      "max_pooling2d_1 (MaxPooling2 (None, 64, 64, 64)        0         \n",
      "_________________________________________________________________\n",
      "conv2d_2 (Conv2D)            (None, 64, 64, 128)       8320      \n",
      "_________________________________________________________________\n",
      "max_pooling2d_2 (MaxPooling2 (None, 32, 32, 128)       0         \n",
      "_________________________________________________________________\n",
      "flatten (Flatten)            (None, 131072)            0         \n",
      "_________________________________________________________________\n",
      "dense (Dense)                (None, 256)               33554688  \n",
      "_________________________________________________________________\n",
      "dense_1 (Dense)              (None, 128)               32896     \n",
      "_________________________________________________________________\n",
      "dense_2 (Dense)              (None, 64)                8256      \n",
      "_________________________________________________________________\n",
      "dense_3 (Dense)              (None, 1)                 65        \n",
      "=================================================================\n",
      "Total params: 33,606,465\n",
      "Trainable params: 33,606,465\n",
      "Non-trainable params: 0\n",
      "_________________________________________________________________\n",
      "None\n"
     ]
    }
   ],
   "source": [
    "use_metrics = [metrics.BinaryAccuracy(),\\\n",
    "                metrics.Precision(),\\\n",
    "                metrics.Recall()]\n",
    "\n",
    "model.compile(\n",
    "    loss='binary_crossentropy',\n",
    "    optimizer=optimizers.Adam(),\n",
    "    metrics=[use_metrics]\n",
    ")\n",
    "\n",
    "print(model.summary())"
   ]
  },
  {
   "cell_type": "code",
   "execution_count": 8,
   "metadata": {},
   "outputs": [
    {
     "name": "stdout",
     "output_type": "stream",
     "text": [
      "Epoch 1/20\n",
      "131/131 [==============================] - 86s 659ms/step - loss: 0.5912 - binary_accuracy: 0.7416 - precision: 0.7434 - recall: 0.9955 - val_loss: 0.5742 - val_binary_accuracy: 0.7408 - val_precision: 0.7408 - val_recall: 1.0000\n",
      "Epoch 2/20\n",
      "131/131 [==============================] - 86s 656ms/step - loss: 0.5731 - binary_accuracy: 0.7425 - precision: 0.7425 - recall: 1.0000 - val_loss: 0.5725 - val_binary_accuracy: 0.7408 - val_precision: 0.7408 - val_recall: 1.0000\n",
      "Epoch 3/20\n",
      "131/131 [==============================] - 86s 653ms/step - loss: 0.5722 - binary_accuracy: 0.7425 - precision: 0.7425 - recall: 1.0000 - val_loss: 0.5723 - val_binary_accuracy: 0.7408 - val_precision: 0.7408 - val_recall: 1.0000\n",
      "Epoch 4/20\n",
      "131/131 [==============================] - 85s 647ms/step - loss: 0.5706 - binary_accuracy: 0.7425 - precision: 0.7425 - recall: 1.0000 - val_loss: 0.5739 - val_binary_accuracy: 0.7408 - val_precision: 0.7408 - val_recall: 1.0000\n",
      "Epoch 5/20\n",
      "131/131 [==============================] - 85s 650ms/step - loss: 0.5722 - binary_accuracy: 0.7425 - precision: 0.7425 - recall: 1.0000 - val_loss: 0.5765 - val_binary_accuracy: 0.7408 - val_precision: 0.7408 - val_recall: 1.0000\n",
      "Epoch 6/20\n",
      "131/131 [==============================] - 85s 652ms/step - loss: 0.5712 - binary_accuracy: 0.7425 - precision: 0.7425 - recall: 1.0000 - val_loss: 0.5742 - val_binary_accuracy: 0.7408 - val_precision: 0.7408 - val_recall: 1.0000\n",
      "Epoch 7/20\n",
      "131/131 [==============================] - 85s 649ms/step - loss: 0.5715 - binary_accuracy: 0.7425 - precision: 0.7425 - recall: 1.0000 - val_loss: 0.5791 - val_binary_accuracy: 0.7408 - val_precision: 0.7408 - val_recall: 1.0000\n",
      "Epoch 8/20\n",
      "131/131 [==============================] - 85s 650ms/step - loss: 0.5722 - binary_accuracy: 0.7425 - precision: 0.7425 - recall: 1.0000 - val_loss: 0.5745 - val_binary_accuracy: 0.7408 - val_precision: 0.7408 - val_recall: 1.0000\n",
      "Epoch 9/20\n",
      "131/131 [==============================] - 85s 646ms/step - loss: 0.5729 - binary_accuracy: 0.7425 - precision: 0.7425 - recall: 1.0000 - val_loss: 0.5738 - val_binary_accuracy: 0.7408 - val_precision: 0.7408 - val_recall: 1.0000\n",
      "Epoch 10/20\n",
      "131/131 [==============================] - 86s 654ms/step - loss: 0.5722 - binary_accuracy: 0.7425 - precision: 0.7425 - recall: 1.0000 - val_loss: 0.5727 - val_binary_accuracy: 0.7408 - val_precision: 0.7408 - val_recall: 1.0000\n",
      "Epoch 11/20\n",
      "131/131 [==============================] - 85s 649ms/step - loss: 0.5713 - binary_accuracy: 0.7425 - precision: 0.7425 - recall: 1.0000 - val_loss: 0.5732 - val_binary_accuracy: 0.7408 - val_precision: 0.7408 - val_recall: 1.0000\n",
      "Epoch 12/20\n",
      "131/131 [==============================] - 85s 651ms/step - loss: 0.5721 - binary_accuracy: 0.7425 - precision: 0.7425 - recall: 1.0000 - val_loss: 0.5723 - val_binary_accuracy: 0.7408 - val_precision: 0.7408 - val_recall: 1.0000\n",
      "Epoch 13/20\n",
      "131/131 [==============================] - 85s 647ms/step - loss: 0.5715 - binary_accuracy: 0.7425 - precision: 0.7425 - recall: 1.0000 - val_loss: 0.5726 - val_binary_accuracy: 0.7408 - val_precision: 0.7408 - val_recall: 1.0000\n",
      "Epoch 14/20\n",
      "131/131 [==============================] - 85s 647ms/step - loss: 0.5719 - binary_accuracy: 0.7425 - precision: 0.7425 - recall: 1.0000 - val_loss: 0.5723 - val_binary_accuracy: 0.7408 - val_precision: 0.7408 - val_recall: 1.0000\n",
      "Epoch 15/20\n",
      "131/131 [==============================] - 85s 649ms/step - loss: 0.5712 - binary_accuracy: 0.7425 - precision: 0.7425 - recall: 1.0000 - val_loss: 0.5727 - val_binary_accuracy: 0.7408 - val_precision: 0.7408 - val_recall: 1.0000\n",
      "Epoch 16/20\n",
      "131/131 [==============================] - 85s 650ms/step - loss: 0.5713 - binary_accuracy: 0.7425 - precision: 0.7425 - recall: 1.0000 - val_loss: 0.5727 - val_binary_accuracy: 0.7408 - val_precision: 0.7408 - val_recall: 1.0000\n",
      "Epoch 17/20\n",
      "131/131 [==============================] - 85s 650ms/step - loss: 0.5716 - binary_accuracy: 0.7425 - precision: 0.7425 - recall: 1.0000 - val_loss: 0.5727 - val_binary_accuracy: 0.7408 - val_precision: 0.7408 - val_recall: 1.0000\n",
      "Epoch 18/20\n",
      "131/131 [==============================] - 85s 652ms/step - loss: 0.5711 - binary_accuracy: 0.7425 - precision: 0.7425 - recall: 1.0000 - val_loss: 0.5733 - val_binary_accuracy: 0.7408 - val_precision: 0.7408 - val_recall: 1.0000\n",
      "Epoch 19/20\n",
      "131/131 [==============================] - 85s 652ms/step - loss: 0.5717 - binary_accuracy: 0.7425 - precision: 0.7425 - recall: 1.0000 - val_loss: 0.5726 - val_binary_accuracy: 0.7408 - val_precision: 0.7408 - val_recall: 1.0000\n",
      "Epoch 20/20\n",
      "131/131 [==============================] - 85s 651ms/step - loss: 0.5718 - binary_accuracy: 0.7425 - precision: 0.7425 - recall: 1.0000 - val_loss: 0.5723 - val_binary_accuracy: 0.7408 - val_precision: 0.7408 - val_recall: 1.0000\n"
     ]
    }
   ],
   "source": [
    "history = model.fit(\n",
    "    train_ds,\n",
    "    validation_data=val_ds,\n",
    "    epochs=20,\n",
    "    callbacks=callbacks\n",
    ")\n",
    "\n",
    "model = keras.models.load_model('save_data/04_tanh_activation.hdf5')"
   ]
  },
  {
   "cell_type": "code",
   "execution_count": 9,
   "metadata": {},
   "outputs": [
    {
     "data": {
      "text/plain": [
       "<matplotlib.legend.Legend at 0x7f772059eca0>"
      ]
     },
     "execution_count": 9,
     "metadata": {},
     "output_type": "execute_result"
    },
    {
     "data": {
      "image/png": "[encoded data removed]",
      "text/plain": [
       "<Figure size 432x288 with 1 Axes>"
      ]
     },
     "metadata": {
      "needs_background": "light"
     },
     "output_type": "display_data"
    },
    {
     "data": {
      "image/png": "[encoded data removed]",
      "text/plain": [
       "<Figure size 432x288 with 1 Axes>"
      ]
     },
     "metadata": {
      "needs_background": "light"
     },
     "output_type": "display_data"
    }
   ],
   "source": [
    "acc = history.history['binary_accuracy']\n",
    "val_acc = history.history['val_binary_accuracy']\n",
    "loss = history.history['loss']\n",
    "val_loss = history.history['val_loss']\n",
    "epochs = range(len(acc))\n",
    "\n",
    "plt.plot(epochs, acc, label='Training acc')\n",
    "plt.plot(epochs, val_acc, label='Validation acc')\n",
    "plt.title('Training and validation accuracy')\n",
    "plt.legend()\n",
    "plt.figure()\n",
    "plt.plot(epochs, loss, label='Training loss')\n",
    "plt.plot(epochs, val_loss, label='Validation loss')\n",
    "plt.title('Training and validation loss')\n",
    "plt.legend()"
   ]
  },
  {
   "cell_type": "code",
   "execution_count": 10,
   "metadata": {},
   "outputs": [
    {
     "name": "stdout",
     "output_type": "stream",
     "text": [
      "131/131 [==============================] - 52s 398ms/step - loss: 0.5704 - binary_accuracy: 0.7425 - precision: 0.7425 - recall: 1.0000\n"
     ]
    }
   ],
   "source": [
    "train_res = model.evaluate(train_ds)"
   ]
  },
  {
   "cell_type": "code",
   "execution_count": 11,
   "metadata": {},
   "outputs": [
    {
     "name": "stdout",
     "output_type": "stream",
     "text": [
      "34/34 [==============================] - 7s 214ms/step - loss: 0.5723 - binary_accuracy: 0.7408 - precision: 0.7408 - recall: 1.0000\n"
     ]
    }
   ],
   "source": [
    "val_res = model.evaluate(val_ds)"
   ]
  },
  {
   "cell_type": "code",
   "execution_count": 12,
   "metadata": {},
   "outputs": [
    {
     "name": "stdout",
     "output_type": "stream",
     "text": [
      "20/20 [==============================] - 4s 185ms/step - loss: 0.6928 - binary_accuracy: 0.6250 - precision: 0.6250 - recall: 1.0000\n"
     ]
    }
   ],
   "source": [
    "test_res = model.evaluate(test_ds)"
   ]
  }
 ],
 "metadata": {
  "interpreter": {
   "hash": "820d50b626c26dd23e815fdc6f0defc021162c216bd79fa699f42d79cf8fcc33"
  },
  "kernelspec": {
   "display_name": "Python 3.8.5 ('learn-env')",
   "language": "python",
   "name": "python3"
  },
  "language_info": {
   "codemirror_mode": {
    "name": "ipython",
    "version": 3
   },
   "file_extension": ".py",
   "mimetype": "text/x-python",
   "name": "python",
   "nbconvert_exporter": "python",
   "pygments_lexer": "ipython3",
   "version": "3.8.5"
  },
  "orig_nbformat": 4
 },
 "nbformat": 4,
 "nbformat_minor": 2
}
